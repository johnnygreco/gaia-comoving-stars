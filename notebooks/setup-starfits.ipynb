{
 "cells": [
  {
   "cell_type": "markdown",
   "metadata": {},
   "source": [
    "The following uses commit `73a71d` of the [isochrones](github.com://timothydmorton/isochrones) package.\n",
    "\n",
    "[this is now superseded by `../scripts/gwb-setup-starfits` ]"
   ]
  },
  {
   "cell_type": "code",
   "execution_count": 2,
   "metadata": {
    "collapsed": true
   },
   "outputs": [],
   "source": [
    "from __future__ import print_function, division\n",
    "import os\n",
    "import numpy as np\n",
    "import pandas as pd\n",
    "\n",
    "DATADIR = os.getenv('GWBDATA', os.path.expanduser('~/.gwb'))\n",
    "GAIADIR = os.getenv('GAIADATA', os.path.expanduser('~/.gaia'))\n",
    "STARMODELDIR = os.path.join(DATADIR, 'starmodels')"
   ]
  },
  {
   "cell_type": "raw",
   "metadata": {},
   "source": [
    "# Make this a code block to generate the single hdf5 file of the TGAS\n",
    "#  Need all the Tgas*.csv.gz files in GAIADIR\n",
    "\n",
    "df = pd.read_csv(os.path.join(GAIADIR, 'TgasSource_000-000-000.csv.gz'))\n",
    "for i in range(1,16):\n",
    "    filename = os.path.join(GAIADIR, 'TgasSource_000-000-0{:02.0f}.csv.gz'.format(i))\n",
    "    #print(filename)\n",
    "    df = df.append(pd.read_csv(filename))\n",
    "df.to_hdf(os.path.join(GAIADIR, 'TgasSource.h5'), 'df')"
   ]
  },
  {
   "cell_type": "code",
   "execution_count": 3,
   "metadata": {
    "collapsed": true
   },
   "outputs": [],
   "source": [
    "TGAS = pd.read_hdf(os.path.join(GAIADIR, 'TgasSource.h5'), 'df')"
   ]
  },
  {
   "cell_type": "code",
   "execution_count": 18,
   "metadata": {
    "collapsed": false
   },
   "outputs": [],
   "source": [
    "from astropy.coordinates import SkyCoord\n",
    "from astropy import units as u\n",
    "\n",
    "from isochrones.query import Query, TwoMASS, Tycho2, WISE, EmptyQueryError\n",
    "from isochrones.extinction import get_AV_infinity\n",
    "import configobj\n",
    "\n",
    "\n",
    "class TGASQuery(Query):\n",
    "    \"\"\"Special subclass for a query based on TGAS DR1.  \n",
    "\n",
    "    `row` is a row of the Gaia DR1 table.\n",
    "    \"\"\"\n",
    "    def __init__(self, row, radius=5):\n",
    "        self.row = row\n",
    "        Query.__init__(self, row.ra, row.dec, row.pmra, row.pmdec, \n",
    "                        epoch=2015., radius=radius)\n",
    "\n",
    "def write_single_ini(i, catalogs=[TwoMASS, Tycho2, WISE]):\n",
    "    s = TGAS.iloc[i]\n",
    "    \n",
    "    directory = os.path.join(STARMODELDIR, 'singles', str(i))\n",
    "    if not os.path.exists(directory):\n",
    "        os.makedirs(directory)\n",
    "    \n",
    "    ini_file = os.path.join(directory, 'star.ini')\n",
    "    if os.path.exists(ini_file):\n",
    "        os.remove(ini_file)\n",
    "    c = configobj.ConfigObj(ini_file)\n",
    "    \n",
    "    # define these coords in epoch=2000\n",
    "    ra = (s.ra*u.deg - 15*u.yr*s.pmra*u.mas/u.yr).to('deg').value\n",
    "    dec = (s.dec*u.deg - 15*u.yr*s.pmdec*u.mas/u.yr).to('deg').value\n",
    "    coords1 = SkyCoord(ra, dec, unit='deg')\n",
    "    \n",
    "    c['ra'] = ra\n",
    "    c['dec'] = dec\n",
    "    c['maxAV'] = get_AV_infinity(ra, dec)\n",
    "    c['parallax'] = s.parallax, s.parallax_error \n",
    "\n",
    "    q = TGASQuery(s)\n",
    "    \n",
    "    for Cat in catalogs:\n",
    "        sect = configobj.Section(c, 1, c, {})\n",
    "        empty = True\n",
    "        \n",
    "        cat = Cat(q)\n",
    "        try: \n",
    "            mags = cat.get_photometry()\n",
    "            for b in mags:\n",
    "                sect[b] = mags[b]\n",
    "                \n",
    "            empty = False\n",
    "        except EmptyQueryError:\n",
    "            pass\n",
    "\n",
    "        if not empty:\n",
    "            n = Cat.name\n",
    "            c[n] = sect\n",
    "            c[n]['relative'] = False\n",
    "            c[n]['resolution'] = 4.\n",
    "\n",
    "    c.write()\n",
    "        \n",
    "def write_binary_ini(i1, i2, catalogs=[TwoMASS, Tycho2, WISE]):\n",
    "    \"\"\" Write ini file for i1-i2 pair\n",
    "    \"\"\"\n",
    "    if not i1 < i2:\n",
    "        i1, i2 = i2, i1\n",
    "    \n",
    "    s1 = TGAS.iloc[i1]\n",
    "    s2 = TGAS.iloc[i2]\n",
    "    \n",
    "    directory = os.path.join(STARMODELDIR, 'binaries', '{}-{}'.format(i1, i2))\n",
    "    if not os.path.exists(directory):\n",
    "        os.makedirs(directory)\n",
    "    \n",
    "    ini_file = os.path.join(directory, 'star.ini')\n",
    "    if os.path.exists(ini_file):\n",
    "        os.remove(ini_file)\n",
    "    c = configobj.ConfigObj(ini_file)\n",
    "    \n",
    "    # define these coords in epoch=2000\n",
    "    ra = (s1.ra*u.deg - 15*u.yr*s1.pmra*u.mas/u.yr).to('deg').value\n",
    "    dec = (s1.dec*u.deg - 15*u.yr*s1.pmdec*u.mas/u.yr).to('deg').value\n",
    "    coords1 = SkyCoord(ra, dec, unit='deg')\n",
    "    \n",
    "    c['ra'] = ra\n",
    "    c['dec'] = dec\n",
    "    c['maxAV'] = get_AV_infinity(ra, dec)\n",
    "\n",
    "    plax1, sig1 = s1.parallax, s1.parallax_error \n",
    "    plax2, sig2 = s2.parallax, s2.parallax_error\n",
    "\n",
    "    # Hack a consistent separation/PA so ObservationTree doesn't get confused\n",
    "    c1 = SkyCoord(s1.ra, s1.dec, unit='deg')\n",
    "    c2 = SkyCoord(s2.ra, s2.dec, unit='deg')\n",
    "    sep = c2.separation(c1).arcsec\n",
    "    PA = c2.position_angle(c1).deg\n",
    "    \n",
    "    norm = 1./sig1**2 + 1./sig2**2\n",
    "    c['parallax'] = (plax1/sig1**2 + plax2/sig2**2)/norm, 1/np.sqrt(norm)\n",
    "\n",
    "    q1 = TGASQuery(s1)\n",
    "    q2 = TGASQuery(s2)\n",
    "    \n",
    "    for Cat in catalogs:\n",
    "        sect = configobj.Section(c, 1, c, {})\n",
    "        empty = True\n",
    "        \n",
    "        cat1 = Cat(q1)\n",
    "        try: \n",
    "            mags = cat1.get_photometry()\n",
    "            for b in mags:\n",
    "                sect[b] = mags[b]\n",
    "                \n",
    "            empty = False\n",
    "        except EmptyQueryError:\n",
    "            pass\n",
    "        \n",
    "        cat2 = Cat(q2)\n",
    "        try: \n",
    "            mags = cat2.get_photometry()\n",
    "            for b in mags:\n",
    "                sect[b + '_1'] = mags[b]\n",
    "            sect['separation_1'] = sep #cat2.coords.separation(cat1.query_coords).arcsec[0]\n",
    "            sect['PA_1'] = PA #cat2.coords.position_angle(cat1.query_coords).deg[0]\n",
    "\n",
    "            empty = False\n",
    "        except EmptyQueryError:\n",
    "            pass\n",
    "        \n",
    "        if not empty:\n",
    "            n = Cat.name\n",
    "            c[n] = sect\n",
    "            c[n]['relative'] = False\n",
    "            c[n]['resolution'] = 4.\n",
    "    \n",
    "    c.write()"
   ]
  },
  {
   "cell_type": "code",
   "execution_count": 8,
   "metadata": {
    "collapsed": true
   },
   "outputs": [],
   "source": [
    "write_single_ini(541)"
   ]
  },
  {
   "cell_type": "code",
   "execution_count": 20,
   "metadata": {
    "collapsed": false
   },
   "outputs": [
    {
     "data": {
      "text/plain": [
       "(array([1199]), array([1203]))"
      ]
     },
     "execution_count": 20,
     "metadata": {},
     "output_type": "execute_result"
    }
   ],
   "source": [
    "# First example pair\n",
    "(np.where(TGAS.source_id==10584895361388800)[0], \n",
    "    np.where(TGAS.source_id==10608569223157760)[0])"
   ]
  },
  {
   "cell_type": "code",
   "execution_count": 21,
   "metadata": {
    "collapsed": true
   },
   "outputs": [],
   "source": [
    "write_binary_ini(1199, 1203)"
   ]
  },
  {
   "cell_type": "code",
   "execution_count": 24,
   "metadata": {
    "collapsed": false
   },
   "outputs": [
    {
     "data": {
      "text/plain": [
       "(7627862074752, 13)"
      ]
     },
     "execution_count": 24,
     "metadata": {},
     "output_type": "execute_result"
    }
   ],
   "source": [
    "TGAS.source_id.min(), len(str(TGAS.source_id.min()))"
   ]
  },
  {
   "cell_type": "code",
   "execution_count": 25,
   "metadata": {
    "collapsed": false
   },
   "outputs": [
    {
     "data": {
      "text/plain": [
       "(6917521537218608640, 19)"
      ]
     },
     "execution_count": 25,
     "metadata": {},
     "output_type": "execute_result"
    }
   ],
   "source": [
    "TGAS.source_id.max(), len(str(TGAS.source_id.max()))"
   ]
  },
  {
   "cell_type": "code",
   "execution_count": 26,
   "metadata": {
    "collapsed": false
   },
   "outputs": [
    {
     "data": {
      "text/plain": [
       "2057050"
      ]
     },
     "execution_count": 26,
     "metadata": {},
     "output_type": "execute_result"
    }
   ],
   "source": [
    "len(TGAS)"
   ]
  },
  {
   "cell_type": "code",
   "execution_count": 1,
   "metadata": {
    "collapsed": false
   },
   "outputs": [
    {
     "ename": "NameError",
     "evalue": "name 'TGAS' is not defined",
     "output_type": "error",
     "traceback": [
      "\u001b[0;31m---------------------------------------------------------------------------\u001b[0m",
      "\u001b[0;31mNameError\u001b[0m                                 Traceback (most recent call last)",
      "\u001b[0;32m<ipython-input-1-b646d99a2bde>\u001b[0m in \u001b[0;36m<module>\u001b[0;34m()\u001b[0m\n\u001b[0;32m----> 1\u001b[0;31m \u001b[0mTGAS\u001b[0m\u001b[0;34m.\u001b[0m\u001b[0mra\u001b[0m\u001b[0;34m[\u001b[0m\u001b[0;36m0\u001b[0m\u001b[0;34m]\u001b[0m\u001b[0;34m\u001b[0m\u001b[0m\n\u001b[0m",
      "\u001b[0;31mNameError\u001b[0m: name 'TGAS' is not defined"
     ]
    }
   ],
   "source": [
    "TGAS.ra[0]"
   ]
  },
  {
   "cell_type": "code",
   "execution_count": 5,
   "metadata": {
    "collapsed": false
   },
   "outputs": [
    {
     "data": {
      "text/plain": [
       "(45.03433035439128, 0.23539164875137225)"
      ]
     },
     "execution_count": 5,
     "metadata": {},
     "output_type": "execute_result"
    }
   ],
   "source": [
    "TGAS.ra.iloc[0], TGAS.dec.iloc[0]"
   ]
  },
  {
   "cell_type": "code",
   "execution_count": 9,
   "metadata": {
    "collapsed": false
   },
   "outputs": [
    {
     "data": {
      "text/plain": [
       "count    2.057050e+06\n",
       "mean     3.657318e+18\n",
       "std      1.993599e+18\n",
       "min      7.627862e+12\n",
       "25%      1.985266e+18\n",
       "50%      3.727308e+18\n",
       "75%      5.521946e+18\n",
       "max      6.917522e+18\n",
       "Name: source_id, dtype: float64"
      ]
     },
     "execution_count": 9,
     "metadata": {},
     "output_type": "execute_result"
    }
   ],
   "source": [
    "TGAS.source_id.describe()"
   ]
  },
  {
   "cell_type": "code",
   "execution_count": null,
   "metadata": {
    "collapsed": true
   },
   "outputs": [],
   "source": []
  }
 ],
 "metadata": {
  "kernelspec": {
   "display_name": "Python 2",
   "language": "python",
   "name": "python2"
  }
 },
 "nbformat": 4,
 "nbformat_minor": 0
}
