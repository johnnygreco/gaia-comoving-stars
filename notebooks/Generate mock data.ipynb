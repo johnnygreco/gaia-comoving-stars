{
 "cells": [
  {
   "cell_type": "code",
   "execution_count": 8,
   "metadata": {
    "collapsed": true
   },
   "outputs": [],
   "source": [
    "import sys\n",
    "import os\n",
    "top_path = os.path.abspath('../')\n",
    "if top_path not in sys.path:\n",
    "    sys.path.insert(0, top_path)\n",
    "\n",
    "# Third-party\n",
    "from astropy.io import fits\n",
    "import astropy.units as u\n",
    "import matplotlib as mpl\n",
    "import numpy as np\n",
    "\n",
    "from gwb.likelihood import get_tangent_basis"
   ]
  },
  {
   "cell_type": "code",
   "execution_count": 17,
   "metadata": {
    "collapsed": true
   },
   "outputs": [],
   "source": [
    "colnames = ['ra', 'dec', 'parallax', 'pmra', 'pmdec', 'Cinv',\n",
    "            'true_dist', 'true_vx', 'true_vy', 'true_vz']\n",
    "dtypes = [('f8',), ('f8',), ('f8',), ('f8',), ('f8',), ('f8', (4,4)),\n",
    "          ('f8',), ('f8',), ('f8',), ('f8',)]\n",
    "dtype = [(name,)+dt for name,dt in zip(colnames, dtypes)]"
   ]
  },
  {
   "cell_type": "code",
   "execution_count": 2,
   "metadata": {
    "collapsed": true
   },
   "outputs": [],
   "source": [
    "def make_pair_same_v(d1, sep_pc):\n",
    "    \"\"\"\n",
    "    Given a distance to star 1, and a physical separation, generate mock \n",
    "    data for a pair of stars with the same 3-space velocity.\n",
    "    \"\"\"\n",
    "    \n",
    "    # 3-space, cartesian velocity vector\n",
    "    true_v = np.random.normal(0, 30., size=3)\n",
    "    \n",
    "    # random position\n",
    "    ra1 = np.random.uniform(0, 2*np.pi)\n",
    "    dec1 = np.pi/2. - np.arccos(2*np.random.uniform() - 1.)\n",
    "    v1 = get_tangent_basis(ra1, dec1).dot(true_v)\n",
    "\n",
    "    ra2 = ra1 + np.random.choice([1.,-1.])*sep_pc/np.sqrt(2.)/d1\n",
    "    dec_choice = np.random.choice([1.,-1.])\n",
    "    dec2 = dec1 + dec_choice*sep_pc/np.sqrt(2.)/d1\n",
    "    if dec2 > np.pi/2 or dec2 < -np.pi/2.:\n",
    "        dec2 += -2*dec_choice*sep_pc/np.sqrt(2.)/d1\n",
    "\n",
    "    d2 = d1 + np.random.choice([1.,-1.])*sep_pc/np.sqrt(2.)\n",
    "    v2 = get_tangent_basis(ra2, dec2).dot(true_v)\n",
    "\n",
    "    # picked at random from TGAS data\n",
    "    Cov1 = np.array([[0.066019, 0.0581179, -0.06287875],\n",
    "                     [0.0581179, 2.76016904, -1.31836247],\n",
    "                     [-0.06287875, -1.31836247, 0.83536227]])\n",
    "    Cov2 = np.array([[0.07143981, 0.31518988, -0.11283286],\n",
    "                     [0.31518988, 6.78049538, -2.21299533],\n",
    "                     [-0.11283286, -2.21299533, 0.9342514]])\n",
    "\n",
    "    plx1 = (d1*u.pc).to(u.mas,u.parallax()).value\n",
    "    plx2 = (d2*u.pc).to(u.mas,u.parallax()).value\n",
    "\n",
    "    pm1 = (v1[:2] / d1 * u.km/u.s/u.pc).to(u.mas/u.yr, u.dimensionless_angles()).value\n",
    "    pm2 = (v2[:2] / d2 * u.km/u.s/u.pc).to(u.mas/u.yr, u.dimensionless_angles()).value\n",
    "\n",
    "    true_x1 = np.concatenate(([plx1],pm1))\n",
    "    true_x2 = np.concatenate(([plx2],pm2))\n",
    "\n",
    "    x1 = np.zeros(4) # ignore vr\n",
    "    x1[:3] = np.random.multivariate_normal(true_x1, Cov1)\n",
    "\n",
    "    x2 = np.zeros(4) # ignore vr\n",
    "    x2[:3] = np.random.multivariate_normal(true_x2, Cov2)\n",
    "\n",
    "    Cinv1 = np.zeros((4,4))\n",
    "    Cinv1[:3,:3] = np.linalg.inv(Cov1)\n",
    "\n",
    "    Cinv2 = np.zeros((4,4))\n",
    "    Cinv2[:3,:3] = np.linalg.inv(Cov2)\n",
    "\n",
    "    return (ra1,dec1,x1[0],x1[1],x1[2],Cinv1), (ra2,dec2,x2[0],x2[1],x2[2],Cinv2), true_x1, true_x2, true_v"
   ]
  },
  {
   "cell_type": "code",
   "execution_count": 16,
   "metadata": {
    "collapsed": false
   },
   "outputs": [],
   "source": [
    "filename1 = '../data/mock-same-vel-pairs-1.fits'\n",
    "filename2 = '../data/mock-same-vel-pairs-2.fits'\n",
    "\n",
    "rows1 = []\n",
    "rows2 = []\n",
    "for d1 in [51.41, 154.68, 223.893]:\n",
    "    for sep_pc in [1E-1, 1., 3.]:\n",
    "        data1, data2, true_x1, true_x2, true_v = make_pair_same_v(d1, sep_pc)\n",
    "        \n",
    "        row1 = data1 + (1000/true_x1[0],) + tuple(true_v)\n",
    "        rows1.append(row1)\n",
    "        \n",
    "        row2 = data2 + (1000/true_x2[0],) + tuple(true_v)\n",
    "        rows2.append(row2)\n",
    "\n",
    "hdu1 = fits.BinTableHDU(np.array(rows1, dtype=dtype))\n",
    "hdu1.writeto(filename1)\n",
    "\n",
    "hdu2 = fits.BinTableHDU(np.array(rows2, dtype=dtype))\n",
    "hdu2.writeto(filename2)"
   ]
  },
  {
   "cell_type": "markdown",
   "metadata": {},
   "source": [
    "---\n",
    "\n",
    "## Pairs with different true velocities"
   ]
  },
  {
   "cell_type": "code",
   "execution_count": 18,
   "metadata": {
    "collapsed": true
   },
   "outputs": [],
   "source": [
    "def make_pair_diff_v(d1, sep_pc):\n",
    "    \"\"\"\n",
    "    Given a distance to star 1, and a physical separation, generate mock \n",
    "    data for a pair of stars with the same 3-space velocity.\n",
    "    \"\"\"\n",
    "    \n",
    "    true_v1 = np.random.normal(0, 30., size=3)\n",
    "    true_v2 = np.random.normal(0, 30., size=3)\n",
    "\n",
    "    ra1 = np.random.uniform(0, 2*np.pi)\n",
    "    dec1 = np.pi/2. - np.arccos(2*np.random.uniform() - 1.)\n",
    "    v1 = get_tangent_basis(ra1, dec1).dot(true_v1)\n",
    "\n",
    "    ra2 = ra1 + np.random.choice([1.,-1.])*sep_pc/np.sqrt(2.)/d1\n",
    "    dec_choice = np.random.choice([1.,-1.])\n",
    "    dec2 = dec1 + dec_choice*sep_pc/np.sqrt(2.)/d1\n",
    "    if dec2 > np.pi/2 or dec2 < -np.pi/2.:\n",
    "        dec2 += -2*dec_choice*sep_pc/np.sqrt(2.)/d1\n",
    "\n",
    "    d2 = d1 + np.random.choice([1.,-1.])*sep_pc/np.sqrt(2.)\n",
    "    v2 = get_tangent_basis(ra2, dec2).dot(true_v2)\n",
    "\n",
    "    # picked at random from TGAS data\n",
    "    Cov1 = np.array([[0.066019, 0.0581179, -0.06287875],\n",
    "                     [0.0581179, 2.76016904, -1.31836247],\n",
    "                     [-0.06287875, -1.31836247, 0.83536227]])\n",
    "    Cov2 = np.array([[0.07143981, 0.31518988, -0.11283286],\n",
    "                     [0.31518988, 6.78049538, -2.21299533],\n",
    "                     [-0.11283286, -2.21299533, 0.9342514]])\n",
    "\n",
    "    plx1 = (d1*u.pc).to(u.mas,u.parallax()).value\n",
    "    plx2 = (d2*u.pc).to(u.mas,u.parallax()).value\n",
    "\n",
    "    pm1 = (v1[:2] / d1 * u.km/u.s/u.pc).to(u.mas/u.yr, u.dimensionless_angles()).value\n",
    "    pm2 = (v2[:2] / d2 * u.km/u.s/u.pc).to(u.mas/u.yr, u.dimensionless_angles()).value\n",
    "\n",
    "    true_x1 = np.concatenate(([plx1],pm1))\n",
    "    true_x2 = np.concatenate(([plx2],pm2))\n",
    "\n",
    "    x1 = np.zeros(4) # ignore vr\n",
    "    x1[:3] = np.random.multivariate_normal(true_x1, Cov1)\n",
    "\n",
    "    x2 = np.zeros(4) # ignore vr\n",
    "    x2[:3] = np.random.multivariate_normal(true_x2, Cov2)\n",
    "\n",
    "    Cinv1 = np.zeros((4,4))\n",
    "    Cinv1[:3,:3] = np.linalg.inv(Cov1)\n",
    "\n",
    "    Cinv2 = np.zeros((4,4))\n",
    "    Cinv2[:3,:3] = np.linalg.inv(Cov2)\n",
    "\n",
    "    return (ra1,dec1,x1[0],x1[1],x1[2],Cinv1), (ra2,dec2,x2[0],x2[1],x2[2],Cinv2), true_x1, true_x2, true_v1, true_v2"
   ]
  },
  {
   "cell_type": "code",
   "execution_count": 19,
   "metadata": {
    "collapsed": true
   },
   "outputs": [],
   "source": [
    "filename1 = '../data/mock-diff-vel-pairs-1.fits'\n",
    "filename2 = '../data/mock-diff-vel-pairs-2.fits'\n",
    "\n",
    "rows1 = []\n",
    "rows2 = []\n",
    "for d1 in [51.41, 154.68, 223.893]:\n",
    "    for sep_pc in [1E-1, 1., 3.]:\n",
    "        data1, data2, true_x1, true_x2, true_v1, true_v2 = make_pair_diff_v(d1, sep_pc)\n",
    "        \n",
    "        row1 = data1 + (1000/true_x1[0],) + tuple(true_v1)\n",
    "        rows1.append(row1)\n",
    "        \n",
    "        row2 = data2 + (1000/true_x2[0],) + tuple(true_v2)\n",
    "        rows2.append(row2)\n",
    "\n",
    "hdu1 = fits.BinTableHDU(np.array(rows1, dtype=dtype))\n",
    "hdu1.writeto(filename1)\n",
    "\n",
    "hdu2 = fits.BinTableHDU(np.array(rows2, dtype=dtype))\n",
    "hdu2.writeto(filename2)"
   ]
  },
  {
   "cell_type": "code",
   "execution_count": null,
   "metadata": {
    "collapsed": true
   },
   "outputs": [],
   "source": []
  }
 ],
 "metadata": {
  "anaconda-cloud": {},
  "kernelspec": {
   "display_name": "Python [conda env:three]",
   "language": "python",
   "name": "conda-env-three-py"
  },
  "language_info": {
   "codemirror_mode": {
    "name": "ipython",
    "version": 3
   },
   "file_extension": ".py",
   "mimetype": "text/x-python",
   "name": "python",
   "nbconvert_exporter": "python",
   "pygments_lexer": "ipython3",
   "version": "3.5.2"
  }
 },
 "nbformat": 4,
 "nbformat_minor": 1
}
