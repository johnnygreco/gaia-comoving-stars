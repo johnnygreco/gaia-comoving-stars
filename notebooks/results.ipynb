{
 "cells": [
  {
   "cell_type": "code",
   "execution_count": null,
   "metadata": {
    "collapsed": false
   },
   "outputs": [],
   "source": [
    "%pylab inline\n",
    "import h5py\n",
    "import fitsio\n",
    "import astropy.units as u\n",
    "from astropy.io import fits\n",
    "from astropy.table import Table\n",
    "from astropy.visualization import hist\n",
    "from astropy import coordinates as coords\n",
    "from scipy import stats\n",
    "import networkx as nx\n",
    "\n",
    "import gwb"
   ]
  },
  {
   "cell_type": "code",
   "execution_count": null,
   "metadata": {
    "collapsed": false
   },
   "outputs": [],
   "source": [
    "print(style.available)"
   ]
  },
  {
   "cell_type": "code",
   "execution_count": null,
   "metadata": {
    "collapsed": false
   },
   "outputs": [],
   "source": [
    "style.use(['seaborn-colorblind', 'notebook.mplstyle'])"
   ]
  },
  {
   "cell_type": "markdown",
   "metadata": {},
   "source": [
    "# Load Data"
   ]
  },
  {
   "cell_type": "code",
   "execution_count": null,
   "metadata": {
    "collapsed": false
   },
   "outputs": [],
   "source": [
    "tgas = gwb.TGASData('../data/stacked_tgas.fits')"
   ]
  },
  {
   "cell_type": "code",
   "execution_count": null,
   "metadata": {
    "collapsed": false
   },
   "outputs": [],
   "source": [
    "pairidx_rand = fits.getdata('../output/random/snr8_random200000.fits')\n",
    "with h5py.File(\"../output/random/snr8_random200000_vscatter0-lratio.h5\") as f:\n",
    "    lnH1_rand = f['lnH1'].value\n",
    "    lnH2_rand = f['lnH2'].value\n",
    "    llr_rand = lnH1_rand - lnH2_rand\n",
    "# throw out nans\n",
    "bad = isnan(llr_rand)\n",
    "pairidx_rand = pairidx_rand[~bad]\n",
    "lnH1_rand = lnH1_rand[~bad]\n",
    "lnH2_rand = lnH2_rand[~bad]\n",
    "llr_rand = llr_rand[~bad]\n",
    "\n",
    "# pairidx_rand_sn32 = fits.getdata('../output/random/snr32_random100000.fits')\n",
    "# with h5py.File(\"../output/random/snr32_random100000_vscatter0-lratio.h5\") as f:\n",
    "#     lnH1_rand_sn32 = f['lnH1'].value\n",
    "#     lnH2_rand_sn32 = f['lnH2'].value\n",
    "#     llr_rand_sn32 = lnH1_rand_sn32 - lnH2_rand_sn32\n",
    "# # throw out nans\n",
    "# bad = isnan(llr_rand_sn32)\n",
    "# pairidx_rand_sn32 = pairidx_rand_sn32[~bad]\n",
    "# lnH1_rand_sn32 = lnH1_rand_sn32[~bad]\n",
    "# lnH2_rand_sn32 = lnH2_rand_sn32[~bad]\n",
    "# llr_rand_sn32 = llr_rand_sn32[~bad]\n",
    "\n",
    "# pairidx = fits.getdata('../output/21081/snr8_n128_dv10_new.fits')\n",
    "# with h5py.File(\"../output/21081/snr8_n128_dv10_vscatter0-lratio.h5\") as f:\n",
    "#     lnH1 = f['lnH1'].value\n",
    "#     lnH2 = f['lnH2'].value\n",
    "#     llr = lnH1 - lnH2\n",
    "pairidx = fits.getdata('../output/23560/snr8_r10_dv10.fits')\n",
    "with h5py.File(\"../output/23560/snr8_r10_dv10_vscatter0-lratio.h5\") as f:\n",
    "    lnH1 = f['lnH1'].value\n",
    "    lnH2 = f['lnH2'].value\n",
    "    llr = lnH1 - lnH2"
   ]
  },
  {
   "cell_type": "code",
   "execution_count": null,
   "metadata": {
    "collapsed": false
   },
   "outputs": [],
   "source": [
    "parallax_snr = tgas.parallax_snr\n",
    "vtan = tgas.get_vtan().value\n",
    "c = tgas.get_coord()\n",
    "d = tgas.get_distance().value\n",
    "\n",
    "star1, star2 = pairidx['star1'], pairidx['star2']\n",
    "min_snr = np.min(np.vstack((parallax_snr[star1], parallax_snr[star2])), axis=0)\n",
    "dvtan = norm(vtan[star1]-vtan[star2], axis=1)\n",
    "vtanmean = (vtan[star1] + vtan[star2])*0.5\n",
    "sep = c[star1].separation_3d(c[star2]).value\n",
    "sep_sky = c[star1].separation(c[star2])\n",
    "\n",
    "c1 = c[star1]\n",
    "c2 = c[star2]\n",
    "ra1, dec1 = c1.ra.value, c1.dec.value\n",
    "ra2, dec2 = c2.ra.value, c2.dec.value\n",
    "l1, b1 = c1.transform_to(coords.Galactic).l.value, c1.transform_to(coords.Galactic).b.value\n",
    "l2, b2 = c2.transform_to(coords.Galactic).l.value, c2.transform_to(coords.Galactic).b.value\n",
    "d1 = d[star1]\n",
    "d2 = d[star2]\n",
    "dmean = (d1+d2)*0.5"
   ]
  },
  {
   "cell_type": "code",
   "execution_count": null,
   "metadata": {
    "collapsed": false
   },
   "outputs": [],
   "source": [
    "pairidx.size"
   ]
  },
  {
   "cell_type": "markdown",
   "metadata": {},
   "source": [
    "# Figure: Likelihood ratio histogram"
   ]
  },
  {
   "cell_type": "code",
   "execution_count": null,
   "metadata": {
    "collapsed": true
   },
   "outputs": [],
   "source": [
    "rc('text', usetex=True)\n",
    "rcParams['text.latex.preamble']=[r\"\\usepackage{amsmath}\"]\n",
    "\n",
    "rc('font',**{'family':'sans-serif','sans-serif':['Helvetica Neue']})"
   ]
  },
  {
   "cell_type": "code",
   "execution_count": null,
   "metadata": {
    "collapsed": false
   },
   "outputs": [],
   "source": [
    "# import corner\n",
    "\n",
    "# corner.hist2d(log10(pairidx['sep']), pairidx['delta_v'],\n",
    "#               data_kwargs={\"alpha\":.3})\n",
    "axes([0.2,0.18,0.75,0.77])\n",
    "plot(pairidx['sep'], pairidx['delta_v'], 'k.', alpha=0.3, ms=3, rasterized=True)\n",
    "xlabel(r'separation $|\\Delta \\boldsymbol{x}|$ [pc]', size=20)\n",
    "yl = ylabel(r'$|\\Delta \\boldsymbol{v}_{\\rm{t}}|$ [km s$^{-1}$]')\n",
    "figtext(0.05, 0.55, \"tangential velocity difference\", ha='center', va='center',\n",
    "        rotation='vertical', size=20)\n",
    "\n",
    "from astropy.constants import G\n",
    "tmpsep = logspace(-3,1)\n",
    "v = sqrt(G*(2*u.solMass)/(tmpsep*u.pc)).to(u.km/u.s).value\n",
    "plot(tmpsep, v, label=r\"$v_\\mathrm{orb} (a)$\"\n",
    "     \"\\n\"\n",
    "     r\"(assuming $M=2\\,M_\\odot$)\")\n",
    "legend(loc='upper left', fontsize=15, frameon=False)\n",
    "\n",
    "xscale('log')\n",
    "_ = yticks([0,2,4,6,8,10])\n",
    "\n",
    "savefig('../paper/figures/sep_dvtan.pdf', dpi=150)"
   ]
  },
  {
   "cell_type": "code",
   "execution_count": null,
   "metadata": {
    "collapsed": false,
    "scrolled": false
   },
   "outputs": [],
   "source": [
    "fig, ax = subplots(1, 2, figsize=(10,4))\n",
    "fig.subplots_adjust(left=0.1, right=0.98, bottom=0.2, top=0.95, wspace=.2)\n",
    "sca(ax[0])\n",
    "hist(llr, bins=np.linspace(-50,12,256), color='k', histtype='step',\n",
    "        normed=True, label='entire candidate pairs', lw=2)\n",
    "# slices in dvtan\n",
    "for cut, color in zip([0.5, 5, 9.5], ['#253494','#2c7fb8','#41b6c4']):\n",
    "    cond_dvtan_strip = fabs(dvtan-cut)<0.5\n",
    "    print('dvtan', cut, cond_dvtan_strip.sum())\n",
    "    hist(llr[cond_dvtan_strip], lw=1.5,\n",
    "         bins=np.linspace(-15,12,64), color=color,\n",
    "         normed=True, histtype='step',\n",
    "         label=r'|$\\Delta v_t -$%.1f| < 0.5' % (cut), )\n",
    "# random pairs of stars\n",
    "_ = hist(llr_rand, bins=linspace(-15,12,64),\n",
    "         color='0.8', normed=True, zorder=-1,\n",
    "         label='random pairs')\n",
    "\n",
    "legend(loc='upper left', frameon=False)\n",
    "xlim(-5,10)\n",
    "xlabel(r'$\\ln (L_1/L_2)$')\n",
    "ylabel('density')\n",
    "tick_params(axis='both', length=8, width=1.)\n",
    "\n",
    "sca(ax[1])\n",
    "# slices in ln(L1/L2)\n",
    "# for cut, color, ms in zip([2, 5, 6.5], ['#969696', '#636363', '#252525'], [4, 2, .5]):\n",
    "for cut, color, ms in zip([2, 5, 6.5], ['0.7', '0.4', '0.'], [4, 2, .5]):\n",
    "    cond_lr_slice = fabs(llr-cut)<0.25\n",
    "    print('ln(L1/L2)', cut, cond_lr_slice.sum())\n",
    "    plot(log10(pairidx['sep'][cond_lr_slice]), pairidx['delta_v'][cond_lr_slice],\n",
    "         c=color, marker='o', ls='None', ms=2, alpha=.5,\n",
    "         label='|$\\ln (L_1/L_2)-$%.1f|<0.25' % (cut))\n",
    "xlabel('log separation [pc]',)\n",
    "ylabel('$|\\Delta v_t|$ [km s$^{-1}$]', labelpad=-5)\n",
    "xticks([-2,-1,0,1])\n",
    "leg = legend(loc='upper left', numpoints=1, markerscale=3, frameon=False)\n",
    "\n",
    "# savefig('../paper/figures/likelihoodratios.pdf')"
   ]
  },
  {
   "cell_type": "code",
   "execution_count": null,
   "metadata": {
    "collapsed": false
   },
   "outputs": [],
   "source": [
    "sum(pairidx['sep']<1), sum((sep<1) & (llr>6))"
   ]
  },
  {
   "cell_type": "code",
   "execution_count": null,
   "metadata": {
    "collapsed": false
   },
   "outputs": [],
   "source": [
    "_ = hist(llr, bins=linspace(2,13,128),cumulative=-1, log=True, histtype='step')\n",
    "_ = hist(llr[sep<1], bins=linspace(2,13,128),cumulative=-1, log=True)\n",
    "_ = hist(llr[sep>1], bins=linspace(2,13,128),cumulative=-1, log=True, histtype='step')\n",
    "gca().invert_xaxis()\n",
    "ylabel('cumulative number of pairs', size=15)\n",
    "xlabel('$\\ln (L_1/L_2)$')\n",
    "\n",
    "figure()\n",
    "_=hist(llr[sep<1], linspace(-50,50,128))\n",
    "xlim(-5,15)\n",
    "grid()"
   ]
  },
  {
   "cell_type": "code",
   "execution_count": null,
   "metadata": {
    "collapsed": false
   },
   "outputs": [],
   "source": [
    "cond_lr_cut = llr>6\n",
    "print(cond_lr_cut.sum(), sum((sep<1)&cond_lr_cut))\n",
    "cmpairs = pairidx[cond_lr_cut]"
   ]
  },
  {
   "cell_type": "code",
   "execution_count": null,
   "metadata": {
    "collapsed": false
   },
   "outputs": [],
   "source": [
    "sum(llr_rand>6)/llr_rand.size, sum((llr_rand>6) & (pairidx_rand['delta_v']<10))/(pairidx_rand['delta_v']<10).sum()"
   ]
  },
  {
   "cell_type": "markdown",
   "metadata": {},
   "source": [
    "# Examine the network of pairs"
   ]
  },
  {
   "cell_type": "code",
   "execution_count": null,
   "metadata": {
    "collapsed": false
   },
   "outputs": [],
   "source": [
    "graph = nx.from_edgelist(\n",
    "    [(i,j) for i,j in zip(cmpairs['star1'],cmpairs['star2'])])"
   ]
  },
  {
   "cell_type": "code",
   "execution_count": null,
   "metadata": {
    "collapsed": false
   },
   "outputs": [],
   "source": [
    "connected = array([array(list(c)) for c in nx.connected_components(graph)])\n",
    "sizes = array([len(c) for c in nx.connected_components(graph)])\n",
    "print('number of nodes %i' % (len(graph)))\n",
    "print('total number of connected components %i' % (connected.size))\n",
    "print(min(sizes),max(sizes))"
   ]
  },
  {
   "cell_type": "code",
   "execution_count": null,
   "metadata": {
    "collapsed": false
   },
   "outputs": [],
   "source": [
    "nn_nodes = array([len(graph.neighbors(i)) for i in graph.nodes()])\n",
    "print('most connected star ind %i connection size %i' % (graph.nodes()[nn_nodes.argmax()], nn_nodes.max()))\n",
    "print(tgas[graph.nodes()[nn_nodes.argmax()]]._data)"
   ]
  },
  {
   "cell_type": "code",
   "execution_count": null,
   "metadata": {
    "collapsed": false,
    "scrolled": false
   },
   "outputs": [],
   "source": [
    "counts,_,_ = hist(sizes, bins=arange(1.5,10.6,1), log=True,\n",
    "                  histtype='bar', color='k', facecolor='None', edgecolor='k')\n",
    "print(counts.sum())\n",
    "xlim(1.5, 11.5)\n",
    "xticks([2,3,4,5,6,7,8,9,10,11])\n",
    "xlabel('size of connected component')\n",
    "ylabel('count')\n",
    "text(0.95, 0.95, '%i with size $>$ 10 not shown' % ((sizes>10).sum()),\n",
    "     transform=gca().transAxes, va='top', ha='right', size=15)\n",
    "tight_layout()\n",
    "savefig('../paper/figures/dist_networksize.pdf')"
   ]
  },
  {
   "cell_type": "code",
   "execution_count": null,
   "metadata": {
    "collapsed": true
   },
   "outputs": [],
   "source": [
    "# sorted list of subgraphs from largest to smallest\n",
    "Gc = array(sorted(nx.connected_component_subgraphs(graph), key=len, reverse=True))\n",
    "sizes = array([len(g) for g in Gc])"
   ]
  },
  {
   "cell_type": "code",
   "execution_count": null,
   "metadata": {
    "collapsed": false,
    "scrolled": true
   },
   "outputs": [],
   "source": [
    "from mpl_toolkits.axes_grid1 import ImageGrid\n",
    "import matplotlib.gridspec as gridspec\n",
    "\n",
    "def set_line_alpha(ax):\n",
    "    linecollection = ax.collections[1]\n",
    "    linecollection.set_alpha(0.5)\n",
    "\n",
    "fig = figure(figsize=(10,4))\n",
    "fig.subplots_adjust(top=0.95, right=0.98, bottom=0.17, left=0.08)\n",
    "ax0 = subplot(121)\n",
    "g = Gc[0]\n",
    "# pos = {node:(tgas.l[node], d[node]) for node in g.nodes()}\n",
    "pos = {node:(tgas.ra.value[node], tgas.dec.value[node]) for node in g.nodes()}\n",
    "nx.draw_networkx(g, pos=pos, node_size=10, width=.5, with_labels=False, alpha=1)\n",
    "set_line_alpha(ax0)\n",
    "xlabel(r'$\\alpha$ [deg]')\n",
    "ylabel(r'$\\delta$ [deg]')\n",
    "text(0.05, 0.05, 'size=%i\\n%i edges' % (len(g), len(g.edges())),\n",
    "     transform=gca().transAxes, va='bottom', ha='left', size=20)\n",
    "\n",
    "grid = gridspec.GridSpec(2,2)\n",
    "grid.update(left=0.54, right=0.98, wspace=0.25)\n",
    "ax = [subplot(i) for i in grid]\n",
    "for i, gi in enumerate([6,13,37,51]):\n",
    "    g = Gc[gi]\n",
    "#     pos = {node:(tgas.l[node], d[node]) for node in g.nodes()}\n",
    "    pos = {node:(tgas.ra.value[node], tgas.dec.value[node]) for node in g.nodes()}\n",
    "    nx.draw_networkx(g, pos=pos, node_size=10, width=.5, with_labels=False, ax=ax[i])\n",
    "    ax[i].xaxis.set_major_locator(MaxNLocator(nbins=5,prune='both'))\n",
    "    ax[i].yaxis.set_major_locator(MaxNLocator(nbins=5,prune='both'))\n",
    "    ax[i].text(0.95, 0.05, 'size=%i\\n%i edges' % (len(g), len(g.edges())),\n",
    "               transform=ax[i].transAxes, va='bottom', ha='right', size=15)\n",
    "    ax[i].tick_params(which='both', labelsize=15)\n",
    "    set_line_alpha(ax[i])\n",
    "savefig('../paper/figures/graphviz_examples.pdf')"
   ]
  },
  {
   "cell_type": "code",
   "execution_count": null,
   "metadata": {
    "collapsed": false
   },
   "outputs": [],
   "source": [
    "a = array(Gc[6].nodes())\n",
    "plot(tgas.l[a], tgas.get_distance()[a], '.')\n",
    "plot(mwsc['GLON'], mwsc['d'], 'ro')\n",
    "for cl in mwsc[\n",
    "    (mwsc['d']<d[a].max()) & (mwsc['d']>d[a].min()) & (mwsc['GLON']>tgas.l[a].min()) & (mwsc['GLON']<tgas.l[a].max())]:\n",
    "    text(cl['GLON'], cl['d'], cl['Name'].replace('_', ' '))\n",
    "xlim(tgas.l[a].min()*0.9, tgas.l[a].max()*1.1)\n",
    "ylim(d[a].min()*0.9, d[a].max()*1.1)"
   ]
  },
  {
   "cell_type": "code",
   "execution_count": null,
   "metadata": {
    "collapsed": false,
    "scrolled": true
   },
   "outputs": [],
   "source": [
    "mwsc = Table.read('../data/J_A+A_585_A101/catalog.dat', readme='../data/J_A+A_585_A101/ReadMe',\n",
    "                 format='ascii.cds')\n",
    "print('total number of mwsc', len(mwsc))\n",
    "print('number of mwsc d<600 pc', (mwsc['d']<600).sum())"
   ]
  },
  {
   "cell_type": "code",
   "execution_count": null,
   "metadata": {
    "collapsed": false
   },
   "outputs": [],
   "source": [
    "obass = Table.read('../data/J_AJ_117_354/tablec1.dat', readme='../data/J_AJ_117_354/ReadMe',\n",
    "                    format='ascii.cds')\n",
    "print('OB association stars', len(obass))\n",
    "\n",
    "from astroquery.simbad import Simbad\n",
    "\n",
    "# query simbad on HIP id's to get coordinates\n",
    "customSimbad = Simbad()\n",
    "customSimbad.add_votable_fields('sptype', 'parallax')\n",
    "result = customSimbad.query_objects(['HIP %i' % hip for hip in obass['HIP']])\n",
    "print( unique([s.decode(\"utf-8\")[0] if len(s)>0 else '?' for s in result['SP_TYPE']]) )\n",
    "\n",
    "def get_distance(parallax, parallax_error):\n",
    "    \"\"\"\n",
    "    Return the distance [kpc] point estimate with the Lutz-Kelker correction\n",
    "    \n",
    "    parallax : float, in mas\n",
    "    parallax_error : float, in mas\n",
    "    \"\"\"\n",
    "    snr = parallax / parallax_error\n",
    "    pnew = parallax * (0.5 + 0.5*np.sqrt(1 - 16./snr**2))\n",
    "    # if snr<4, the value will be maksed\n",
    "    return 1./pnew\n",
    "\n",
    "obass_dist = get_distance(result['PLX_VALUE'], result['PLX_ERROR'])\n",
    "obass_c = coords.SkyCoord(result['RA'], result['DEC'], unit=(u.hourangle, u.deg),\n",
    "                          distance=obass_dist*u.kpc)\n",
    "obass_cg = obass_c.transform_to(coords.Galactic)"
   ]
  },
  {
   "cell_type": "code",
   "execution_count": null,
   "metadata": {
    "collapsed": false
   },
   "outputs": [],
   "source": [
    "figure(figsize=(10,5))\n",
    "\n",
    "pairs = array([list(g.nodes()) for g in Gc[sizes==2]])\n",
    "x = hstack([tgas.l[pairs], array([None]*pairs.shape[0])[:,None]])\n",
    "y = hstack([d[pairs], array([None]*pairs.shape[0])[:,None]])\n",
    "# manipulate GLON\n",
    "x[:,:-1].sort(axis=1)\n",
    "x[:,1][x[:,1]-x[:,0]>180] -= 360.\n",
    "plot(x.ravel(),y.ravel(), alpha=.3, c='k', label='size 2')\n",
    "\n",
    "pairs = array([list(g.nodes()) for g in Gc[sizes==3]])\n",
    "x = hstack([tgas.l[pairs], array([None]*pairs.shape[0])[:,None]])\n",
    "y = hstack([d[pairs], array([None]*pairs.shape[0])[:,None]])\n",
    "# manipulate GLON\n",
    "x[:,:-1].sort(axis=1)\n",
    "for i in range(x.shape[1]-1):\n",
    "    x[:,i][x[:,i]-x[:,0]>180] -= 360.\n",
    "plot(x.ravel(), y.ravel(), alpha=.7, c='b', label='size 3')\n",
    "\n",
    "for s in Gc[sizes>=4]:\n",
    "    plot(tgas.l[s], d[s], '.', c=cm.spectral(uniform()))\n",
    "    \n",
    "for cc, ll in mwsc['d', 'GLON'][mwsc['d']<600]:\n",
    "    l, = plot(ll, cc, 'ro', ms=8, mfc='None', mec='k', mew=1,)\n",
    "    \n",
    "xlim(0,360)\n",
    "ylim(0,500)\n",
    "# leg = legend(loc='upper left')\n",
    "\n",
    "xlabel('Galactic longtidude [deg]')\n",
    "ylabel('distance [pc]')"
   ]
  },
  {
   "cell_type": "code",
   "execution_count": null,
   "metadata": {
    "collapsed": false
   },
   "outputs": [],
   "source": [
    "# figure(figsize=(10,5))\n",
    "figure(figsize=(10,10))\n",
    "ax = subplot(111, projection='polar')\n",
    "pairs = array([list(g.nodes()) for g in Gc[sizes==2]])\n",
    "x = hstack([deg2rad(tgas.l[pairs]), array([None]*pairs.shape[0])[:,None]])\n",
    "y = hstack([d[pairs], array([None]*pairs.shape[0])[:,None]])\n",
    "# manipulate GLON\n",
    "x[:,:-1].sort(axis=1)\n",
    "x[:,1][x[:,1]-x[:,0]>180] -= 360.\n",
    "plot(x.ravel(),y.ravel(), alpha=.3, c='k', label='size 2')\n",
    "\n",
    "pairs = array([list(g.nodes()) for g in Gc[sizes==3]])\n",
    "x = hstack([deg2rad(tgas.l[pairs]), array([None]*pairs.shape[0])[:,None]])\n",
    "y = hstack([d[pairs], array([None]*pairs.shape[0])[:,None]])\n",
    "# manipulate GLON\n",
    "x[:,:-1].sort(axis=1)\n",
    "for i in range(x.shape[1]-1):\n",
    "    x[:,i][x[:,i]-x[:,0]>180] -= 360.\n",
    "plot(x.ravel(), y.ravel(), alpha=.7, c='b', label='size 3')\n",
    "\n",
    "\n",
    "for s in Gc[sizes>=4]:\n",
    "    plot(deg2rad(tgas.l[s]), d[s], '.', c=cm.spectral(uniform()))\n",
    "    \n",
    "for cc, ll in mwsc['d', 'GLON'][mwsc['d']<600]:\n",
    "    l, = plot(deg2rad(ll), cc, 'ro', ms=8, mfc='None', mec='k', mew=1,)\n",
    "    \n",
    "ylim(0,250)\n",
    "yticks([100,200])\n",
    "\n",
    "tight_layout()\n"
   ]
  },
  {
   "cell_type": "code",
   "execution_count": null,
   "metadata": {
    "collapsed": false
   },
   "outputs": [],
   "source": [
    "fig = figure(figsize=(10,10))\n",
    "fig.subplots_adjust(top=0.95,bottom=0.04,right=0.93,left=0.05)\n",
    "\n",
    "ax = subplot(111, projection='polar')\n",
    "for g in Gc[::]:\n",
    "    if len(g) > 5:\n",
    "        pos = {node:(deg2rad(tgas.l[node]), d[node]*cos(deg2rad(tgas.b[node]))) for node in g.nodes()}\n",
    "        nx.draw_networkx(g, pos=pos, node_size=3, width=.5, with_labels=False,\n",
    "                         edge_color=mpl.colors.rgb2hex(cm.spectral(random.uniform())),\n",
    "                         node_color='k')\n",
    "    else:\n",
    "        pos = {node:(deg2rad(tgas.l[node]), d[node]*cos(deg2rad(tgas.b[node]))) for node in g.nodes()}\n",
    "        nx.draw_networkx_edges(g, pos=pos, width=1, with_labels=False,\n",
    "                               edge_color='k',alpha=.5)\n",
    "        \n",
    "for cc, ll, bb in mwsc['d', 'GLON', 'GLAT'][mwsc['d']<600]:\n",
    "    h1, = plot(deg2rad(ll), cc*cos(deg2rad(bb)), 'ro', ms=8, mfc='None', mec='m', mew=1,)\n",
    "\n",
    "h2, = ax.plot(obass_cg.l.to(u.rad).value, obass_dist*1000*cos(obass_cg.b.to(u.rad).value),\n",
    "              c='#bebebe', marker='.', ls='None', zorder=-100)\n",
    "\n",
    "figlegend((h1,h2), ('star cluster', 'stars in OB Associations'), 'upper right',\n",
    "       numpoints=1, frameon=False, fontsize=20,handletextpad=0, markerscale=2)\n",
    "ylim(0,300)\n",
    "yticks([100,200,], ['100 pc', '200 pc'])\n",
    "ax.set_theta_direction(-1)\n",
    "ax.set_theta_zero_location('W')\n",
    "ax.set_thetagrids(arange(0,360,45), frac=1.07)\n",
    "\n",
    "savefig('../paper/figures/glon_d_pie.pdf')"
   ]
  },
  {
   "cell_type": "code",
   "execution_count": null,
   "metadata": {
    "collapsed": true
   },
   "outputs": [],
   "source": [
    "mwsc.sort('d')"
   ]
  },
  {
   "cell_type": "code",
   "execution_count": null,
   "metadata": {
    "collapsed": true
   },
   "outputs": [],
   "source": [
    "mwsc.show_in_browser()"
   ]
  },
  {
   "cell_type": "code",
   "execution_count": null,
   "metadata": {
    "collapsed": false
   },
   "outputs": [],
   "source": [
    "where((llr>6) & (l1>90) & (l1<120) & (abs(l1-l2)>180))"
   ]
  },
  {
   "cell_type": "code",
   "execution_count": null,
   "metadata": {
    "collapsed": false
   },
   "outputs": [],
   "source": [
    "pairidx[12749]"
   ]
  },
  {
   "cell_type": "code",
   "execution_count": null,
   "metadata": {
    "collapsed": false
   },
   "outputs": [],
   "source": [
    "print( tgas[704255] )\n",
    "print( tgas[704255].get_coord().transform_to(coords.Galactic) )\n",
    "print( tgas[1325999] )\n",
    "print( tgas[1325999].get_coord().transform_to(coords.Galactic) )\n"
   ]
  },
  {
   "cell_type": "code",
   "execution_count": null,
   "metadata": {
    "collapsed": false
   },
   "outputs": [],
   "source": [
    "tgas[704255].get_coord().separation_3d(tgas[1325999].get_coord())"
   ]
  },
  {
   "cell_type": "code",
   "execution_count": null,
   "metadata": {
    "collapsed": false
   },
   "outputs": [],
   "source": [
    "tgas[704255].l, d[704255], tgas[1325999].l, d[1325999]"
   ]
  },
  {
   "cell_type": "markdown",
   "metadata": {},
   "source": [
    "# RAVE Cross-match"
   ]
  },
  {
   "cell_type": "code",
   "execution_count": null,
   "metadata": {
    "collapsed": false
   },
   "outputs": [],
   "source": [
    "rave = Table.read('../data/tgas_rave_RV.fits')"
   ]
  },
  {
   "cell_type": "code",
   "execution_count": null,
   "metadata": {
    "collapsed": false
   },
   "outputs": [],
   "source": [
    "matched_rave = ~rave['row_id'].mask\n",
    "print('total number of tgas+rave matches', matched_rave.sum())\n",
    "\n",
    "hrv = rave['HRV']\n",
    "ehrv = rave['eHRV'].data\n",
    "\n",
    "# rv1 = hrv[pairidx['star1']]\n",
    "# rv2 = hrv[pairidx['star2']]\n",
    "# drv = rv1 - rv2\n",
    "# edrv = hypot(ehrv[pairidx['star1']], ehrv[pairidx['star2']])\n",
    "# matched_rave1 = matched_rave[pairidx['star1']]\n",
    "# matched_rave2 = matched_rave[pairidx['star2']]\n",
    "# matched_rave12 = matched_rave1 & matched_rave2"
   ]
  },
  {
   "cell_type": "code",
   "execution_count": null,
   "metadata": {
    "collapsed": true
   },
   "outputs": [],
   "source": [
    "star1 = cmpairs['star1']\n",
    "star2 = cmpairs['star2']\n",
    "nsize = array([len(nx.node_connected_component(graph, s1)) for s1 in star1])"
   ]
  },
  {
   "cell_type": "code",
   "execution_count": null,
   "metadata": {
    "collapsed": false
   },
   "outputs": [],
   "source": [
    "drv = hrv[star1] - hrv[star2]\n",
    "edrv = hypot(ehrv[star1], ehrv[star2])\n",
    "drv_edrv = drv/edrv\n",
    "cmrave = matched_rave[star1] & matched_rave[star2]"
   ]
  },
  {
   "cell_type": "code",
   "execution_count": null,
   "metadata": {
    "collapsed": false
   },
   "outputs": [],
   "source": [
    "print('number of pairs with RAVE', prod(matched_rave[vstack([star1,star2]).T], axis=1).sum())\n",
    "print('number of mutually exclusive pairs with RAVE',\n",
    "      prod(matched_rave[vstack([star1,star2]).T[nsize==2]], axis=1).sum())"
   ]
  },
  {
   "cell_type": "code",
   "execution_count": null,
   "metadata": {
    "collapsed": false
   },
   "outputs": [],
   "source": [
    "unique(nsize[cmrave])"
   ]
  },
  {
   "cell_type": "code",
   "execution_count": null,
   "metadata": {
    "collapsed": true
   },
   "outputs": [],
   "source": [
    "import pandas as pd"
   ]
  },
  {
   "cell_type": "code",
   "execution_count": null,
   "metadata": {
    "collapsed": true
   },
   "outputs": [],
   "source": [
    "from scipy import interpolate"
   ]
  },
  {
   "cell_type": "code",
   "execution_count": null,
   "metadata": {
    "collapsed": false
   },
   "outputs": [],
   "source": [
    "# colors for two groups\n",
    "color_size2 = '#d95f02'\n",
    "color_sizelt2 = '#1b9e77'\n",
    "\n",
    "fig, ax = subplots(2, 1, figsize=(5, 8), sharex=True)\n",
    "fig.subplots_adjust(top=0.93, hspace=0.05, left=0.2, bottom=0.08, right=0.95)\n",
    "suptitle('%i pairs with RAVE RV' % cmrave.sum(), size=20, x=0.55)\n",
    "\n",
    "sca(ax[0])\n",
    "errorbar(cmpairs['sep'][cmrave & (nsize==2)], drv_edrv[cmrave & (nsize==2)],\n",
    "         fmt='.',color=color_size2, label='size=2 (mutually exclusive)')\n",
    "errorbar(cmpairs['sep'][cmrave & (nsize>2)], drv_edrv[cmrave & (nsize>2)],\n",
    "         fmt='^', mew=1, ms=4, mec=color_sizelt2, mfc='None', label='size$>$2',)\n",
    "axhline(-3, color='gray')\n",
    "axhline(3, color='gray')\n",
    "ylim(-10,10)\n",
    "xscale('log')\n",
    "xlim(2e-2,15)\n",
    "ylabel('$\\Delta v_r/\\sigma_{\\Delta v_r}$')\n",
    "\n",
    "legend(loc=(-0.03,0.75), frameon=False, numpoints=1, markerscale=2, fontsize=15, handletextpad=0)\n",
    "\n",
    "sca(ax[1])\n",
    "n=15  # each bin contains 2n+1 data points\n",
    "\n",
    "tmpsep = pd.Series(cmpairs['sep'][cmrave & (nsize==2)].astype('<f8'))\n",
    "bool3 = pd.Series((drv_edrv<3)[cmrave & (nsize==2)].astype('<f8'))\n",
    "isort = tmpsep.argsort()\n",
    "tmpsep_sort = tmpsep[isort]\n",
    "bool3_sort = bool3[isort]\n",
    "rollsep = tmpsep_sort.rolling(2*n+1, center=True)\n",
    "rollbool = bool3_sort.rolling(2*n+1, center=True)\n",
    "errors = vstack([\n",
    "    rollsep.median() - rollsep.min(),\n",
    "    rollsep.max() - rollsep.median()]).T[n:-n]\n",
    "\n",
    "errorbar(rollsep.median()[n:-n], rollbool.mean()[n:-n],\n",
    "         xerr=errors.T, fmt='.', color=color_size2)\n",
    "\n",
    "# fit spline\n",
    "# x = log10(rollsep.median()[n:-n])\n",
    "# y = rollbool.mean()[n:-n]\n",
    "# tck = interpolate.splrep(x, y, s=1, k=3)\n",
    "# xnew = logspace(-1, 1)\n",
    "# ynew = interpolate.splev(log10(xnew), tck, der=0, ext=3)\n",
    "# plot(xnew, ynew, 'b.-')\n",
    "\n",
    "tmpsep = pd.Series(cmpairs['sep'][cmrave & (nsize>2)].astype('<f8'))\n",
    "bool3 = pd.Series((drv_edrv<3)[cmrave & (nsize>2)].astype('<f8'))\n",
    "isort = tmpsep.argsort()\n",
    "tmpsep_sort = tmpsep[isort]\n",
    "bool3_sort = bool3[isort]\n",
    "rollsep = tmpsep_sort.rolling(2*n+1, center=True)\n",
    "rollbool = bool3_sort.rolling(2*n+1, center=True)\n",
    "errors = vstack([\n",
    "    rollsep.median() - rollsep.min(),\n",
    "    rollsep.max() - rollsep.median()]).T[n:-n]\n",
    "errorbar(rollsep.median()[n:-n], rollbool.mean()[n:-n],\n",
    "         xerr=errors.T, fmt='^', mew=1, ms=4, mec=color_sizelt2, mfc='None', ecolor=color_sizelt2, capsize=0)\n",
    "\n",
    "xscale('log')\n",
    "ylim(0.,1.05)\n",
    "xlim(2e-2,15)\n",
    "xlabel('separation [pc]')\n",
    "ylabel('$f(\\Delta v_r/\\sigma_{\\Delta v_r} < 3)$')\n",
    "savefig('../paper/figures/raverv.pdf')"
   ]
  },
  {
   "cell_type": "code",
   "execution_count": null,
   "metadata": {
    "collapsed": false
   },
   "outputs": [],
   "source": [
    "from astropy import stats as astats\n",
    "binsize = astats.knuth_bin_width(log10(cmpairs['sep']))\n",
    "bins = logspace(-2,1,3/binsize)\n",
    "\n",
    "c,bins,patches = hist(cmpairs['sep'], bins, log=True, histtype='step',\n",
    "                      label='all', color='k')\n",
    "_ = hist(cmpairs['sep'][nsize==2], bins, log=True, histtype='step',\n",
    "         label='size=2 (mutually exclusive)', lw=2, color=color_size2)\n",
    "_ = hist(cmpairs['sep'][nsize>2], bins, log=True, histtype='step', label='size$>$2', color=color_sizelt2)\n",
    "ylabel('count')\n",
    "xlabel('separation [pc]')\n",
    "legend(loc='upper left', fontsize=15, frameon=False)\n",
    "tight_layout()\n",
    "xscale('log')\n",
    "savefig('../paper/figures/hist_sep.pdf')"
   ]
  },
  {
   "cell_type": "code",
   "execution_count": null,
   "metadata": {
    "collapsed": false
   },
   "outputs": [],
   "source": [
    "\n",
    "counts, edges = histogram(log10(cmpairs['sep'][nsize==2]), 32, )\n",
    "centers = (edges[1:]+edges[:-1])*0.5\n",
    "ynew = interpolate.splev(centers, tck, der=0, ext=3)\n",
    "plot(centers, counts, 'ko-')\n",
    "plot(centers, counts*ynew, 'bo-')\n",
    "yscale('log')"
   ]
  },
  {
   "cell_type": "markdown",
   "metadata": {},
   "source": [
    "# Color-Magnitude Diagrams"
   ]
  },
  {
   "cell_type": "code",
   "execution_count": null,
   "metadata": {
    "collapsed": true
   },
   "outputs": [],
   "source": [
    "tmass = fits.getdata('/Users/semyeong/data/gaia/tgas_source/tgas-matched-2mass.fits')"
   ]
  },
  {
   "cell_type": "code",
   "execution_count": null,
   "metadata": {
    "collapsed": false
   },
   "outputs": [],
   "source": [
    "gjcolor = tgas._data['phot_g_mean_mag']- tmass['j_mag']\n",
    "gMag = tgas._data['phot_g_mean_mag'] + 5*(log10(tgas._data['parallax']*1e-3)+1)"
   ]
  },
  {
   "cell_type": "code",
   "execution_count": null,
   "metadata": {
    "collapsed": false
   },
   "outputs": [],
   "source": [
    "# distance matching sample\n",
    "ind_uniq = unique(hstack([cmpairs['star1'], cmpairs['star2']]))\n",
    "print(ind_uniq.size)\n",
    "dpairs = d[ind_uniq]"
   ]
  },
  {
   "cell_type": "code",
   "execution_count": null,
   "metadata": {
    "collapsed": false
   },
   "outputs": [],
   "source": [
    "hist(dpairs)\n",
    "xlabel('distance [pc]')\n",
    "ylabel('count')"
   ]
  },
  {
   "cell_type": "code",
   "execution_count": null,
   "metadata": {
    "collapsed": true
   },
   "outputs": [],
   "source": [
    "from sklearn.neighbors import KDTree"
   ]
  },
  {
   "cell_type": "code",
   "execution_count": null,
   "metadata": {
    "collapsed": false
   },
   "outputs": [],
   "source": [
    "cond = (parallax_snr>8) & tmass['matched']\n",
    "d_snr = d[cond]\n",
    "ind_snr = arange(len(tgas))[cond]\n",
    "dtree = KDTree(atleast_2d(d_snr).T)"
   ]
  },
  {
   "cell_type": "code",
   "execution_count": null,
   "metadata": {
    "collapsed": false
   },
   "outputs": [],
   "source": [
    "plot(dpairs, dtree.query_radius(atleast_2d(dpairs).T, 1.5, count_only=True), '.')\n",
    "yscale('log')\n",
    "xlabel('distance')\n",
    "ylabel('N(stars within 1.5pc)')"
   ]
  },
  {
   "cell_type": "code",
   "execution_count": null,
   "metadata": {
    "collapsed": true
   },
   "outputs": [],
   "source": [
    "N_per_star = 10\n",
    "result = dtree.query_radius(atleast_2d(dpairs).T, 1.5,)"
   ]
  },
  {
   "cell_type": "code",
   "execution_count": null,
   "metadata": {
    "collapsed": false
   },
   "outputs": [],
   "source": [
    "ind_control = []\n",
    "for row in result:\n",
    "    if len(row)==0:\n",
    "        continue\n",
    "    ind_control.append(ind_snr[choice(row, size=N_per_star)])\n",
    "ind_control = hstack(ind_control)"
   ]
  },
  {
   "cell_type": "code",
   "execution_count": null,
   "metadata": {
    "collapsed": false
   },
   "outputs": [],
   "source": [
    "d[ind_control]"
   ]
  },
  {
   "cell_type": "code",
   "execution_count": null,
   "metadata": {
    "collapsed": false
   },
   "outputs": [],
   "source": [
    "c,bins,patches=hist(dpairs, normed=True, histtype='step')\n",
    "xlabel('distance [pc]')\n",
    "ylabel('count')\n",
    "hist(d[ind_control], bins=bins, normed=True, histtype='step')"
   ]
  },
  {
   "cell_type": "code",
   "execution_count": null,
   "metadata": {
    "collapsed": false
   },
   "outputs": [],
   "source": [
    "plot(gjcolor[ind_control], gMag[ind_control], 'k,')"
   ]
  },
  {
   "cell_type": "code",
   "execution_count": null,
   "metadata": {
    "collapsed": false
   },
   "outputs": [],
   "source": [
    "c, ye, xe = histogram2d(gjcolor[ind_control], gMag[ind_control], 512,)\n",
    "x,y = meshgrid((xe[1:]+xe[:-1])*0.5, (ye[1:]+ye[:-1])*0.5)\n",
    "pcolormesh(y,x,c, norm=mpl.colors.LogNorm(), cmap='Blues', zorder=-1)\n"
   ]
  },
  {
   "cell_type": "code",
   "execution_count": null,
   "metadata": {
    "collapsed": false
   },
   "outputs": [],
   "source": [
    "def draw_cmd():\n",
    "    c, ye, xe = histogram2d(gjcolor[ind_control], gMag[ind_control], 512,)\n",
    "    x,y = meshgrid((xe[1:]+xe[:-1])*0.5, (ye[1:]+ye[:-1])*0.5)\n",
    "    pcolormesh(y,x,c, norm=mpl.colors.LogNorm(), cmap='Blues', zorder=-1, rasterized=True)\n"
   ]
  },
  {
   "cell_type": "code",
   "execution_count": null,
   "metadata": {
    "collapsed": false
   },
   "outputs": [],
   "source": [
    "from mpl_toolkits.axes_grid1 import ImageGrid\n",
    "import matplotlib.gridspec as gridspec\n",
    "\n",
    "fig = figure(figsize=(10,4))\n",
    "fig.subplots_adjust(top=0.95, right=0.98, bottom=0.18, left=0.08)\n",
    "ax0 = subplot(121)\n",
    "g = Gc[0]\n",
    "pos = {node:(gjcolor[node],gMag[node]) for node in g.nodes()}\n",
    "nx.draw_networkx(g, pos=pos, node_size=10, width=0, with_labels=False, node_color='k')\n",
    "xlabel(r'$G-J$ [mag]')\n",
    "ylabel(r'$G + 5(\\log d +1)$ [mag]')\n",
    "text(0.05, 0.05, 'size=%i' % (len(g)),\n",
    "     transform=gca().transAxes, va='bottom', ha='left', size=20)\n",
    "draw_cmd()\n",
    "ax0.set_xlim(-0.5, 2)\n",
    "ax0.set_ylim(8,-1)\n",
    "\n",
    "grid = gridspec.GridSpec(2,2)\n",
    "grid.update(left=0.54, right=0.98)\n",
    "ax = [subplot(i,) for i in grid]\n",
    "for i, gi in enumerate([6,13,37,51]):\n",
    "    g = Gc[gi]\n",
    "    sca(ax[i])\n",
    "    pos = {node:(gjcolor[node],gMag[node]) for node in g.nodes()}\n",
    "    nx.draw_networkx(g, pos=pos, node_size=10, width=0, with_labels=False, ax=ax[i], node_color='k')\n",
    "    ax[i].xaxis.set_major_locator(MaxNLocator(nbins=5,prune='both'))\n",
    "    ax[i].yaxis.set_major_locator(MaxNLocator(nbins=5,prune='both'))\n",
    "    ax[i].text(0.05, 0.05, 'size=%i' % (len(g)), size=15,\n",
    "               transform=ax[i].transAxes, va='bottom', ha='left')\n",
    "    ax[i].tick_params(which='both', labelsize=15)\n",
    "    draw_cmd()\n",
    "\n",
    "[a.set_xlim(-0.5,2.) for a in ax]\n",
    "[a.set_ylim(8,-1) for a in ax]\n",
    "savefig('../paper/figures/gjg_graphviz_examples.pdf')\n",
    "savefig('../paper/figures/gjg_graphviz_examples.png')"
   ]
  },
  {
   "cell_type": "code",
   "execution_count": null,
   "metadata": {
    "collapsed": false
   },
   "outputs": [],
   "source": [
    "(mepairs['sep']<1).sum()"
   ]
  },
  {
   "cell_type": "code",
   "execution_count": null,
   "metadata": {
    "collapsed": false
   },
   "outputs": [],
   "source": [
    "fig, ax = subplots(1,2, figsize=(10,8))\n",
    "fig.subplots_adjust(left=0.1, right=0.95, bottom=0.1, wspace=0.1)\n",
    "suptitle('mutually exclusive pairs', size=20)\n",
    "\n",
    "nsize = array([len(nx.node_connected_component(graph, s1)) for s1 in cmpairs['star1']])\n",
    "mepairs = cmpairs[(nsize==2)]\n",
    "print(mepairs.size)\n",
    "\n",
    "star1,star2 = mepairs['star1'], mepairs['star2']\n",
    "gj1, gj2 = gjcolor[star1], gjcolor[star2]\n",
    "g1, g2 = gMag[star1], gMag[star2]\n",
    "\n",
    "x = vstack([gj1,gj2,[None]*gj1.size]).T\n",
    "y = vstack([g1,g2,[None]*g1.size]).T\n",
    "\n",
    "sepdivide = 1  # pc\n",
    "\n",
    "sca(ax[0])\n",
    "draw_cmd()\n",
    "l, = plot(x[mepairs['sep']<sepdivide].ravel(),y[mepairs['sep']<sepdivide].ravel(),\n",
    "     'ko-', lw=1., mec='k', mew=0.5, ms=3, mfc='#0072B2', rasterized=True)\n",
    "l.set_markerfacecolor((0, 114/256., 178/256., 0.5))\n",
    "\n",
    "xlim(-.25,2.5)\n",
    "ylim(10,-2)\n",
    "\n",
    "xlabel(r'$G-J$ [Mag]')\n",
    "ylabel(r'$G + 5(\\log d +1)$ [mag]')\n",
    "title('separation $<$ %.0f pc (N=%i)' % (sepdivide,(mepairs['sep']<sepdivide).sum()),\n",
    "      size=20)\n",
    "\n",
    "sca(ax[1])\n",
    "draw_cmd()\n",
    "plot(x[mepairs['sep']>sepdivide].ravel(),y[mepairs['sep']>sepdivide].ravel(),\n",
    "     'k.', alpha=.5, rasterized=True)\n",
    "xlim(-.25,2.5)\n",
    "ylim(10,-2)\n",
    "xlabel(r'$G-J$ [Mag]')\n",
    "title('separation $>$ %.0f pc (N=%i)' % (sepdivide,(mepairs['sep']>sepdivide).sum()),\n",
    "      size=20)\n",
    "savefig('../paper/figures/gjg_mepairs.png')\n",
    "savefig('../paper/figures/gjg_mepairs.pdf')"
   ]
  },
  {
   "cell_type": "markdown",
   "metadata": {},
   "source": [
    "# Catalog"
   ]
  },
  {
   "cell_type": "code",
   "execution_count": null,
   "metadata": {
    "collapsed": true
   },
   "outputs": [],
   "source": [
    "from astropy.table import join"
   ]
  },
  {
   "cell_type": "code",
   "execution_count": null,
   "metadata": {
    "collapsed": true
   },
   "outputs": [],
   "source": [
    "tt = Table()\n",
    "tt['star1'] = cmpairs['star1']\n",
    "tt['star2'] = cmpairs['star2']\n",
    "tt['star1 source id'] = tgas.source_id[cmpairs['star1']]\n",
    "tt['star2 source id'] = tgas.source_id[cmpairs['star2']]\n",
    "tt['sep'] = cmpairs['sep']\n",
    "tt['sep'].format='%9.1f'\n",
    "tt['lnL1/L2'] = llr[llr>6]\n",
    "tt['lnL1/L2'].format='%9.1f'\n",
    "tt['nsize'] = nsize\n",
    "tt['RAVE_OBS_ID1'] = rave['RAVE_OBS_ID'][cmpairs['star1']]\n",
    "tt['RAVE_OBS_ID2'] = rave['RAVE_OBS_ID'][cmpairs['star2']]"
   ]
  },
  {
   "cell_type": "code",
   "execution_count": null,
   "metadata": {
    "collapsed": true
   },
   "outputs": [],
   "source": [
    "nid = []\n",
    "def get_nid(node):\n",
    "    out = []\n",
    "    for i, g in enumerate(Gc):\n",
    "        if node in g:\n",
    "            out.append(i)\n",
    "    if len(out)>1:\n",
    "        raise ValueError('boo')\n",
    "    return out[0]\n",
    "nid = [get_nid(i) for i in tt['star1']]\n",
    "\n",
    "tt['nid'] = nid"
   ]
  },
  {
   "cell_type": "code",
   "execution_count": null,
   "metadata": {
    "collapsed": false
   },
   "outputs": [],
   "source": [
    "c1 = tgas.get_coord()[cmpairs['star1']]\n",
    "c_mwsc = coords.SkyCoord(mwsc['GLON'], mwsc['GLAT'], mwsc['d'], frame=coords.Galactic)\n",
    "idx_mwsc, sep2d_mwsc, dist3d_mwsc = c1.match_to_catalog_3d(c_mwsc)\n",
    "\n",
    "tt['star1 closest imwsc'] = idx_mwsc\n",
    "tt['star1 dclosest mwsc'] = dist3d_mwsc\n",
    "tt['star1 dclosest mwsc'].format='%9.1f'"
   ]
  },
  {
   "cell_type": "code",
   "execution_count": null,
   "metadata": {
    "collapsed": false
   },
   "outputs": [],
   "source": [
    "obass.colnames"
   ]
  },
  {
   "cell_type": "code",
   "execution_count": null,
   "metadata": {
    "collapsed": false
   },
   "outputs": [],
   "source": [
    "t1 = Table([tgas.hip[cmpairs['star1']]], names=['HIP'])\n",
    "t1_obass = join(obass['OBAss','HIP'], t1, keys='HIP', join_type='right')\n",
    "t2 = Table([tgas.hip[cmpairs['star2']]], names=['HIP'])\n",
    "t2_obass = join(obass['OBAss','HIP'], t1, keys='HIP', join_type='right')\n"
   ]
  },
  {
   "cell_type": "code",
   "execution_count": null,
   "metadata": {
    "collapsed": false
   },
   "outputs": [],
   "source": [
    "tt['star1 OBAss'] = t1_obass['OBAss']\n",
    "tt['star2 OBAss'] = t2_obass['OBAss']"
   ]
  },
  {
   "cell_type": "markdown",
   "metadata": {},
   "source": [
    "## table stub"
   ]
  },
  {
   "cell_type": "code",
   "execution_count": null,
   "metadata": {
    "collapsed": true
   },
   "outputs": [],
   "source": [
    "stub = tt['star1 source id', 'star2 source id', 'sep', 'lnL1/L2', 'nid', 'nsize'][:10]"
   ]
  },
  {
   "cell_type": "code",
   "execution_count": null,
   "metadata": {
    "collapsed": false
   },
   "outputs": [],
   "source": [
    "stub['sep'].name = 'separation'\n",
    "stub['separation'].unit = u.pc\n",
    "stub['lnL1/L2'].name = '$\\ln \\mathcal{L}_1 /\\mathcal{L}_2$'\n",
    "stub['nid'].name = 'ID$_\\mathrm{network}$'\n",
    "stub['nsize'].name = '$N_\\mathrm{network}$'"
   ]
  },
  {
   "cell_type": "code",
   "execution_count": null,
   "metadata": {
    "collapsed": false
   },
   "outputs": [],
   "source": [
    "caption = r'Catalog of candidate co-moving pairs \\label{tab:catalog}'\n",
    "tablefoot = r'\\tablecomments{Table 1 is published in its entirety in the machine-readable format. A portion is shown here for guidance regarding its form and content.}'\n",
    "\n",
    "stub.write('../paper/stub.tex', format='ascii.aastex',\n",
    "           caption=caption, latexdict=dict(tablefoot=tablefoot))"
   ]
  },
  {
   "cell_type": "markdown",
   "metadata": {},
   "source": [
    "## Pair list for Hans-Walter Rix"
   ]
  },
  {
   "cell_type": "code",
   "execution_count": null,
   "metadata": {
    "collapsed": false
   },
   "outputs": [],
   "source": [
    "condllr = llr>cutlist[3][1]\n",
    "condsep = (sep>.5) & (sep<2)\n",
    "cond = condllr & condsep  & mutexc\n",
    "print(cond.sum())\n",
    "print((cond & matched_rave12).sum())\n",
    "\n",
    "tHRW = Table(pairidx[cond])\n",
    "\n",
    "tHRW['RAVE_OBS_ID1'] = rave['RAVE_OBS_ID'][pairidx[cond]['star1']]\n",
    "tHRW['RAVE_OBS_ID2'] = rave['RAVE_OBS_ID'][pairidx[cond]['star2']]\n",
    "tHRW['RAVE_HRV1'] = rave['HRV'][pairidx[cond]['star1']]\n",
    "tHRW['RAVE_HRV2'] = rave['HRV'][pairidx[cond]['star2']]\n",
    "tHRW['RAVE_eHRV1'] = rave['eHRV'][pairidx[cond]['star1']]\n",
    "tHRW['RAVE_eHRV2'] = rave['eHRV'][pairidx[cond]['star2']]\n",
    "\n",
    "tHRW['lnH1'] = lnH1[cond]\n",
    "tHRW['lnH2'] = lnH2[cond]\n",
    "tHRW['lnH1H2'] = tHRW['lnH1'] - tHRW['lnH2']\n",
    "tHRW.write('HRW.fits')"
   ]
  },
  {
   "cell_type": "code",
   "execution_count": null,
   "metadata": {
    "collapsed": false
   },
   "outputs": [],
   "source": [
    "fig, ax = subplots(1,2, figsize=(10,4))\n",
    "fig.subplots_adjust(wspace=0.3)\n",
    "ax[0].hist(tHRW['sep'], 8, color='k')\n",
    "ax[0].set_xlabel('separation [pc]')\n",
    "ax[0].set_ylabel('count')\n",
    "ax[1].plot(tHRW['sep'], (tHRW['RAVE_HRV1']-tHRW['RAVE_HRV2'])/hypot(tHRW['RAVE_eHRV1'],tHRW['RAVE_eHRV2']), 'k.')\n",
    "ax[1].axhline(0, c='k')\n",
    "ax[1].set_xlabel('separation [pc]')\n",
    "ax[1].set_ylabel(r'$\\Delta HRV / \\sigma_{\\Delta HRV}$')\n",
    "tight_layout()\n",
    "savefig('tHRW_summary.png')"
   ]
  },
  {
   "cell_type": "markdown",
   "metadata": {},
   "source": [
    "# Pair lists for isochrone"
   ]
  },
  {
   "cell_type": "markdown",
   "metadata": {},
   "source": [
    "1. All pairs within some radius of the Pleiades\n",
    "2. 1024 pairs outside of all known clusters / associations (or @smoh 's \"mutually exclusive\" samples)\n",
    "3. 1024 random pairs of TGAS stars"
   ]
  },
  {
   "cell_type": "code",
   "execution_count": null,
   "metadata": {
    "collapsed": false
   },
   "outputs": [],
   "source": [
    "ple = coords.SkyCoord(\"03 47 00.0 +24 07 00\", unit=(u.hourangle, u.deg))"
   ]
  },
  {
   "cell_type": "code",
   "execution_count": null,
   "metadata": {
    "collapsed": false
   },
   "outputs": [],
   "source": [
    "sep_ple1 = c1.separation(ple)\n",
    "sep_ple2 = c2.separation(ple)\n",
    "within = (sep_ple1<5*u.deg) & (sep_ple2<5*u.deg)\n",
    "print(within.sum())"
   ]
  },
  {
   "cell_type": "code",
   "execution_count": null,
   "metadata": {
    "collapsed": false
   },
   "outputs": [],
   "source": [
    "cut = cutlist[1][1]\n",
    "llrcut = llr>cut\n",
    "print(llrcut.sum())\n",
    "print((llrcut & within).sum())\n",
    "\n",
    "fig, ax = subplots(1,2, figsize=(12,5))\n",
    "sca(ax[0])\n",
    "plot(l1[llrcut], d1[llrcut], '.')\n",
    "plot(l1[llrcut & within], d1[llrcut & within], '.')\n",
    "plot(l2[llrcut & within], d2[llrcut & within], '.')\n",
    "xlim(150,180)\n",
    "ylim(100,180)\n",
    "\n",
    "sca(ax[1])\n",
    "axvline(56.74)\n",
    "axhline(24.117)\n",
    "xlim(45, 70)\n",
    "ylim(10, 40)\n",
    "plot(ra1[llrcut], dec1[llrcut], '.')\n",
    "plot(ra1[llrcut & within], dec1[llrcut & within], '.')\n",
    "plot(ra2[llrcut & within], dec2[llrcut & within], '.')\n",
    "from matplotlib import patches\n",
    "gca().add_artist(Circle((ple.ra.value, ple.dec.value), 5., facecolor='gray', alpha=.3))"
   ]
  },
  {
   "cell_type": "markdown",
   "metadata": {},
   "source": [
    "# Cross matching to known clusters / OB associations"
   ]
  },
  {
   "cell_type": "code",
   "execution_count": null,
   "metadata": {
    "collapsed": false
   },
   "outputs": [],
   "source": [
    "mwsc = Table.read('../data/J_A+A_585_A101/catalog.dat', readme='../data/J_A+A_585_A101/ReadMe',\n",
    "                 format='ascii.cds')\n",
    "print('total number of mwsc', len(mwsc))\n",
    "print('number of mwsc d<600 pc', (mwsc['d']<600).sum())"
   ]
  },
  {
   "cell_type": "code",
   "execution_count": null,
   "metadata": {
    "collapsed": false
   },
   "outputs": [],
   "source": [
    "obass = Table.read('../data/J_AJ_117_354/tablec1.dat', readme='../data/J_AJ_117_354/ReadMe',\n",
    "                    format='ascii.cds')\n",
    "print('OB association stars', len(obass))"
   ]
  },
  {
   "cell_type": "code",
   "execution_count": null,
   "metadata": {
    "collapsed": true
   },
   "outputs": [],
   "source": [
    "from astroquery.simbad import Simbad"
   ]
  },
  {
   "cell_type": "code",
   "execution_count": null,
   "metadata": {
    "collapsed": false,
    "scrolled": true
   },
   "outputs": [],
   "source": [
    "# query simbad on HIP id's to get coordinates\n",
    "customSimbad = Simbad()\n",
    "customSimbad.add_votable_fields('sptype', 'parallax')\n",
    "result = customSimbad.query_objects(['HIP %i' % hip for hip in obass['HIP']])\n",
    "print( unique([s.decode(\"utf-8\")[0] if len(s)>0 else '?' for s in result['SP_TYPE']]) )"
   ]
  },
  {
   "cell_type": "code",
   "execution_count": null,
   "metadata": {
    "collapsed": false
   },
   "outputs": [],
   "source": [
    "def get_distance(parallax, parallax_error):\n",
    "    \"\"\"\n",
    "    Return the distance [kpc] point estimate with the Lutz-Kelker correction\n",
    "    \n",
    "    parallax : float, in mas\n",
    "    parallax_error : float, in mas\n",
    "    \"\"\"\n",
    "    snr = parallax / parallax_error\n",
    "    pnew = parallax * (0.5 + 0.5*np.sqrt(1 - 16./snr**2))\n",
    "    # if snr<4, the value will be maksed\n",
    "    return 1./pnew\n",
    "\n",
    "obass_dist = get_distance(result['PLX_VALUE'], result['PLX_ERROR'])"
   ]
  },
  {
   "cell_type": "code",
   "execution_count": null,
   "metadata": {
    "collapsed": true
   },
   "outputs": [],
   "source": [
    "obass_c = coords.SkyCoord(result['RA'], result['DEC'], unit=(u.hourangle, u.deg),\n",
    "                          distance=obass_dist*u.pc)"
   ]
  },
  {
   "cell_type": "code",
   "execution_count": null,
   "metadata": {
    "collapsed": true
   },
   "outputs": [],
   "source": [
    "obass_cg = obass_c.transform_to(coords.Galactic)"
   ]
  },
  {
   "cell_type": "code",
   "execution_count": null,
   "metadata": {
    "collapsed": false
   },
   "outputs": [],
   "source": [
    "figure(figsize=(10,6))\n",
    "# plot(d1[condllr], sep[condllr], '.', color='red', alpha=.5)\n",
    "plot(d1[llr>6], sep[llr>6], '.', color='red', alpha=.2)\n",
    "yscale('log')\n",
    "xlabel('$d_1$ [pc]')\n",
    "ylabel('separation [pc]')\n",
    "ylim(0.1, 1.2e2)\n",
    "xlim(0,600)\n",
    "grid()\n",
    "\n",
    "for cc in mwsc['d'][mwsc['d']<600]:\n",
    "    axvline(cc, c='k', lw=1, ymin=0.2, ymax=0.4)\n",
    "# savefig('d1_sep_mwsc.png')"
   ]
  },
  {
   "cell_type": "code",
   "execution_count": null,
   "metadata": {
    "collapsed": true
   },
   "outputs": [],
   "source": [
    "def discrete_cmap(N, base_cmap=None):\n",
    "    \"\"\"Create an N-bin discrete colormap from the specified input map\"\"\"\n",
    "\n",
    "    # Note that if base_cmap is a string or None, you can simply do\n",
    "    #    return plt.cm.get_cmap(base_cmap, N)\n",
    "    # The following works for string, None, or a colormap instance:\n",
    "\n",
    "    base = plt.cm.get_cmap(base_cmap)\n",
    "    color_list = base(np.linspace(0, 1, N))\n",
    "    cmap_name = base.name + str(N)\n",
    "    return base.from_list(cmap_name, color_list, N)"
   ]
  }
 ],
 "metadata": {
  "anaconda-cloud": {},
  "kernelspec": {
   "display_name": "Python [conda env:py35]",
   "language": "python",
   "name": "conda-env-py35-py"
  },
  "language_info": {
   "codemirror_mode": {
    "name": "ipython",
    "version": 3
   },
   "file_extension": ".py",
   "mimetype": "text/x-python",
   "name": "python",
   "nbconvert_exporter": "python",
   "pygments_lexer": "ipython3",
   "version": "3.5.2"
  }
 },
 "nbformat": 4,
 "nbformat_minor": 1
}
