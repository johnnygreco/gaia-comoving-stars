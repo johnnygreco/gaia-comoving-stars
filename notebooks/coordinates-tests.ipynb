{
 "cells": [
  {
   "cell_type": "markdown",
   "metadata": {},
   "source": [
    "# Coordinate testing"
   ]
  },
  {
   "cell_type": "code",
   "execution_count": 1,
   "metadata": {
    "collapsed": true
   },
   "outputs": [],
   "source": [
    "from __future__ import print_function, division\n",
    "import numpy as np\n",
    "import matplotlib.pyplot as plt\n",
    "import pandas as pd\n",
    "\n",
    "from astropy.io import fits"
   ]
  },
  {
   "cell_type": "code",
   "execution_count": 2,
   "metadata": {
    "collapsed": true
   },
   "outputs": [],
   "source": [
    "# Test set of binary matches from APW\n",
    "df1 = pd.DataFrame(fits.getdata('../data/tim-binaries-1.fits'))\n",
    "df2 = pd.DataFrame(fits.getdata('../data/tim-binaries-2.fits'))"
   ]
  },
  {
   "cell_type": "code",
   "execution_count": 10,
   "metadata": {
    "collapsed": false
   },
   "outputs": [
    {
     "data": {
      "text/html": [
       "&lt;Table masked=True length=2&gt;\n",
       "<table id=\"table4720851600\">\n",
       "<thead><tr><th>_RAJ2000</th><th>_DEJ2000</th><th>_r</th><th>RAJ2000</th><th>DEJ2000</th><th>errMaj</th><th>errMin</th><th>errPA</th><th>_2MASS</th><th>Jmag</th><th>Jcmsig</th><th>e_Jmag</th><th>Jsnr</th><th>Hmag</th><th>Hcmsig</th><th>e_Hmag</th><th>Hsnr</th><th>Kmag</th><th>Kcmsig</th><th>e_Kmag</th><th>Ksnr</th><th>Qflg</th><th>Rflg</th><th>Bflg</th><th>Cflg</th><th>Ndet</th><th>prox</th><th>pxPA</th><th>pxCntr</th><th>Xflg</th><th>Aflg</th><th>Cntr</th><th>Hemis</th><th>Date</th><th>Scan</th><th>GLON</th><th>GLAT</th><th>Xscan</th><th>JD</th><th>Jpsfchi</th><th>Hpsfchi</th><th>Kpsfchi</th><th>Jstdap</th><th>e_Jstdap</th><th>Hstdap</th><th>e_Hstdap</th><th>Kstdap</th><th>e_Kstdap</th><th>edgeNS</th><th>edgeEW</th><th>edge</th><th>dup</th><th>use</th><th>opt</th><th>Dopt</th><th>PAopt</th><th>Bmag</th><th>Rmag</th><th>Nopt</th><th>extKey</th><th>scanKey</th><th>coaddKey</th><th>coadd</th><th>Opt</th></tr></thead>\n",
       "<thead><tr><th>deg</th><th>deg</th><th>arcs</th><th>deg</th><th>deg</th><th>arcs</th><th>arcs</th><th>deg</th><th></th><th>mag</th><th>mag</th><th>mag</th><th></th><th>mag</th><th>mag</th><th>mag</th><th></th><th>mag</th><th>mag</th><th>mag</th><th></th><th></th><th></th><th></th><th></th><th></th><th>arcs</th><th>deg</th><th></th><th></th><th></th><th></th><th></th><th></th><th></th><th>deg</th><th>deg</th><th>arcs</th><th>d</th><th></th><th></th><th></th><th>mag</th><th>mag</th><th>mag</th><th>mag</th><th>mag</th><th>mag</th><th>arcs</th><th>arcs</th><th></th><th></th><th></th><th></th><th>arcs</th><th>deg</th><th>mag</th><th>mag</th><th></th><th></th><th></th><th></th><th></th><th></th></tr></thead>\n",
       "<thead><tr><th>float64</th><th>float64</th><th>float64</th><th>float64</th><th>float64</th><th>float32</th><th>float32</th><th>int16</th><th>str17</th><th>float32</th><th>float32</th><th>float32</th><th>float64</th><th>float32</th><th>float32</th><th>float32</th><th>float64</th><th>float32</th><th>float32</th><th>float32</th><th>float64</th><th>str3</th><th>str3</th><th>str3</th><th>str3</th><th>str6</th><th>float32</th><th>int16</th><th>int64</th><th>uint8</th><th>uint8</th><th>int64</th><th>str1</th><th>str10</th><th>int16</th><th>float64</th><th>float64</th><th>float32</th><th>float64</th><th>float32</th><th>float32</th><th>float32</th><th>float32</th><th>float32</th><th>float32</th><th>float32</th><th>float32</th><th>float32</th><th>int32</th><th>int16</th><th>str2</th><th>uint8</th><th>uint8</th><th>str1</th><th>float32</th><th>int16</th><th>float32</th><th>float32</th><th>uint8</th><th>int32</th><th>int32</th><th>int32</th><th>int16</th><th>str3</th></tr></thead>\n",
       "<tr><td>24.692811</td><td>63.717216</td><td>4.347</td><td>24.692811</td><td>63.717216</td><td>0.07</td><td>0.06</td><td>0</td><td>01384627+6343019</td><td>7.434</td><td>0.035</td><td>0.039</td><td>37053.6</td><td>6.993</td><td>0.031</td><td>0.034</td><td>22999.1</td><td>6.939</td><td>0.029</td><td>0.033</td><td>13671.6</td><td>AAA</td><td>111</td><td>111</td><td>dcc</td><td>445544</td><td>3.3</td><td>122</td><td>758578073</td><td>0</td><td>0</td><td>758578061</td><td>n</td><td>1999-09-28</td><td>114</td><td>128.143</td><td>1.326</td><td>-190.5</td><td>2451449.9246</td><td>--</td><td>--</td><td>--</td><td>--</td><td>--</td><td>--</td><td>--</td><td>--</td><td>--</td><td>8257</td><td>64</td><td>ne</td><td>1</td><td>1</td><td>T</td><td>1.2</td><td>78</td><td>10.34</td><td>9.47</td><td>4</td><td>--</td><td>41900</td><td>963686</td><td>103</td><td>Opt</td></tr>\n",
       "<tr><td>24.694572</td><td>63.716732</td><td>1.154</td><td>24.694572</td><td>63.716732</td><td>0.07</td><td>0.06</td><td>0</td><td>01384669+6343002</td><td>7.440</td><td>0.021</td><td>0.027</td><td>36849.4</td><td>6.967</td><td>0.023</td><td>0.027</td><td>23556.5</td><td>6.936</td><td>0.031</td><td>0.034</td><td>13709.5</td><td>AAA</td><td>111</td><td>111</td><td>cdd</td><td>444444</td><td>3.3</td><td>302</td><td>758578061</td><td>0</td><td>0</td><td>758578073</td><td>n</td><td>1999-09-28</td><td>114</td><td>128.144</td><td>1.325</td><td>-193.3</td><td>2451449.9246</td><td>--</td><td>--</td><td>--</td><td>--</td><td>--</td><td>--</td><td>--</td><td>--</td><td>--</td><td>8259</td><td>62</td><td>ne</td><td>1</td><td>1</td><td>T</td><td>0.6</td><td>58</td><td>10.27</td><td>9.45</td><td>2</td><td>--</td><td>41900</td><td>963686</td><td>103</td><td>Opt</td></tr>\n",
       "</table>"
      ],
      "text/plain": [
       "<Table masked=True length=2>\n",
       " _RAJ2000   _DEJ2000     _r    RAJ2000   ... scanKey coaddKey coadd Opt \n",
       "   deg        deg       arcs     deg     ...                            \n",
       " float64    float64   float64  float64   ...  int32   int32   int16 str3\n",
       "---------- ---------- ------- ---------- ... ------- -------- ----- ----\n",
       " 24.692811  63.717216   4.347  24.692811 ...   41900   963686   103  Opt\n",
       " 24.694572  63.716732   1.154  24.694572 ...   41900   963686   103  Opt"
      ]
     },
     "execution_count": 10,
     "metadata": {},
     "output_type": "execute_result"
    }
   ],
   "source": [
    "import os\n",
    "from astroquery.vizier import Vizier\n",
    "from astropy.coordinates import SkyCoord\n",
    "import astropy.units as u\n",
    "\n",
    "dt = 15*u.yr # back to c. 2000\n",
    "i = 59 # just an example\n",
    "ra = df1.ra[i]*u.deg - dt*df1.pmra[i]*u.mas/u.yr\n",
    "dec = df1.dec[i]*u.deg - dt*df1.pmdec[i]*u.mas/u.yr\n",
    "q = Vizier.query_region(SkyCoord(ra, dec), radius=5*u.arcsec,\n",
    "                                catalog=['2mass'])\n",
    "q[0]"
   ]
  },
  {
   "cell_type": "markdown",
   "metadata": {},
   "source": [
    "The closest 2mass source is still 1.15 arcsec away from where this star should be, given the current coords and the proper motion.  What's even stranger is that the Tycho-2 query doesn't seem to match up either:"
   ]
  },
  {
   "cell_type": "code",
   "execution_count": 11,
   "metadata": {
    "collapsed": false
   },
   "outputs": [
    {
     "data": {
      "text/html": [
       "&lt;Table masked=True length=1&gt;\n",
       "<table id=\"table4721687056\">\n",
       "<thead><tr><th>_RAJ2000</th><th>_DEJ2000</th><th>_r</th><th>TYC1</th><th>TYC2</th><th>TYC3</th><th>pflag</th><th>RAmdeg</th><th>DEmdeg</th><th>pmRA</th><th>pmDE</th><th>e_RAmdeg</th><th>e_DEmdeg</th><th>e_pmRA</th><th>e_pmDE</th><th>EpRAm</th><th>EpDEm</th><th>Num</th><th>q_RAmdeg</th><th>q_DEmdeg</th><th>q_pmRA</th><th>q_pmDE</th><th>BTmag</th><th>e_BTmag</th><th>VTmag</th><th>e_VTmag</th><th>prox</th><th>TYC</th><th>HIP</th><th>CCDM</th><th>RA_ICRS_</th><th>DE_ICRS_</th><th>EpRA-1990</th><th>EpDE-1990</th><th>e_RAdeg</th><th>e_DEdeg</th><th>posflg</th><th>corr</th></tr></thead>\n",
       "<thead><tr><th>deg</th><th>deg</th><th>arcs</th><th></th><th></th><th></th><th></th><th>deg</th><th>deg</th><th>mas / yr</th><th>mas / yr</th><th>mas</th><th>mas</th><th>mas / yr</th><th>mas / yr</th><th>yr</th><th>yr</th><th></th><th></th><th></th><th></th><th></th><th>mag</th><th>mag</th><th>mag</th><th>mag</th><th></th><th></th><th></th><th></th><th>deg</th><th>deg</th><th>yr</th><th>yr</th><th>mas</th><th>mas</th><th></th><th></th></tr></thead>\n",
       "<thead><tr><th>float64</th><th>float64</th><th>float64</th><th>int16</th><th>int16</th><th>uint8</th><th>str1</th><th>float64</th><th>float64</th><th>float32</th><th>float32</th><th>int16</th><th>int16</th><th>float32</th><th>float32</th><th>float32</th><th>float32</th><th>int16</th><th>float32</th><th>float32</th><th>float32</th><th>float32</th><th>float32</th><th>float32</th><th>float32</th><th>float32</th><th>int16</th><th>str1</th><th>int32</th><th>str3</th><th>float64</th><th>float64</th><th>float32</th><th>float32</th><th>float32</th><th>float32</th><th>str1</th><th>float32</th></tr></thead>\n",
       "<tr><td>24.694258</td><td>63.716646</td><td>1.291</td><td>4035</td><td>103</td><td>2</td><td>X</td><td>--</td><td>--</td><td>--</td><td>--</td><td>--</td><td>--</td><td>--</td><td>--</td><td>--</td><td>--</td><td>--</td><td>--</td><td>--</td><td>--</td><td>--</td><td>10.501</td><td>0.032</td><td>9.533</td><td>0.021</td><td>39</td><td>T</td><td>7670</td><td>B</td><td>24.69425833</td><td>63.71664583</td><td>1.48</td><td>1.82</td><td>17.7</td><td>12.4</td><td></td><td>-0.1</td></tr>\n",
       "</table>"
      ],
      "text/plain": [
       "<Table masked=True length=1>\n",
       " _RAJ2000   _DEJ2000     _r    TYC1  TYC2 ... e_RAdeg e_DEdeg posflg   corr \n",
       "   deg        deg       arcs              ...   mas     mas                 \n",
       " float64    float64   float64 int16 int16 ... float32 float32  str1  float32\n",
       "---------- ---------- ------- ----- ----- ... ------- ------- ------ -------\n",
       " 24.694258  63.716646   1.291  4035   103 ...    17.7    12.4           -0.1"
      ]
     },
     "execution_count": 11,
     "metadata": {},
     "output_type": "execute_result"
    }
   ],
   "source": [
    "dt = (2015-1991.5)*u.yr # back to c. 1991.5 (what the Tycho-2 website says was avg. observation epoch)\n",
    "i = 59\n",
    "ra = df1.ra[i]*u.deg - dt*df1.pmra[i]*u.mas/u.yr\n",
    "dec = df1.dec[i]*u.deg - dt*df1.pmdec[i]*u.mas/u.yr\n",
    "q = Vizier.query_region(SkyCoord(ra, dec), radius=5*u.arcsec,\n",
    "                                catalog=['tycho2'])\n",
    "q[0]"
   ]
  },
  {
   "cell_type": "markdown",
   "metadata": {},
   "source": [
    "Still 1.2 arcsec away?  I must be misinterpreting the meaning of either the TGAS coordinates or the proper motions.  Or using astropy incorrectly?"
   ]
  },
  {
   "cell_type": "code",
   "execution_count": null,
   "metadata": {
    "collapsed": true
   },
   "outputs": [],
   "source": []
  }
 ],
 "metadata": {
  "kernelspec": {
   "display_name": "Python 2",
   "language": "python",
   "name": "python2"
  },
  "language_info": {
   "codemirror_mode": {
    "name": "ipython",
    "version": 2
   },
   "file_extension": ".py",
   "mimetype": "text/x-python",
   "name": "python",
   "nbconvert_exporter": "python",
   "pygments_lexer": "ipython2",
   "version": "2.7.12"
  }
 },
 "nbformat": 4,
 "nbformat_minor": 0
}
