{
 "cells": [
  {
   "cell_type": "markdown",
   "metadata": {},
   "source": [
    "# Coordinate testing"
   ]
  },
  {
   "cell_type": "code",
   "execution_count": 1,
   "metadata": {
    "collapsed": true
   },
   "outputs": [],
   "source": [
    "from __future__ import print_function, division\n",
    "import numpy as np\n",
    "import matplotlib.pyplot as plt\n",
    "import pandas as pd\n",
    "\n",
    "from astropy.io import fits"
   ]
  },
  {
   "cell_type": "code",
   "execution_count": 2,
   "metadata": {
    "collapsed": true
   },
   "outputs": [],
   "source": [
    "# Test set of binary matches from APW\n",
    "df1 = pd.DataFrame(fits.getdata('../data/tim-binaries-1.fits'))\n",
    "df2 = pd.DataFrame(fits.getdata('../data/tim-binaries-2.fits'))"
   ]
  },
  {
   "cell_type": "code",
   "execution_count": 10,
   "metadata": {
    "collapsed": false
   },
   "outputs": [
    {
     "data": {
      "text/html": [
       "&lt;Table masked=True length=2&gt;\n",
       "<table id=\"table4720851600\">\n",
       "<thead><tr><th>_RAJ2000</th><th>_DEJ2000</th><th>_r</th><th>RAJ2000</th><th>DEJ2000</th><th>errMaj</th><th>errMin</th><th>errPA</th><th>_2MASS</th><th>Jmag</th><th>Jcmsig</th><th>e_Jmag</th><th>Jsnr</th><th>Hmag</th><th>Hcmsig</th><th>e_Hmag</th><th>Hsnr</th><th>Kmag</th><th>Kcmsig</th><th>e_Kmag</th><th>Ksnr</th><th>Qflg</th><th>Rflg</th><th>Bflg</th><th>Cflg</th><th>Ndet</th><th>prox</th><th>pxPA</th><th>pxCntr</th><th>Xflg</th><th>Aflg</th><th>Cntr</th><th>Hemis</th><th>Date</th><th>Scan</th><th>GLON</th><th>GLAT</th><th>Xscan</th><th>JD</th><th>Jpsfchi</th><th>Hpsfchi</th><th>Kpsfchi</th><th>Jstdap</th><th>e_Jstdap</th><th>Hstdap</th><th>e_Hstdap</th><th>Kstdap</th><th>e_Kstdap</th><th>edgeNS</th><th>edgeEW</th><th>edge</th><th>dup</th><th>use</th><th>opt</th><th>Dopt</th><th>PAopt</th><th>Bmag</th><th>Rmag</th><th>Nopt</th><th>extKey</th><th>scanKey</th><th>coaddKey</th><th>coadd</th><th>Opt</th></tr></thead>\n",
       "<thead><tr><th>deg</th><th>deg</th><th>arcs</th><th>deg</th><th>deg</th><th>arcs</th><th>arcs</th><th>deg</th><th></th><th>mag</th><th>mag</th><th>mag</th><th></th><th>mag</th><th>mag</th><th>mag</th><th></th><th>mag</th><th>mag</th><th>mag</th><th></th><th></th><th></th><th></th><th></th><th></th><th>arcs</th><th>deg</th><th></th><th></th><th></th><th></th><th></th><th></th><th></th><th>deg</th><th>deg</th><th>arcs</th><th>d</th><th></th><th></th><th></th><th>mag</th><th>mag</th><th>mag</th><th>mag</th><th>mag</th><th>mag</th><th>arcs</th><th>arcs</th><th></th><th></th><th></th><th></th><th>arcs</th><th>deg</th><th>mag</th><th>mag</th><th></th><th></th><th></th><th></th><th></th><th></th></tr></thead>\n",
       "<thead><tr><th>float64</th><th>float64</th><th>float64</th><th>float64</th><th>float64</th><th>float32</th><th>float32</th><th>int16</th><th>str17</th><th>float32</th><th>float32</th><th>float32</th><th>float64</th><th>float32</th><th>float32</th><th>float32</th><th>float64</th><th>float32</th><th>float32</th><th>float32</th><th>float64</th><th>str3</th><th>str3</th><th>str3</th><th>str3</th><th>str6</th><th>float32</th><th>int16</th><th>int64</th><th>uint8</th><th>uint8</th><th>int64</th><th>str1</th><th>str10</th><th>int16</th><th>float64</th><th>float64</th><th>float32</th><th>float64</th><th>float32</th><th>float32</th><th>float32</th><th>float32</th><th>float32</th><th>float32</th><th>float32</th><th>float32</th><th>float32</th><th>int32</th><th>int16</th><th>str2</th><th>uint8</th><th>uint8</th><th>str1</th><th>float32</th><th>int16</th><th>float32</th><th>float32</th><th>uint8</th><th>int32</th><th>int32</th><th>int32</th><th>int16</th><th>str3</th></tr></thead>\n",
       "<tr><td>24.692811</td><td>63.717216</td><td>4.347</td><td>24.692811</td><td>63.717216</td><td>0.07</td><td>0.06</td><td>0</td><td>01384627+6343019</td><td>7.434</td><td>0.035</td><td>0.039</td><td>37053.6</td><td>6.993</td><td>0.031</td><td>0.034</td><td>22999.1</td><td>6.939</td><td>0.029</td><td>0.033</td><td>13671.6</td><td>AAA</td><td>111</td><td>111</td><td>dcc</td><td>445544</td><td>3.3</td><td>122</td><td>758578073</td><td>0</td><td>0</td><td>758578061</td><td>n</td><td>1999-09-28</td><td>114</td><td>128.143</td><td>1.326</td><td>-190.5</td><td>2451449.9246</td><td>--</td><td>--</td><td>--</td><td>--</td><td>--</td><td>--</td><td>--</td><td>--</td><td>--</td><td>8257</td><td>64</td><td>ne</td><td>1</td><td>1</td><td>T</td><td>1.2</td><td>78</td><td>10.34</td><td>9.47</td><td>4</td><td>--</td><td>41900</td><td>963686</td><td>103</td><td>Opt</td></tr>\n",
       "<tr><td>24.694572</td><td>63.716732</td><td>1.154</td><td>24.694572</td><td>63.716732</td><td>0.07</td><td>0.06</td><td>0</td><td>01384669+6343002</td><td>7.440</td><td>0.021</td><td>0.027</td><td>36849.4</td><td>6.967</td><td>0.023</td><td>0.027</td><td>23556.5</td><td>6.936</td><td>0.031</td><td>0.034</td><td>13709.5</td><td>AAA</td><td>111</td><td>111</td><td>cdd</td><td>444444</td><td>3.3</td><td>302</td><td>758578061</td><td>0</td><td>0</td><td>758578073</td><td>n</td><td>1999-09-28</td><td>114</td><td>128.144</td><td>1.325</td><td>-193.3</td><td>2451449.9246</td><td>--</td><td>--</td><td>--</td><td>--</td><td>--</td><td>--</td><td>--</td><td>--</td><td>--</td><td>8259</td><td>62</td><td>ne</td><td>1</td><td>1</td><td>T</td><td>0.6</td><td>58</td><td>10.27</td><td>9.45</td><td>2</td><td>--</td><td>41900</td><td>963686</td><td>103</td><td>Opt</td></tr>\n",
       "</table>"
      ],
      "text/plain": [
       "<Table masked=True length=2>\n",
       " _RAJ2000   _DEJ2000     _r    RAJ2000   ... scanKey coaddKey coadd Opt \n",
       "   deg        deg       arcs     deg     ...                            \n",
       " float64    float64   float64  float64   ...  int32   int32   int16 str3\n",
       "---------- ---------- ------- ---------- ... ------- -------- ----- ----\n",
       " 24.692811  63.717216   4.347  24.692811 ...   41900   963686   103  Opt\n",
       " 24.694572  63.716732   1.154  24.694572 ...   41900   963686   103  Opt"
      ]
     },
     "execution_count": 10,
     "metadata": {},
     "output_type": "execute_result"
    }
   ],
   "source": [
    "import os\n",
    "from astroquery.vizier import Vizier\n",
    "from astropy.coordinates import SkyCoord\n",
    "import astropy.units as u\n",
    "\n",
    "dt = 15*u.yr # back to c. 2000\n",
    "i = 59 # just an example\n",
    "ra = df1.ra[i]*u.deg - dt*df1.pmra[i]*u.mas/u.yr\n",
    "dec = df1.dec[i]*u.deg - dt*df1.pmdec[i]*u.mas/u.yr\n",
    "q = Vizier.query_region(SkyCoord(ra, dec), radius=5*u.arcsec,\n",
    "                                catalog=['2mass'])\n",
    "q[0]"
   ]
  },
  {
   "cell_type": "markdown",
   "metadata": {},
   "source": [
    "The closest 2mass source is still 1.15 arcsec away from where this star should be, given the current coords and the proper motion.  What's even stranger is that the Tycho-2 query doesn't seem to match up either:"
   ]
  },
  {
   "cell_type": "code",
   "execution_count": 11,
   "metadata": {
    "collapsed": false
   },
   "outputs": [
    {
     "data": {
      "text/html": [
       "&lt;Table masked=True length=1&gt;\n",
       "<table id=\"table4721687056\">\n",
       "<thead><tr><th>_RAJ2000</th><th>_DEJ2000</th><th>_r</th><th>TYC1</th><th>TYC2</th><th>TYC3</th><th>pflag</th><th>RAmdeg</th><th>DEmdeg</th><th>pmRA</th><th>pmDE</th><th>e_RAmdeg</th><th>e_DEmdeg</th><th>e_pmRA</th><th>e_pmDE</th><th>EpRAm</th><th>EpDEm</th><th>Num</th><th>q_RAmdeg</th><th>q_DEmdeg</th><th>q_pmRA</th><th>q_pmDE</th><th>BTmag</th><th>e_BTmag</th><th>VTmag</th><th>e_VTmag</th><th>prox</th><th>TYC</th><th>HIP</th><th>CCDM</th><th>RA_ICRS_</th><th>DE_ICRS_</th><th>EpRA-1990</th><th>EpDE-1990</th><th>e_RAdeg</th><th>e_DEdeg</th><th>posflg</th><th>corr</th></tr></thead>\n",
       "<thead><tr><th>deg</th><th>deg</th><th>arcs</th><th></th><th></th><th></th><th></th><th>deg</th><th>deg</th><th>mas / yr</th><th>mas / yr</th><th>mas</th><th>mas</th><th>mas / yr</th><th>mas / yr</th><th>yr</th><th>yr</th><th></th><th></th><th></th><th></th><th></th><th>mag</th><th>mag</th><th>mag</th><th>mag</th><th></th><th></th><th></th><th></th><th>deg</th><th>deg</th><th>yr</th><th>yr</th><th>mas</th><th>mas</th><th></th><th></th></tr></thead>\n",
       "<thead><tr><th>float64</th><th>float64</th><th>float64</th><th>int16</th><th>int16</th><th>uint8</th><th>str1</th><th>float64</th><th>float64</th><th>float32</th><th>float32</th><th>int16</th><th>int16</th><th>float32</th><th>float32</th><th>float32</th><th>float32</th><th>int16</th><th>float32</th><th>float32</th><th>float32</th><th>float32</th><th>float32</th><th>float32</th><th>float32</th><th>float32</th><th>int16</th><th>str1</th><th>int32</th><th>str3</th><th>float64</th><th>float64</th><th>float32</th><th>float32</th><th>float32</th><th>float32</th><th>str1</th><th>float32</th></tr></thead>\n",
       "<tr><td>24.694258</td><td>63.716646</td><td>1.291</td><td>4035</td><td>103</td><td>2</td><td>X</td><td>--</td><td>--</td><td>--</td><td>--</td><td>--</td><td>--</td><td>--</td><td>--</td><td>--</td><td>--</td><td>--</td><td>--</td><td>--</td><td>--</td><td>--</td><td>10.501</td><td>0.032</td><td>9.533</td><td>0.021</td><td>39</td><td>T</td><td>7670</td><td>B</td><td>24.69425833</td><td>63.71664583</td><td>1.48</td><td>1.82</td><td>17.7</td><td>12.4</td><td></td><td>-0.1</td></tr>\n",
       "</table>"
      ],
      "text/plain": [
       "<Table masked=True length=1>\n",
       " _RAJ2000   _DEJ2000     _r    TYC1  TYC2 ... e_RAdeg e_DEdeg posflg   corr \n",
       "   deg        deg       arcs              ...   mas     mas                 \n",
       " float64    float64   float64 int16 int16 ... float32 float32  str1  float32\n",
       "---------- ---------- ------- ----- ----- ... ------- ------- ------ -------\n",
       " 24.694258  63.716646   1.291  4035   103 ...    17.7    12.4           -0.1"
      ]
     },
     "execution_count": 11,
     "metadata": {},
     "output_type": "execute_result"
    }
   ],
   "source": [
    "dt = (2015-1991.5)*u.yr # back to c. 1991.5 (what the Tycho-2 website says was avg. observation epoch)\n",
    "i = 59\n",
    "ra = df1.ra[i]*u.deg - dt*df1.pmra[i]*u.mas/u.yr\n",
    "dec = df1.dec[i]*u.deg - dt*df1.pmdec[i]*u.mas/u.yr\n",
    "q = Vizier.query_region(SkyCoord(ra, dec), radius=5*u.arcsec,\n",
    "                                catalog=['tycho2'])\n",
    "q[0]"
   ]
  },
  {
   "cell_type": "markdown",
   "metadata": {},
   "source": [
    "Still 1.2 arcsec away?  I must be misinterpreting the meaning of either the TGAS coordinates or the proper motions.  Or using astropy incorrectly?"
   ]
  },
  {
   "cell_type": "markdown",
   "metadata": {},
   "source": [
    "Let's now look at the whole list to see how often a mismatch like this occurs."
   ]
  },
  {
   "cell_type": "code",
   "execution_count": 71,
   "metadata": {
    "collapsed": false
   },
   "outputs": [],
   "source": [
    "from astropy.time import Time\n",
    "\n",
    "dt = 15 * u.yr\n",
    "\n",
    "ra_all = df1.ra.values * u.deg - dt*df1.pmra.values*u.mas/u.yr\n",
    "dec_all = df1.dec.values * u.deg - dt*df1.pmdec.values*u.mas/u.yr\n",
    "coords = SkyCoord(ra_all, dec_all, frame='icrs')\n",
    "q_all = Vizier.query_region(coords, radius=2*u.arcsec, catalog=['tycho2'])"
   ]
  },
  {
   "cell_type": "code",
   "execution_count": 72,
   "metadata": {
    "collapsed": false
   },
   "outputs": [
    {
     "data": {
      "text/html": [
       "<div>\n",
       "<table border=\"1\" class=\"dataframe\">\n",
       "  <thead>\n",
       "    <tr style=\"text-align: right;\">\n",
       "      <th></th>\n",
       "      <th>_q</th>\n",
       "      <th>_RAJ2000</th>\n",
       "      <th>_DEJ2000</th>\n",
       "      <th>_r</th>\n",
       "      <th>TYC1</th>\n",
       "      <th>TYC2</th>\n",
       "      <th>TYC3</th>\n",
       "      <th>pflag</th>\n",
       "      <th>RAmdeg</th>\n",
       "      <th>DEmdeg</th>\n",
       "      <th>...</th>\n",
       "      <th>HIP</th>\n",
       "      <th>CCDM</th>\n",
       "      <th>RA_ICRS_</th>\n",
       "      <th>DE_ICRS_</th>\n",
       "      <th>EpRA-1990</th>\n",
       "      <th>EpDE-1990</th>\n",
       "      <th>e_RAdeg</th>\n",
       "      <th>e_DEdeg</th>\n",
       "      <th>posflg</th>\n",
       "      <th>corr</th>\n",
       "    </tr>\n",
       "  </thead>\n",
       "  <tbody>\n",
       "    <tr>\n",
       "      <th>0</th>\n",
       "      <td>1</td>\n",
       "      <td>42.713319</td>\n",
       "      <td>3.502058</td>\n",
       "      <td>1.658</td>\n",
       "      <td>51</td>\n",
       "      <td>276</td>\n",
       "      <td>1</td>\n",
       "      <td></td>\n",
       "      <td>42.713319</td>\n",
       "      <td>3.502057</td>\n",
       "      <td>...</td>\n",
       "      <td>-2147483648</td>\n",
       "      <td></td>\n",
       "      <td>42.712877</td>\n",
       "      <td>3.502181</td>\n",
       "      <td>1.73</td>\n",
       "      <td>1.66</td>\n",
       "      <td>81.900002</td>\n",
       "      <td>96.000000</td>\n",
       "      <td></td>\n",
       "      <td>-0.1</td>\n",
       "    </tr>\n",
       "    <tr>\n",
       "      <th>1</th>\n",
       "      <td>4</td>\n",
       "      <td>42.714897</td>\n",
       "      <td>3.510067</td>\n",
       "      <td>1.756</td>\n",
       "      <td>51</td>\n",
       "      <td>838</td>\n",
       "      <td>1</td>\n",
       "      <td></td>\n",
       "      <td>42.714923</td>\n",
       "      <td>3.510053</td>\n",
       "      <td>...</td>\n",
       "      <td>-2147483648</td>\n",
       "      <td></td>\n",
       "      <td>42.714460</td>\n",
       "      <td>3.510190</td>\n",
       "      <td>1.71</td>\n",
       "      <td>1.67</td>\n",
       "      <td>69.099998</td>\n",
       "      <td>78.699997</td>\n",
       "      <td></td>\n",
       "      <td>-0.1</td>\n",
       "    </tr>\n",
       "    <tr>\n",
       "      <th>2</th>\n",
       "      <td>7</td>\n",
       "      <td>49.359947</td>\n",
       "      <td>7.655806</td>\n",
       "      <td>1.404</td>\n",
       "      <td>649</td>\n",
       "      <td>766</td>\n",
       "      <td>1</td>\n",
       "      <td></td>\n",
       "      <td>49.359947</td>\n",
       "      <td>7.655806</td>\n",
       "      <td>...</td>\n",
       "      <td>15304</td>\n",
       "      <td></td>\n",
       "      <td>49.359563</td>\n",
       "      <td>7.655821</td>\n",
       "      <td>1.80</td>\n",
       "      <td>1.61</td>\n",
       "      <td>5.100000</td>\n",
       "      <td>6.300000</td>\n",
       "      <td></td>\n",
       "      <td>-0.2</td>\n",
       "    </tr>\n",
       "    <tr>\n",
       "      <th>3</th>\n",
       "      <td>10</td>\n",
       "      <td>49.386584</td>\n",
       "      <td>7.690147</td>\n",
       "      <td>1.443</td>\n",
       "      <td>649</td>\n",
       "      <td>1241</td>\n",
       "      <td>1</td>\n",
       "      <td></td>\n",
       "      <td>49.386584</td>\n",
       "      <td>7.690146</td>\n",
       "      <td>...</td>\n",
       "      <td>15310</td>\n",
       "      <td></td>\n",
       "      <td>49.386193</td>\n",
       "      <td>7.690167</td>\n",
       "      <td>1.80</td>\n",
       "      <td>1.60</td>\n",
       "      <td>6.100000</td>\n",
       "      <td>7.900000</td>\n",
       "      <td></td>\n",
       "      <td>0.0</td>\n",
       "    </tr>\n",
       "    <tr>\n",
       "      <th>4</th>\n",
       "      <td>13</td>\n",
       "      <td>55.240636</td>\n",
       "      <td>13.150972</td>\n",
       "      <td>0.384</td>\n",
       "      <td>663</td>\n",
       "      <td>362</td>\n",
       "      <td>1</td>\n",
       "      <td></td>\n",
       "      <td>55.240635</td>\n",
       "      <td>13.150972</td>\n",
       "      <td>...</td>\n",
       "      <td>-2147483648</td>\n",
       "      <td></td>\n",
       "      <td>55.240579</td>\n",
       "      <td>13.151029</td>\n",
       "      <td>1.69</td>\n",
       "      <td>1.43</td>\n",
       "      <td>34.000000</td>\n",
       "      <td>47.500000</td>\n",
       "      <td></td>\n",
       "      <td>0.0</td>\n",
       "    </tr>\n",
       "  </tbody>\n",
       "</table>\n",
       "<p>5 rows × 39 columns</p>\n",
       "</div>"
      ],
      "text/plain": [
       "   _q   _RAJ2000   _DEJ2000     _r  TYC1  TYC2  TYC3 pflag     RAmdeg  \\\n",
       "0   1  42.713319   3.502058  1.658    51   276     1        42.713319   \n",
       "1   4  42.714897   3.510067  1.756    51   838     1        42.714923   \n",
       "2   7  49.359947   7.655806  1.404   649   766     1        49.359947   \n",
       "3  10  49.386584   7.690147  1.443   649  1241     1        49.386584   \n",
       "4  13  55.240636  13.150972  0.384   663   362     1        55.240635   \n",
       "\n",
       "      DEmdeg  ...          HIP  CCDM   RA_ICRS_   DE_ICRS_  EpRA-1990  \\\n",
       "0   3.502057  ...  -2147483648        42.712877   3.502181       1.73   \n",
       "1   3.510053  ...  -2147483648        42.714460   3.510190       1.71   \n",
       "2   7.655806  ...        15304        49.359563   7.655821       1.80   \n",
       "3   7.690146  ...        15310        49.386193   7.690167       1.80   \n",
       "4  13.150972  ...  -2147483648        55.240579  13.151029       1.69   \n",
       "\n",
       "   EpDE-1990    e_RAdeg    e_DEdeg  posflg  corr  \n",
       "0       1.66  81.900002  96.000000          -0.1  \n",
       "1       1.67  69.099998  78.699997          -0.1  \n",
       "2       1.61   5.100000   6.300000          -0.2  \n",
       "3       1.60   6.100000   7.900000           0.0  \n",
       "4       1.43  34.000000  47.500000           0.0  \n",
       "\n",
       "[5 rows x 39 columns]"
      ]
     },
     "execution_count": 72,
     "metadata": {},
     "output_type": "execute_result"
    }
   ],
   "source": [
    "df = pd.DataFrame(np.array(q_all[0]))\n",
    "df.head()"
   ]
  },
  {
   "cell_type": "markdown",
   "metadata": {},
   "source": [
    "There's a lot of closest matches to Tycho-2 that are off:"
   ]
  },
  {
   "cell_type": "code",
   "execution_count": 79,
   "metadata": {
    "collapsed": false
   },
   "outputs": [],
   "source": [
    "c1 = SkyCoord(df.RA_ICRS_.values, df.DE_ICRS_.values, \n",
    "                   unit='deg', frame='icrs')\n",
    "c2 = SkyCoord(df._RAJ2000.values, df._DEJ2000.values, \n",
    "                   unit='deg', frame='icrs')\n",
    "df['distance'] = c1.separation(c2).arcsec"
   ]
  },
  {
   "cell_type": "code",
   "execution_count": 85,
   "metadata": {
    "collapsed": false
   },
   "outputs": [
    {
     "data": {
      "image/png": "[encoded data removed]",
      "text/plain": [
       "<matplotlib.figure.Figure at 0x119e73b10>"
      ]
     },
     "metadata": {},
     "output_type": "display_data"
    }
   ],
   "source": [
    "%matplotlib inline\n",
    "plt.plot(df._r, df.distance, 'o', ms=2);"
   ]
  },
  {
   "cell_type": "code",
   "execution_count": 87,
   "metadata": {
    "collapsed": false
   },
   "outputs": [
    {
     "data": {
      "text/html": [
       "<div>\n",
       "<table border=\"1\" class=\"dataframe\">\n",
       "  <thead>\n",
       "    <tr style=\"text-align: right;\">\n",
       "      <th></th>\n",
       "      <th>_r</th>\n",
       "      <th>distance</th>\n",
       "    </tr>\n",
       "  </thead>\n",
       "  <tbody>\n",
       "    <tr>\n",
       "      <th>333</th>\n",
       "      <td>1.947</td>\n",
       "      <td>1.047717</td>\n",
       "    </tr>\n",
       "    <tr>\n",
       "      <th>84</th>\n",
       "      <td>1.936</td>\n",
       "      <td>1.801364</td>\n",
       "    </tr>\n",
       "    <tr>\n",
       "      <th>83</th>\n",
       "      <td>1.927</td>\n",
       "      <td>1.813585</td>\n",
       "    </tr>\n",
       "    <tr>\n",
       "      <th>332</th>\n",
       "      <td>1.895</td>\n",
       "      <td>1.058424</td>\n",
       "    </tr>\n",
       "    <tr>\n",
       "      <th>275</th>\n",
       "      <td>1.892</td>\n",
       "      <td>1.158377</td>\n",
       "    </tr>\n",
       "    <tr>\n",
       "      <th>141</th>\n",
       "      <td>1.864</td>\n",
       "      <td>0.432961</td>\n",
       "    </tr>\n",
       "    <tr>\n",
       "      <th>181</th>\n",
       "      <td>1.834</td>\n",
       "      <td>1.778121</td>\n",
       "    </tr>\n",
       "    <tr>\n",
       "      <th>156</th>\n",
       "      <td>1.833</td>\n",
       "      <td>1.766876</td>\n",
       "    </tr>\n",
       "    <tr>\n",
       "      <th>155</th>\n",
       "      <td>1.829</td>\n",
       "      <td>1.721965</td>\n",
       "    </tr>\n",
       "    <tr>\n",
       "      <th>334</th>\n",
       "      <td>1.811</td>\n",
       "      <td>1.047493</td>\n",
       "    </tr>\n",
       "    <tr>\n",
       "      <th>304</th>\n",
       "      <td>1.809</td>\n",
       "      <td>1.072854</td>\n",
       "    </tr>\n",
       "    <tr>\n",
       "      <th>142</th>\n",
       "      <td>1.805</td>\n",
       "      <td>0.000792</td>\n",
       "    </tr>\n",
       "    <tr>\n",
       "      <th>24</th>\n",
       "      <td>1.804</td>\n",
       "      <td>1.763170</td>\n",
       "    </tr>\n",
       "    <tr>\n",
       "      <th>335</th>\n",
       "      <td>1.798</td>\n",
       "      <td>1.029776</td>\n",
       "    </tr>\n",
       "    <tr>\n",
       "      <th>274</th>\n",
       "      <td>1.786</td>\n",
       "      <td>1.170733</td>\n",
       "    </tr>\n",
       "    <tr>\n",
       "      <th>62</th>\n",
       "      <td>1.782</td>\n",
       "      <td>1.015844</td>\n",
       "    </tr>\n",
       "    <tr>\n",
       "      <th>63</th>\n",
       "      <td>1.781</td>\n",
       "      <td>1.051373</td>\n",
       "    </tr>\n",
       "    <tr>\n",
       "      <th>67</th>\n",
       "      <td>1.775</td>\n",
       "      <td>1.493897</td>\n",
       "    </tr>\n",
       "    <tr>\n",
       "      <th>182</th>\n",
       "      <td>1.774</td>\n",
       "      <td>1.738349</td>\n",
       "    </tr>\n",
       "    <tr>\n",
       "      <th>68</th>\n",
       "      <td>1.766</td>\n",
       "      <td>1.472207</td>\n",
       "    </tr>\n",
       "    <tr>\n",
       "      <th>1</th>\n",
       "      <td>1.756</td>\n",
       "      <td>1.630520</td>\n",
       "    </tr>\n",
       "    <tr>\n",
       "      <th>305</th>\n",
       "      <td>1.749</td>\n",
       "      <td>1.033719</td>\n",
       "    </tr>\n",
       "    <tr>\n",
       "      <th>23</th>\n",
       "      <td>1.726</td>\n",
       "      <td>1.752887</td>\n",
       "    </tr>\n",
       "    <tr>\n",
       "      <th>57</th>\n",
       "      <td>1.696</td>\n",
       "      <td>0.930471</td>\n",
       "    </tr>\n",
       "    <tr>\n",
       "      <th>65</th>\n",
       "      <td>1.691</td>\n",
       "      <td>1.196002</td>\n",
       "    </tr>\n",
       "    <tr>\n",
       "      <th>56</th>\n",
       "      <td>1.673</td>\n",
       "      <td>0.000807</td>\n",
       "    </tr>\n",
       "    <tr>\n",
       "      <th>0</th>\n",
       "      <td>1.658</td>\n",
       "      <td>1.647176</td>\n",
       "    </tr>\n",
       "    <tr>\n",
       "      <th>66</th>\n",
       "      <td>1.655</td>\n",
       "      <td>1.184658</td>\n",
       "    </tr>\n",
       "    <tr>\n",
       "      <th>64</th>\n",
       "      <td>1.574</td>\n",
       "      <td>1.498669</td>\n",
       "    </tr>\n",
       "    <tr>\n",
       "      <th>271</th>\n",
       "      <td>1.557</td>\n",
       "      <td>1.388495</td>\n",
       "    </tr>\n",
       "    <tr>\n",
       "      <th>...</th>\n",
       "      <td>...</td>\n",
       "      <td>...</td>\n",
       "    </tr>\n",
       "    <tr>\n",
       "      <th>73</th>\n",
       "      <td>0.182</td>\n",
       "      <td>0.105812</td>\n",
       "    </tr>\n",
       "    <tr>\n",
       "      <th>311</th>\n",
       "      <td>0.177</td>\n",
       "      <td>0.192379</td>\n",
       "    </tr>\n",
       "    <tr>\n",
       "      <th>291</th>\n",
       "      <td>0.176</td>\n",
       "      <td>0.203886</td>\n",
       "    </tr>\n",
       "    <tr>\n",
       "      <th>55</th>\n",
       "      <td>0.175</td>\n",
       "      <td>0.185368</td>\n",
       "    </tr>\n",
       "    <tr>\n",
       "      <th>282</th>\n",
       "      <td>0.174</td>\n",
       "      <td>0.099438</td>\n",
       "    </tr>\n",
       "    <tr>\n",
       "      <th>292</th>\n",
       "      <td>0.172</td>\n",
       "      <td>0.179755</td>\n",
       "    </tr>\n",
       "    <tr>\n",
       "      <th>226</th>\n",
       "      <td>0.171</td>\n",
       "      <td>0.180919</td>\n",
       "    </tr>\n",
       "    <tr>\n",
       "      <th>211</th>\n",
       "      <td>0.170</td>\n",
       "      <td>0.045899</td>\n",
       "    </tr>\n",
       "    <tr>\n",
       "      <th>197</th>\n",
       "      <td>0.170</td>\n",
       "      <td>0.145624</td>\n",
       "    </tr>\n",
       "    <tr>\n",
       "      <th>310</th>\n",
       "      <td>0.169</td>\n",
       "      <td>0.175489</td>\n",
       "    </tr>\n",
       "    <tr>\n",
       "      <th>198</th>\n",
       "      <td>0.157</td>\n",
       "      <td>0.120195</td>\n",
       "    </tr>\n",
       "    <tr>\n",
       "      <th>34</th>\n",
       "      <td>0.150</td>\n",
       "      <td>0.113206</td>\n",
       "    </tr>\n",
       "    <tr>\n",
       "      <th>287</th>\n",
       "      <td>0.145</td>\n",
       "      <td>0.224704</td>\n",
       "    </tr>\n",
       "    <tr>\n",
       "      <th>196</th>\n",
       "      <td>0.143</td>\n",
       "      <td>0.114333</td>\n",
       "    </tr>\n",
       "    <tr>\n",
       "      <th>14</th>\n",
       "      <td>0.133</td>\n",
       "      <td>0.100590</td>\n",
       "    </tr>\n",
       "    <tr>\n",
       "      <th>48</th>\n",
       "      <td>0.130</td>\n",
       "      <td>0.056572</td>\n",
       "    </tr>\n",
       "    <tr>\n",
       "      <th>247</th>\n",
       "      <td>0.125</td>\n",
       "      <td>0.126663</td>\n",
       "    </tr>\n",
       "    <tr>\n",
       "      <th>266</th>\n",
       "      <td>0.120</td>\n",
       "      <td>0.072129</td>\n",
       "    </tr>\n",
       "    <tr>\n",
       "      <th>337</th>\n",
       "      <td>0.120</td>\n",
       "      <td>0.023608</td>\n",
       "    </tr>\n",
       "    <tr>\n",
       "      <th>47</th>\n",
       "      <td>0.116</td>\n",
       "      <td>0.096655</td>\n",
       "    </tr>\n",
       "    <tr>\n",
       "      <th>248</th>\n",
       "      <td>0.114</td>\n",
       "      <td>0.139825</td>\n",
       "    </tr>\n",
       "    <tr>\n",
       "      <th>160</th>\n",
       "      <td>0.111</td>\n",
       "      <td>0.080334</td>\n",
       "    </tr>\n",
       "    <tr>\n",
       "      <th>336</th>\n",
       "      <td>0.104</td>\n",
       "      <td>0.012808</td>\n",
       "    </tr>\n",
       "    <tr>\n",
       "      <th>331</th>\n",
       "      <td>0.102</td>\n",
       "      <td>0.047456</td>\n",
       "    </tr>\n",
       "    <tr>\n",
       "      <th>13</th>\n",
       "      <td>0.099</td>\n",
       "      <td>0.126727</td>\n",
       "    </tr>\n",
       "    <tr>\n",
       "      <th>330</th>\n",
       "      <td>0.094</td>\n",
       "      <td>0.079681</td>\n",
       "    </tr>\n",
       "    <tr>\n",
       "      <th>212</th>\n",
       "      <td>0.080</td>\n",
       "      <td>0.074091</td>\n",
       "    </tr>\n",
       "    <tr>\n",
       "      <th>265</th>\n",
       "      <td>0.076</td>\n",
       "      <td>0.046147</td>\n",
       "    </tr>\n",
       "    <tr>\n",
       "      <th>195</th>\n",
       "      <td>0.052</td>\n",
       "      <td>0.122717</td>\n",
       "    </tr>\n",
       "    <tr>\n",
       "      <th>159</th>\n",
       "      <td>0.050</td>\n",
       "      <td>0.054872</td>\n",
       "    </tr>\n",
       "  </tbody>\n",
       "</table>\n",
       "<p>356 rows × 2 columns</p>\n",
       "</div>"
      ],
      "text/plain": [
       "        _r  distance\n",
       "333  1.947  1.047717\n",
       "84   1.936  1.801364\n",
       "83   1.927  1.813585\n",
       "332  1.895  1.058424\n",
       "275  1.892  1.158377\n",
       "141  1.864  0.432961\n",
       "181  1.834  1.778121\n",
       "156  1.833  1.766876\n",
       "155  1.829  1.721965\n",
       "334  1.811  1.047493\n",
       "304  1.809  1.072854\n",
       "142  1.805  0.000792\n",
       "24   1.804  1.763170\n",
       "335  1.798  1.029776\n",
       "274  1.786  1.170733\n",
       "62   1.782  1.015844\n",
       "63   1.781  1.051373\n",
       "67   1.775  1.493897\n",
       "182  1.774  1.738349\n",
       "68   1.766  1.472207\n",
       "1    1.756  1.630520\n",
       "305  1.749  1.033719\n",
       "23   1.726  1.752887\n",
       "57   1.696  0.930471\n",
       "65   1.691  1.196002\n",
       "56   1.673  0.000807\n",
       "0    1.658  1.647176\n",
       "66   1.655  1.184658\n",
       "64   1.574  1.498669\n",
       "271  1.557  1.388495\n",
       "..     ...       ...\n",
       "73   0.182  0.105812\n",
       "311  0.177  0.192379\n",
       "291  0.176  0.203886\n",
       "55   0.175  0.185368\n",
       "282  0.174  0.099438\n",
       "292  0.172  0.179755\n",
       "226  0.171  0.180919\n",
       "211  0.170  0.045899\n",
       "197  0.170  0.145624\n",
       "310  0.169  0.175489\n",
       "198  0.157  0.120195\n",
       "34   0.150  0.113206\n",
       "287  0.145  0.224704\n",
       "196  0.143  0.114333\n",
       "14   0.133  0.100590\n",
       "48   0.130  0.056572\n",
       "247  0.125  0.126663\n",
       "266  0.120  0.072129\n",
       "337  0.120  0.023608\n",
       "47   0.116  0.096655\n",
       "248  0.114  0.139825\n",
       "160  0.111  0.080334\n",
       "336  0.104  0.012808\n",
       "331  0.102  0.047456\n",
       "13   0.099  0.126727\n",
       "330  0.094  0.079681\n",
       "212  0.080  0.074091\n",
       "265  0.076  0.046147\n",
       "195  0.052  0.122717\n",
       "159  0.050  0.054872\n",
       "\n",
       "[356 rows x 2 columns]"
      ]
     },
     "execution_count": 87,
     "metadata": {},
     "output_type": "execute_result"
    }
   ],
   "source": [
    "df[['_r', 'distance']].sort_values(by='_r', ascending=False)"
   ]
  },
  {
   "cell_type": "code",
   "execution_count": 59,
   "metadata": {
    "collapsed": false
   },
   "outputs": [
    {
     "data": {
      "text/plain": [
       "(408, 162)"
      ]
     },
     "execution_count": 59,
     "metadata": {},
     "output_type": "execute_result"
    }
   ],
   "source": [
    "len(df.groupby('_q')._r.min()), (df.groupby('_q')._r.min() > 1).sum()"
   ]
  },
  {
   "cell_type": "code",
   "execution_count": 91,
   "metadata": {
    "collapsed": false
   },
   "outputs": [
    {
     "data": {
      "text/html": [
       "<div>\n",
       "<table border=\"1\" class=\"dataframe\">\n",
       "  <thead>\n",
       "    <tr style=\"text-align: right;\">\n",
       "      <th></th>\n",
       "      <th>hip</th>\n",
       "      <th>tycho2_id</th>\n",
       "    </tr>\n",
       "  </thead>\n",
       "  <tbody>\n",
       "    <tr>\n",
       "      <th>0</th>\n",
       "      <td>-2147483648</td>\n",
       "      <td>51-276-1</td>\n",
       "    </tr>\n",
       "    <tr>\n",
       "      <th>1</th>\n",
       "      <td>-2147483648</td>\n",
       "      <td>51-838-1</td>\n",
       "    </tr>\n",
       "    <tr>\n",
       "      <th>2</th>\n",
       "      <td>15304</td>\n",
       "      <td></td>\n",
       "    </tr>\n",
       "    <tr>\n",
       "      <th>3</th>\n",
       "      <td>15310</td>\n",
       "      <td></td>\n",
       "    </tr>\n",
       "    <tr>\n",
       "      <th>4</th>\n",
       "      <td>-2147483648</td>\n",
       "      <td>663-362-1</td>\n",
       "    </tr>\n",
       "  </tbody>\n",
       "</table>\n",
       "</div>"
      ],
      "text/plain": [
       "          hip  tycho2_id\n",
       "0 -2147483648   51-276-1\n",
       "1 -2147483648   51-838-1\n",
       "2       15304           \n",
       "3       15310           \n",
       "4 -2147483648  663-362-1"
      ]
     },
     "execution_count": 91,
     "metadata": {},
     "output_type": "execute_result"
    }
   ],
   "source": [
    "df1[['hip','tycho2_id']].head()"
   ]
  },
  {
   "cell_type": "code",
   "execution_count": 92,
   "metadata": {
    "collapsed": true
   },
   "outputs": [],
   "source": [
    "df_tycho = pd.read_hdf('../data/tycho2.h5')"
   ]
  },
  {
   "cell_type": "code",
   "execution_count": 103,
   "metadata": {
    "collapsed": false
   },
   "outputs": [
    {
     "data": {
      "text/plain": [
       "0"
      ]
     },
     "execution_count": 103,
     "metadata": {},
     "output_type": "execute_result"
    }
   ],
   "source": []
  },
  {
   "cell_type": "code",
   "execution_count": 111,
   "metadata": {
    "collapsed": false
   },
   "outputs": [],
   "source": [
    "dt = 15 * u.yr\n",
    "d_ra = (dt*df1.pmra.values*u.mas/u.yr).to('deg').value\n",
    "d_dec = (dt*df1.pmdec.values*u.mas/u.yr).to('deg').value\n",
    "\n",
    "df1['ra_j2000_t2'] = df_tycho.ix[df1.tycho2_id, '_RAJ2000'].values + d_ra\n",
    "df1['dec_j2000_t2'] = df_tycho.ix[df1.tycho2_id, '_DEJ2000'].values + d_dec\n",
    "df1['ra_icrs_t2'] = df_tycho.ix[df1.tycho2_id, 'RA_ICRS_'].values + d_ra\n",
    "df1['dec_icrs_t2'] = df_tycho.ix[df1.tycho2_id, 'DE_ICRS_'].values + d_dec\n"
   ]
  },
  {
   "cell_type": "code",
   "execution_count": 113,
   "metadata": {
    "collapsed": false
   },
   "outputs": [
    {
     "data": {
      "text/html": [
       "<div>\n",
       "<table border=\"1\" class=\"dataframe\">\n",
       "  <thead>\n",
       "    <tr style=\"text-align: right;\">\n",
       "      <th></th>\n",
       "      <th>ra</th>\n",
       "      <th>ra_j2000_t2</th>\n",
       "      <th>ra_icrs_t2</th>\n",
       "    </tr>\n",
       "  </thead>\n",
       "  <tbody>\n",
       "    <tr>\n",
       "      <th>0</th>\n",
       "      <td>42.714106</td>\n",
       "      <td>42.714117</td>\n",
       "      <td>42.713675</td>\n",
       "    </tr>\n",
       "    <tr>\n",
       "      <th>1</th>\n",
       "      <td>42.715726</td>\n",
       "      <td>42.715696</td>\n",
       "      <td>42.715259</td>\n",
       "    </tr>\n",
       "    <tr>\n",
       "      <th>2</th>\n",
       "      <td>49.360642</td>\n",
       "      <td>NaN</td>\n",
       "      <td>NaN</td>\n",
       "    </tr>\n",
       "    <tr>\n",
       "      <th>3</th>\n",
       "      <td>49.387294</td>\n",
       "      <td>NaN</td>\n",
       "      <td>NaN</td>\n",
       "    </tr>\n",
       "    <tr>\n",
       "      <th>4</th>\n",
       "      <td>55.240753</td>\n",
       "      <td>55.240740</td>\n",
       "      <td>55.240683</td>\n",
       "    </tr>\n",
       "  </tbody>\n",
       "</table>\n",
       "</div>"
      ],
      "text/plain": [
       "          ra  ra_j2000_t2  ra_icrs_t2\n",
       "0  42.714106    42.714117   42.713675\n",
       "1  42.715726    42.715696   42.715259\n",
       "2  49.360642          NaN         NaN\n",
       "3  49.387294          NaN         NaN\n",
       "4  55.240753    55.240740   55.240683"
      ]
     },
     "execution_count": 113,
     "metadata": {},
     "output_type": "execute_result"
    }
   ],
   "source": [
    "df1[['ra','ra_j2000_t2','ra_icrs_t2']].head()"
   ]
  },
  {
   "cell_type": "code",
   "execution_count": 129,
   "metadata": {
    "collapsed": false
   },
   "outputs": [],
   "source": [
    "c1 = SkyCoord(df1.ra.values, df1.dec.values, unit='deg')\n",
    "c2 = SkyCoord(df1.ra_j2000_t2.values, df1.dec_j2000_t2.values, unit='deg') \n",
    "df1['distance_t2_j2000'] = c1.separation(c2) * 3600"
   ]
  },
  {
   "cell_type": "code",
   "execution_count": 130,
   "metadata": {
    "collapsed": true
   },
   "outputs": [],
   "source": [
    "c1 = SkyCoord(df1.ra.values, df1.dec.values, unit='deg')\n",
    "c2 = SkyCoord(df1.ra_icrs_t2.values, df1.dec_icrs_t2.values, unit='deg') \n",
    "df1['distance_t2_icrs'] = c1.separation(c2) * 3600"
   ]
  },
  {
   "cell_type": "code",
   "execution_count": 131,
   "metadata": {
    "collapsed": false
   },
   "outputs": [
    {
     "data": {
      "text/plain": [
       "<matplotlib.text.Text at 0x1195bac50>"
      ]
     },
     "execution_count": 131,
     "metadata": {},
     "output_type": "execute_result"
    },
    {
     "data": {
      "image/png": "[encoded data removed]",
      "text/plain": [
       "<matplotlib.figure.Figure at 0x11a42fbd0>"
      ]
     },
     "metadata": {},
     "output_type": "display_data"
    }
   ],
   "source": [
    "ok = df1['distance_t2_j2000'].notnull()\n",
    "plt.hist(df1['distance_t2_j2000'][ok], bins=20, histtype='step', lw=3);\n",
    "plt.ylabel('N')\n",
    "plt.xlabel('|TGAS - Tycho-2(J2000)| [arcsec]');"
   ]
  },
  {
   "cell_type": "code",
   "execution_count": 132,
   "metadata": {
    "collapsed": false
   },
   "outputs": [
    {
     "data": {
      "image/png": "[encoded data removed]",
      "text/plain": [
       "<matplotlib.figure.Figure at 0x11a45ba10>"
      ]
     },
     "metadata": {},
     "output_type": "display_data"
    }
   ],
   "source": [
    "ok = df1['distance_t2_icrs'].notnull()\n",
    "plt.hist(df1['distance_t2_icrs'][ok], bins=20, histtype='step', lw=3);\n",
    "plt.ylabel('N')\n",
    "plt.xlabel('|TGAS - Tycho-2(ICRS)| [arcsec]');"
   ]
  },
  {
   "cell_type": "code",
   "execution_count": null,
   "metadata": {
    "collapsed": true
   },
   "outputs": [],
   "source": []
  }
 ],
 "metadata": {
  "kernelspec": {
   "display_name": "Python 2",
   "language": "python",
   "name": "python2"
  },
  "language_info": {
   "codemirror_mode": {
    "name": "ipython",
    "version": 2
   },
   "file_extension": ".py",
   "mimetype": "text/x-python",
   "name": "python",
   "nbconvert_exporter": "python",
   "pygments_lexer": "ipython2",
   "version": "2.7.12"
  }
 },
 "nbformat": 4,
 "nbformat_minor": 0
}
