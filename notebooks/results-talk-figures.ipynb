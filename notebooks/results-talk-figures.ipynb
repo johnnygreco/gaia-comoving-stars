{
 "cells": [
  {
   "cell_type": "markdown",
   "metadata": {},
   "source": [
    "# PGMs"
   ]
  },
  {
   "cell_type": "code",
   "execution_count": null,
   "metadata": {
    "collapsed": true
   },
   "outputs": [],
   "source": [
    "%matplotlib inline\n",
    "\n",
    "import daft\n",
    "import matplotlib\n",
    "\n",
    "matplotlib.style.use('notebook.mplstyle')\n",
    "matplotlib.rc('font', size=40)"
   ]
  },
  {
   "cell_type": "code",
   "execution_count": null,
   "metadata": {
    "collapsed": false
   },
   "outputs": [],
   "source": [
    "pgm = daft.PGM([6, 4], node_unit=2.5, grid_unit=4)\n",
    "pgm.add_node(daft.Node(\"ra\", r\"$\\alpha$\", 4, 2, aspect=1., observed=True))\n",
    "pgm.add_node(daft.Node(\"dec\", r\"$\\delta$\", 5, 2, aspect=1., observed=True))\n",
    "pgm.add_node(daft.Node(\"parallax\", r\"$\\varpi$\", 1, 2, aspect=1., observed=True))\n",
    "pgm.add_node(daft.Node(\"pmra\", r\"$\\mu_\\alpha$\", 2, 2, aspect=1., observed=True))\n",
    "pgm.add_node(daft.Node(\"pmdec\", r\"$\\mu_\\delta$\", 3, 2, aspect=1., observed=True))\n",
    "pgm.render()\n",
    "pgm.figure.savefig('../talkfigures/pgm1.pdf')"
   ]
  },
  {
   "cell_type": "code",
   "execution_count": null,
   "metadata": {
    "collapsed": false
   },
   "outputs": [],
   "source": [
    "pgm = daft.PGM([6, 4], node_unit=2.5, grid_unit=4)\n",
    "pgm.add_node(daft.Node(\"ra\", r\"$\\alpha$\", 3.5, 1.2, aspect=1., fixed=True, offset=[15,8]))\n",
    "pgm.add_node(daft.Node(\"dec\", r\"$\\delta$\", 4.5, 1.2, aspect=1., fixed=True, offset=[15,8]))\n",
    "pgm.add_node(daft.Node(\"parallax\", r\"$\\varpi$\", 1, 2, aspect=1., observed=True))\n",
    "pgm.add_node(daft.Node(\"pmra\", r\"$\\mu_\\alpha$\", 2, 2, aspect=1., observed=True))\n",
    "pgm.add_node(daft.Node(\"pmdec\", r\"$\\mu_\\delta$\", 3, 2, aspect=1., observed=True))\n",
    "pgm.render()\n",
    "# pgm.figure.savefig('../talkfigures/pgm2.png', dpi=150)\n",
    "pgm.figure.savefig('../talkfigures/pgm2.pdf')"
   ]
  },
  {
   "cell_type": "code",
   "execution_count": null,
   "metadata": {
    "collapsed": false
   },
   "outputs": [],
   "source": [
    "pgm = daft.PGM([6, 4], node_unit=2.5, grid_unit=4)\n",
    "pgm.add_node(daft.Node(\"sigmap\", r\"$\\sigma_\\varpi$\", 1, 3, aspect=1.))\n",
    "pgm.add_node(daft.Node(\"covpm\", r\"$\\mathcal{C}$\", 2.5, 3, aspect=1.))\n",
    "pgm.add_node(daft.Node(\"ra\", r\"$\\alpha$\", 3.5, 1.2, aspect=1., fixed=True, offset=[15,8]))\n",
    "pgm.add_node(daft.Node(\"dec\", r\"$\\delta$\", 4.5, 1.2, aspect=1., fixed=True, offset=[15,8]))\n",
    "pgm.add_node(daft.Node(\"parallax\", r\"$\\varpi$\", 1, 2, aspect=1., observed=True))\n",
    "pgm.add_node(daft.Node(\"pmra\", r\"$\\mu_\\alpha$\", 2, 2, aspect=1., observed=True))\n",
    "pgm.add_node(daft.Node(\"pmdec\", r\"$\\mu_\\delta$\", 3, 2, aspect=1., observed=True))\n",
    "pgm.render()\n",
    "pgm.figure.savefig('../talkfigures/pgm3.pdf')"
   ]
  },
  {
   "cell_type": "code",
   "execution_count": null,
   "metadata": {
    "collapsed": false
   },
   "outputs": [],
   "source": [
    "pgm = daft.PGM([6, 4], node_unit=2.5, grid_unit=4)\n",
    "pgm.add_node(daft.Node(\"sigmap\", r\"$\\sigma_\\varpi$\", 1, 3, aspect=1.))\n",
    "pgm.add_node(daft.Node(\"covpm\", r\"$\\mathcal{C}$\", 2.5, 3, aspect=1.))\n",
    "pgm.add_node(daft.Node(\"ra\", r\"$\\alpha$\", 3.5, 1.2, aspect=1., fixed=True, offset=[15,8]))\n",
    "pgm.add_node(daft.Node(\"dec\", r\"$\\delta$\", 4.5, 1.2, aspect=1., fixed=True, offset=[15,8]))\n",
    "pgm.add_node(daft.Node(\"parallax\", r\"$\\varpi$\", 1, 2, aspect=1., observed=True))\n",
    "pgm.add_node(daft.Node(\"pmra\", r\"$\\mu_\\alpha$\", 2, 2, aspect=1., observed=True))\n",
    "pgm.add_node(daft.Node(\"pmdec\", r\"$\\mu_\\delta$\", 3, 2, aspect=1., observed=True))\n",
    "pgm.add_edge(\"sigmap\", \"parallax\")\n",
    "pgm.add_edge(\"covpm\", \"pmra\")\n",
    "pgm.add_edge(\"covpm\", \"pmdec\")\n",
    "pgm.render()\n",
    "pgm.figure.savefig('../talkfigures/pgm4.pdf')"
   ]
  },
  {
   "cell_type": "code",
   "execution_count": null,
   "metadata": {
    "collapsed": false
   },
   "outputs": [],
   "source": [
    "param_phys = {'ec':'#3182bd', 'lw':2}\n",
    "pgm = daft.PGM([6, 4], node_unit=2.5, grid_unit=4)\n",
    "pgm.add_node(daft.Node(\"sigmap\", r\"$\\sigma_\\varpi$\", 1, 3, aspect=1.))\n",
    "pgm.add_node(daft.Node(\"covpm\", r\"$\\mathcal{C}$\", 2.5, 3, aspect=1.))\n",
    "pgm.add_node(daft.Node(\"ra\", r\"$\\alpha$\", 3.5, 1.2, aspect=1., fixed=True, offset=[15,8]))\n",
    "pgm.add_node(daft.Node(\"dec\", r\"$\\delta$\", 4.5, 1.2, aspect=1., fixed=True, offset=[15,8]))\n",
    "pgm.add_node(daft.Node(\"parallax\", r\"$\\varpi$\", 1, 2, aspect=1., observed=True))\n",
    "pgm.add_node(daft.Node(\"pmra\", r\"$\\mu_\\alpha$\", 2, 2, aspect=1., observed=True))\n",
    "pgm.add_node(daft.Node(\"pmdec\", r\"$\\mu_\\delta$\", 3, 2, aspect=1., observed=True))\n",
    "pgm.add_node(daft.Node(\"distance\", r\"$r$\", 1, 1, aspect=1., plot_params=param_phys))\n",
    "pgm.add_node(daft.Node(\"velocity\", r\"$\\vec{v}$\", 2.5, 1, aspect=1., plot_params=param_phys))\n",
    "pgm.add_edge(\"sigmap\", \"parallax\")\n",
    "pgm.add_edge(\"covpm\", \"pmra\")\n",
    "pgm.add_edge(\"covpm\", \"pmdec\")\n",
    "pgm.render()\n",
    "pgm.figure.savefig('../talkfigures/pgm5.pdf')"
   ]
  },
  {
   "cell_type": "code",
   "execution_count": null,
   "metadata": {
    "collapsed": false
   },
   "outputs": [],
   "source": [
    "param_phys = {'ec':'#3182bd', 'lw':2}\n",
    "pgm = daft.PGM([6, 4], node_unit=2.5, grid_unit=4)\n",
    "pgm.add_node(daft.Node(\"sigmap\", r\"$\\sigma_\\varpi$\", 1, 3, aspect=1.))\n",
    "pgm.add_node(daft.Node(\"covpm\", r\"$\\mathcal{C}$\", 2.5, 3, aspect=1.))\n",
    "pgm.add_node(daft.Node(\"ra\", r\"$\\alpha$\", 3.5, 1.2, aspect=1., fixed=True, offset=[15,8]))\n",
    "pgm.add_node(daft.Node(\"dec\", r\"$\\delta$\", 4.5, 1.2, aspect=1., fixed=True, offset=[15,8]))\n",
    "pgm.add_node(daft.Node(\"parallax\", r\"$\\varpi$\", 1, 2, aspect=1., observed=True))\n",
    "pgm.add_node(daft.Node(\"pmra\", r\"$\\mu_\\alpha$\", 2, 2, aspect=1., observed=True))\n",
    "pgm.add_node(daft.Node(\"pmdec\", r\"$\\mu_\\delta$\", 3, 2, aspect=1., observed=True))\n",
    "pgm.add_node(daft.Node(\"distance\", r\"$r$\", 1, 1, aspect=1., plot_params=param_phys))\n",
    "pgm.add_node(daft.Node(\"velocity\", r\"$\\vec{v}$\", 2.5, 1, aspect=1., plot_params=param_phys))\n",
    "pgm.add_edge(\"sigmap\", \"parallax\")\n",
    "pgm.add_edge(\"covpm\", \"pmra\")\n",
    "pgm.add_edge(\"covpm\", \"pmdec\")\n",
    "pgm.add_edge(\"distance\", \"parallax\")\n",
    "pgm.add_edge(\"distance\", \"pmra\")\n",
    "pgm.add_edge(\"distance\", \"pmdec\")\n",
    "pgm.add_edge(\"velocity\", \"pmra\")\n",
    "pgm.add_edge(\"velocity\", \"pmdec\")\n",
    "pgm.add_edge(\"ra\", \"pmra\")\n",
    "pgm.add_edge(\"dec\", \"pmdec\")\n",
    "\n",
    "\n",
    "pgm.render()\n",
    "pgm.figure.savefig('../talkfigures/pgm6.pdf')"
   ]
  },
  {
   "cell_type": "code",
   "execution_count": null,
   "metadata": {
    "collapsed": false
   },
   "outputs": [],
   "source": [
    "matplotlib.rc('font', size=35)\n",
    "param_phys = {'ec':'#3182bd', 'lw':2}\n",
    "param_phys = {'ec':'#3182bd', 'lw':2}\n",
    "pgm = daft.PGM([6, 6], node_unit=2.5, grid_unit=4)\n",
    "pgm.add_node(daft.Node(\"sigmap1\", r\"$\\sigma_{\\varpi,1}$\", 1, 5.5, aspect=1.))\n",
    "pgm.add_node(daft.Node(\"covpm1\", r\"$\\mathcal{C}_1$\", 2.5, 5.5, aspect=1.))\n",
    "pgm.add_node(daft.Node(\"ra1\", r\"$\\alpha_1$\", 3.5, 1.2+2.5, aspect=1., fixed=True, offset=[15,8]))\n",
    "pgm.add_node(daft.Node(\"dec1\", r\"$\\delta_1$\", 4.5, 1.2+2.5, aspect=1., fixed=True, offset=[15,8]))\n",
    "pgm.add_node(daft.Node(\"parallax1\", r\"$\\varpi_1$\", 1, 2+2.5, aspect=1., observed=True))\n",
    "pgm.add_node(daft.Node(\"pmra1\", r\"$\\mu_{\\alpha,1}$\", 2, 2+2.5, aspect=1., observed=True))\n",
    "pgm.add_node(daft.Node(\"pmdec1\", r\"$\\mu_{\\delta,1}$\", 3, 2+2.5, aspect=1., observed=True))\n",
    "pgm.add_node(daft.Node(\"distance1\", r\"$r_1$\", 1, 1+2.5, aspect=1., plot_params=param_phys))\n",
    "pgm.add_node(daft.Node(\"velocity\", r\"$\\vec{v}$\", 2.5, 3, aspect=1., plot_params={**param_phys, 'fc':'#3182bd', 'alpha':.5}))\n",
    "\n",
    "pgm.add_node(daft.Node(\"sigmap2\", r\"$\\sigma_{\\varpi,2}$\", 1, 0.5, aspect=1.))\n",
    "pgm.add_node(daft.Node(\"covpm2\", r\"$\\mathcal{C}_2$\", 2.5, 0.5, aspect=1.))\n",
    "pgm.add_node(daft.Node(\"ra2\", r\"$\\alpha_2$\", 3.5, 2.3, aspect=1., fixed=True, offset=[15,8]))\n",
    "pgm.add_node(daft.Node(\"dec2\", r\"$\\delta_2$\", 4.5, 2.3, aspect=1., fixed=True, offset=[15,8]))\n",
    "pgm.add_node(daft.Node(\"parallax2\", r\"$\\varpi_2$\", 1, 1.5, aspect=1., observed=True))\n",
    "pgm.add_node(daft.Node(\"pmra2\", r\"$\\mu_{\\alpha,2}$\", 2, 1.5, aspect=1., observed=True))\n",
    "pgm.add_node(daft.Node(\"pmdec2\", r\"$\\mu_{\\delta,2}$\", 3, 1.5, aspect=1., observed=True))\n",
    "pgm.add_node(daft.Node(\"distance2\", r\"$r_2$\", 1, 2.5, aspect=1., plot_params=param_phys))\n",
    "\n",
    "pgm.add_edge(\"sigmap1\", \"parallax1\")\n",
    "pgm.add_edge(\"distance1\", \"parallax1\")\n",
    "pgm.add_edge(\"distance1\", \"pmra1\")\n",
    "pgm.add_edge(\"distance1\", \"pmdec1\")\n",
    "pgm.add_edge(\"covpm1\", \"pmra1\")\n",
    "pgm.add_edge(\"covpm1\", \"pmdec1\")\n",
    "pgm.add_edge(\"velocity\", \"pmra1\")\n",
    "pgm.add_edge(\"velocity\", \"pmdec1\")\n",
    "pgm.add_edge(\"ra1\", \"pmra1\")\n",
    "pgm.add_edge(\"dec1\", \"pmdec1\")\n",
    "\n",
    "pgm.add_edge(\"sigmap2\", \"parallax2\")\n",
    "pgm.add_edge(\"distance2\", \"parallax2\")\n",
    "pgm.add_edge(\"distance2\", \"pmra2\")\n",
    "pgm.add_edge(\"distance2\", \"pmdec2\")\n",
    "pgm.add_edge(\"covpm2\", \"pmra2\")\n",
    "pgm.add_edge(\"covpm2\", \"pmdec2\")\n",
    "pgm.add_edge(\"velocity\", \"pmra2\")\n",
    "pgm.add_edge(\"velocity\", \"pmdec2\")\n",
    "pgm.add_edge(\"ra2\", \"pmra2\")\n",
    "pgm.add_edge(\"dec2\", \"pmdec2\")\n",
    "\n",
    "pgm.render()\n",
    "pgm.figure.savefig('../talkfigures/pgm_samev.pdf')"
   ]
  },
  {
   "cell_type": "code",
   "execution_count": null,
   "metadata": {
    "collapsed": false
   },
   "outputs": [],
   "source": [
    "matplotlib.rc('font', size=35)\n",
    "param_phys = {'ec':'#3182bd', 'lw':2}\n",
    "param_phys = {'ec':'#3182bd', 'lw':2}\n",
    "pgm = daft.PGM([6, 6], node_unit=2.5, grid_unit=4)\n",
    "pgm.add_node(daft.Node(\"sigmap1\", r\"$\\sigma_{\\varpi,1}$\", 1, 5.5, aspect=1.))\n",
    "pgm.add_node(daft.Node(\"covpm1\", r\"$\\mathcal{C}_1$\", 2.5, 5.5, aspect=1.))\n",
    "pgm.add_node(daft.Node(\"ra1\", r\"$\\alpha_1$\", 3.5, 1.2+2.5, aspect=1., fixed=True, offset=[15,8]))\n",
    "pgm.add_node(daft.Node(\"dec1\", r\"$\\delta_1$\", 4.5, 1.2+2.5, aspect=1., fixed=True, offset=[15,8]))\n",
    "pgm.add_node(daft.Node(\"parallax1\", r\"$\\varpi_1$\", 1, 2+2.5, aspect=1., observed=True))\n",
    "pgm.add_node(daft.Node(\"pmra1\", r\"$\\mu_{\\alpha,1}$\", 2, 2+2.5, aspect=1., observed=True))\n",
    "pgm.add_node(daft.Node(\"pmdec1\", r\"$\\mu_{\\delta,1}$\", 3, 2+2.5, aspect=1., observed=True))\n",
    "pgm.add_node(daft.Node(\"distance1\", r\"$r_1$\", 1, 1+2.5, aspect=1., plot_params=param_phys))\n",
    "pgm.add_node(daft.Node(\"velocity1\", r\"$\\vec{v}_1$\", 2.5, 3.5, aspect=1., plot_params={**param_phys, 'fc':'#3182bd', 'alpha':.5}))\n",
    "\n",
    "pgm.add_node(daft.Node(\"sigmap2\", r\"$\\sigma_{\\varpi,2}$\", 1, 0.5, aspect=1.))\n",
    "pgm.add_node(daft.Node(\"covpm2\", r\"$\\mathcal{C}_2$\", 2.5, 0.5, aspect=1.))\n",
    "pgm.add_node(daft.Node(\"ra2\", r\"$\\alpha_2$\", 3.5, 2.3, aspect=1., fixed=True, offset=[15,8]))\n",
    "pgm.add_node(daft.Node(\"dec2\", r\"$\\delta_2$\", 4.5, 2.3, aspect=1., fixed=True, offset=[15,8]))\n",
    "pgm.add_node(daft.Node(\"parallax2\", r\"$\\varpi_2$\", 1, 1.5, aspect=1., observed=True))\n",
    "pgm.add_node(daft.Node(\"pmra2\", r\"$\\mu_{\\alpha,2}$\", 2, 1.5, aspect=1., observed=True))\n",
    "pgm.add_node(daft.Node(\"pmdec2\", r\"$\\mu_{\\delta,2}$\", 3, 1.5, aspect=1., observed=True))\n",
    "pgm.add_node(daft.Node(\"distance2\", r\"$r_2$\", 1, 2.5, aspect=1., plot_params=param_phys))\n",
    "pgm.add_node(daft.Node(\"velocity2\", r\"$\\vec{v}_2$\", 2.5, 2.5, aspect=1., plot_params={**param_phys, 'fc':'#3182bd', 'alpha':.5}))\n",
    "\n",
    "pgm.add_edge(\"sigmap1\", \"parallax1\")\n",
    "pgm.add_edge(\"distance1\", \"parallax1\")\n",
    "pgm.add_edge(\"distance1\", \"pmra1\")\n",
    "pgm.add_edge(\"distance1\", \"pmdec1\")\n",
    "pgm.add_edge(\"covpm1\", \"pmra1\")\n",
    "pgm.add_edge(\"covpm1\", \"pmdec1\")\n",
    "pgm.add_edge(\"velocity1\", \"pmra1\")\n",
    "pgm.add_edge(\"velocity1\", \"pmdec1\")\n",
    "pgm.add_edge(\"ra1\", \"pmra1\")\n",
    "pgm.add_edge(\"dec1\", \"pmdec1\")\n",
    "\n",
    "pgm.add_edge(\"sigmap2\", \"parallax2\")\n",
    "pgm.add_edge(\"distance2\", \"parallax2\")\n",
    "pgm.add_edge(\"distance2\", \"pmra2\")\n",
    "pgm.add_edge(\"distance2\", \"pmdec2\")\n",
    "pgm.add_edge(\"covpm2\", \"pmra2\")\n",
    "pgm.add_edge(\"covpm2\", \"pmdec2\")\n",
    "pgm.add_edge(\"velocity2\", \"pmra2\")\n",
    "pgm.add_edge(\"velocity2\", \"pmdec2\")\n",
    "pgm.add_edge(\"ra2\", \"pmra2\")\n",
    "pgm.add_edge(\"dec2\", \"pmdec2\")\n",
    "\n",
    "pgm.render()\n",
    "pgm.figure.savefig('../talkfigures/pgm_diffv.pdf')"
   ]
  },
  {
   "cell_type": "code",
   "execution_count": null,
   "metadata": {
    "collapsed": false
   },
   "outputs": [],
   "source": [
    "%pylab inline\n",
    "import h5py\n",
    "import fitsio\n",
    "import astropy.units as u\n",
    "from astropy.constants import G\n",
    "from astropy.io import fits\n",
    "from astropy.table import Table\n",
    "from astropy.visualization import hist\n",
    "from astropy import coordinates as coords\n",
    "from scipy import stats\n",
    "import networkx as nx\n",
    "import palettable\n",
    "from matplotlib import patches\n",
    "import gwb"
   ]
  },
  {
   "cell_type": "code",
   "execution_count": null,
   "metadata": {
    "collapsed": false
   },
   "outputs": [],
   "source": [
    "print(style.available)"
   ]
  },
  {
   "cell_type": "code",
   "execution_count": null,
   "metadata": {
    "collapsed": false
   },
   "outputs": [],
   "source": [
    "style.use(['seaborn-talk', 'notebook.mplstyle'])"
   ]
  },
  {
   "cell_type": "markdown",
   "metadata": {},
   "source": [
    "## Binary orbital speed vs semi-major axis"
   ]
  },
  {
   "cell_type": "code",
   "execution_count": null,
   "metadata": {
    "collapsed": false
   },
   "outputs": [],
   "source": [
    "figure(figsize=(6,5))\n",
    "\n",
    "a = logspace(-4,1) * u.pc\n",
    "v = sqrt(G*2*u.solMass/(a)).to(u.km/u.s)\n",
    "plot(a, v)\n",
    "xscale('log')\n",
    "xlabel('a [pc]')\n",
    "ylabel('orbital speed [km/s]')\n",
    "xticks([1e-4,1e-3,1e-2,1e-1,1,10], ['$10^{-4}$','$10^{-3}$','0.01','0.1','1','10'])\n",
    "\n",
    "ax =gca().twiny()\n",
    "ax.plot(a.to(u.au), v, visible=False)\n",
    "ax.set_xscale('log')\n",
    "ax.set_xlim(a.to(u.au).min().value, a.to(u.au).max().value)\n",
    "ax.set_xlabel('a [AU]', labelpad=12)\n",
    "tight_layout()\n",
    "savefig('../talkfigures/binary_orbitalv_a.png', dpi=300)"
   ]
  },
  {
   "cell_type": "markdown",
   "metadata": {},
   "source": [
    "# Binary orbital perios vs semi-major axis"
   ]
  },
  {
   "cell_type": "code",
   "execution_count": null,
   "metadata": {
    "collapsed": false
   },
   "outputs": [],
   "source": [
    "figure(figsize=(6,5))\n",
    "a = logspace(-4,1) * u.pc\n",
    "P = (sqrt(a**3/G/(2*u.solMass)) * 4*pi).to(u.yr)\n",
    "plot(a, P)\n",
    "xscale('log')\n",
    "xlabel('a [pc]')\n",
    "ylabel('P [yr]')\n",
    "yscale('log')\n",
    "\n",
    "ax =gca().twiny()\n",
    "ax.plot(a.to(u.au), P, visible=False)\n",
    "ax.set_xscale('log')\n",
    "ax.set_xlim(a.to(u.au).min().value, a.to(u.au).max().value)"
   ]
  },
  {
   "cell_type": "markdown",
   "metadata": {},
   "source": [
    "# tidal breakup semi-major axis vs galactocentric distance"
   ]
  },
  {
   "cell_type": "code",
   "execution_count": null,
   "metadata": {
    "collapsed": false
   },
   "outputs": [],
   "source": [
    "import gala.coordinates as gc\n",
    "import gala.dynamics as gd\n",
    "import gala.integrate as gi\n",
    "import gala.potential as gp\n",
    "from gala.units import galactic"
   ]
  },
  {
   "cell_type": "code",
   "execution_count": null,
   "metadata": {
    "collapsed": false
   },
   "outputs": [],
   "source": [
    "# Background Milky Way potential\n",
    "mw_potential = gp.CCompositePotential()\n",
    "\n",
    "# for DM halo potential\n",
    "M_h = 8E11 * u.Msun\n",
    "rs_h = 20. * u.kpc\n",
    "v_c = np.sqrt(((np.log(2.) - 0.5) * (G * M_h / rs_h)).decompose(galactic).value)\n",
    "print( np.sqrt(((np.log(2.) - 0.5) * (G * M_h / rs_h))).decompose(galactic).to(u.km/u.s) )\n",
    "mw_potential['halo'] = gp.SphericalNFWPotential(v_c=v_c, r_s=rs_h, units=galactic)\n",
    "\n",
    "mw_potential['disk'] = gp.MiyamotoNagaiPotential(m=6E10, a=3.5, b=0.14, units=galactic)\n",
    "mw_potential['bulge'] = gp.HernquistPotential(m=1E10, c=1.1, units=galactic)\n",
    "\n",
    "r = np.linspace(0.1, 50, 128)\n",
    "q = np.zeros((3, r.size))\n",
    "q[0] = r"
   ]
  },
  {
   "cell_type": "code",
   "execution_count": null,
   "metadata": {
    "collapsed": false
   },
   "outputs": [],
   "source": [
    "mw_potential = gp.CCompositePotential()\n",
    "mw_potential['disk'] = gp.MiyamotoNagaiPotential(m=6E10, a=3.5, b=0.14, units=galactic)\n",
    "mw_potential['bulge'] = gp.HernquistPotential(m=1E10, c=1.1, units=galactic)\n",
    "# for DM halo potential\n",
    "M_h = 8E11 * u.Msun\n",
    "rs_h = 20. * u.kpc\n",
    "v_c = np.sqrt(((np.log(2.) - 0.5) * (G * M_h / rs_h)).decompose(galactic).value)\n",
    "mw_potential['halo'] = gp.SphericalNFWPotential(v_c=v_c, r_s=rs_h, units=galactic)\n",
    "\n",
    "# along x-direction\n",
    "r = np.linspace(1, 100, 128)\n",
    "q = np.zeros((3, r.size))\n",
    "q[0] = r\n",
    "# get hessians\n",
    "Htot = np.swapaxes(mw_potential.hessian(q*u.kpc), 2, 0)\n",
    "Hd = np.swapaxes(mw_potential['disk'].hessian(q*u.kpc), 2, 0)\n",
    "Hh = np.swapaxes(mw_potential['halo'].hessian(q*u.kpc), 2, 0)\n",
    "Hb = np.swapaxes(mw_potential['bulge'].hessian(q*u.kpc), 2, 0)\n",
    "\n",
    "\n",
    "fig, ax = plt.subplots(figsize=(6,5))\n",
    "\n",
    "a_tid = ( G*u.solMass/(np.linalg.eigvals(Htot).max(1) / u.Myr**2) )**(1/3)\n",
    "plt.plot(r, a_tid.to(u.AU), label='along $x$', c='b',\n",
    "        lw=2)\n",
    "\n",
    "\n",
    "plt.yscale('log')\n",
    "plt.xlabel('r [kpc]')\n",
    "plt.ylabel('$a_t$ [AU]')\n",
    "# plt.xscale('log')\n",
    "\n",
    "# # along z-direction\n",
    "q_alongz = np.zeros((3, r.size))\n",
    "q_alongz[2] = r \n",
    "Htot_alongz = np.swapaxes(mw_potential.hessian(q_alongz*u.kpc), 2, 0)\n",
    "a_tid_alongz = ( G*u.solMass/(np.linalg.eigvals(Htot_alongz).max(1) / u.Myr**2) )**(1/3)\n",
    "plt.plot(r, a_tid_alongz.to(u.AU), label='along $z$', color='k', lw=2, ls='--')\n",
    "\n",
    "plt.ylim(2e4,4e6)\n",
    "plt.xlim(0,20)\n",
    "plt.xticks([0,8, 20])\n",
    "plt.axhline((1*u.pc).to(u.AU).value, c='0.5', ls='-', xmin=0.8,xmax=1.)\n",
    "plt.legend(loc='upper left', frameon=False)\n",
    "\n",
    "plt.tight_layout()\n",
    "plt.savefig('../talkfigures/tidala_galaticdist.png', dpi=300)"
   ]
  },
  {
   "cell_type": "code",
   "execution_count": null,
   "metadata": {
    "collapsed": false
   },
   "outputs": [],
   "source": [
    "tgas = gwb.TGASData('../data/stacked_tgas.fits')"
   ]
  },
  {
   "cell_type": "code",
   "execution_count": null,
   "metadata": {
    "collapsed": false
   },
   "outputs": [],
   "source": [
    "pairidx_rand = fits.getdata('../output/random/snr8_random200000.fits')\n",
    "with h5py.File(\"../output/random/snr8_random200000_vscatter0-lratio.h5\") as f:\n",
    "    lnH1_rand = f['lnH1'].value\n",
    "    lnH2_rand = f['lnH2'].value\n",
    "    llr_rand = lnH1_rand - lnH2_rand\n",
    "# throw out nans\n",
    "bad = isnan(llr_rand)\n",
    "pairidx_rand = pairidx_rand[~bad]\n",
    "lnH1_rand = lnH1_rand[~bad]\n",
    "lnH2_rand = lnH2_rand[~bad]\n",
    "llr_rand = llr_rand[~bad]\n",
    "\n",
    "# pairidx_rand_sn32 = fits.getdata('../output/random/snr32_random100000.fits')\n",
    "# with h5py.File(\"../output/random/snr32_random100000_vscatter0-lratio.h5\") as f:\n",
    "#     lnH1_rand_sn32 = f['lnH1'].value\n",
    "#     lnH2_rand_sn32 = f['lnH2'].value\n",
    "#     llr_rand_sn32 = lnH1_rand_sn32 - lnH2_rand_sn32\n",
    "# # throw out nans\n",
    "# bad = isnan(llr_rand_sn32)\n",
    "# pairidx_rand_sn32 = pairidx_rand_sn32[~bad]\n",
    "# lnH1_rand_sn32 = lnH1_rand_sn32[~bad]\n",
    "# lnH2_rand_sn32 = lnH2_rand_sn32[~bad]\n",
    "# llr_rand_sn32 = llr_rand_sn32[~bad]\n",
    "\n",
    "# pairidx = fits.getdata('../output/21081/snr8_n128_dv10_new.fits')\n",
    "# with h5py.File(\"../output/21081/snr8_n128_dv10_vscatter0-lratio.h5\") as f:\n",
    "#     lnH1 = f['lnH1'].value\n",
    "#     lnH2 = f['lnH2'].value\n",
    "#     llr = lnH1 - lnH2\n",
    "pairidx = fits.getdata('../output/23560/snr8_r10_dv10.fits')\n",
    "with h5py.File(\"../output/23560/snr8_r10_dv10_vscatter0-lratio.h5\") as f:\n",
    "    lnH1 = f['lnH1'].value\n",
    "    lnH2 = f['lnH2'].value\n",
    "    llr = lnH1 - lnH2"
   ]
  },
  {
   "cell_type": "code",
   "execution_count": null,
   "metadata": {
    "collapsed": false
   },
   "outputs": [],
   "source": [
    "parallax_snr = tgas.parallax_snr\n",
    "vtan = tgas.get_vtan().value\n",
    "c = tgas.get_coord()\n",
    "d = tgas.get_distance().value\n",
    "\n",
    "star1, star2 = pairidx['star1'], pairidx['star2']\n",
    "min_snr = np.min(np.vstack((parallax_snr[star1], parallax_snr[star2])), axis=0)\n",
    "dvtan = norm(vtan[star1]-vtan[star2], axis=1)\n",
    "vtanmean = (vtan[star1] + vtan[star2])*0.5\n",
    "sep = c[star1].separation_3d(c[star2]).value\n",
    "sep_sky = c[star1].separation(c[star2])\n",
    "\n",
    "c1 = c[star1]\n",
    "c2 = c[star2]\n",
    "ra1, dec1 = c1.ra.value, c1.dec.value\n",
    "ra2, dec2 = c2.ra.value, c2.dec.value\n",
    "l1, b1 = c1.transform_to(coords.Galactic).l.value, c1.transform_to(coords.Galactic).b.value\n",
    "l2, b2 = c2.transform_to(coords.Galactic).l.value, c2.transform_to(coords.Galactic).b.value\n",
    "d1 = d[star1]\n",
    "d2 = d[star2]\n",
    "dmean = (d1+d2)*0.5"
   ]
  },
  {
   "cell_type": "code",
   "execution_count": null,
   "metadata": {
    "collapsed": false
   },
   "outputs": [],
   "source": [
    "pairidx.size"
   ]
  },
  {
   "cell_type": "markdown",
   "metadata": {},
   "source": [
    "# Initial sample on separation vs. delta v_tan"
   ]
  },
  {
   "cell_type": "code",
   "execution_count": null,
   "metadata": {
    "collapsed": false
   },
   "outputs": [],
   "source": [
    "figure(figsize=(6,4))\n",
    "ax1 = axes()\n",
    "ax1.spines['left'].set_visible(False)\n",
    "ax1.spines['top'].set_visible(False)\n",
    "# Only show ticks on the left and bottom spines\n",
    "ax1.yaxis.tick_right()\n",
    "ax1.xaxis.set_ticks_position('bottom')\n",
    "ax1.yaxis.set_label_position(\"right\")\n",
    "\n",
    "ax1.set_xscale('log')\n",
    "ax1.set_xlim(0.0008,10)\n",
    "ax1.set_xticks([1e-3,1e-2,1e-1,1,10])\n",
    "ax1.set_xticks([], minor=True)\n",
    "ax1.set_xticklabels(['0.001','0.01','0.1','1','10'])\n",
    "ax1.set_yticks([0, 3, 10])\n",
    "ax1.set_ylim(0.,10.5)\n",
    "ax1.tick_params(axis='both', which='major', direction='out', length=8)\n",
    "\n",
    "xlabel(r'separation [pc]')\n",
    "yl = ylabel(r'$|\\Delta \\boldsymbol{v}_{\\rm{t}}|$ [km s$^{-1}$]')\n",
    "plot(pairidx['sep'], pairidx['delta_v'], '.', color='gray', alpha=.6, ms=3, rasterized=True)\n",
    "\n",
    "from astropy.constants import G\n",
    "tmpsep = logspace(-3,1)\n",
    "v = sqrt(G*(2*u.solMass)/(tmpsep*u.pc)).to(u.km/u.s).value\n",
    "plot(tmpsep, v, label=r\"$v_\\mathrm{orb} (a)$\"\n",
    "     \"\\n\"\n",
    "     r\"(assuming $M=2\\,M_\\odot$)\", lw=2)\n",
    "\n",
    "annotate('orbital velocity\\nassuming $M=2\\,M_\\odot$', (0.002, 2.), (0.01, 5),\n",
    "         arrowprops=dict(width=1.5, headwidth=0), size=15)\n",
    "\n",
    "\n",
    "tight_layout()\n",
    "savefig('../talkfigures/sep_dvtan.png', dpi=300)"
   ]
  },
  {
   "cell_type": "markdown",
   "metadata": {},
   "source": [
    "# Likelihood ratio distributions"
   ]
  },
  {
   "cell_type": "code",
   "execution_count": null,
   "metadata": {
    "collapsed": true
   },
   "outputs": [],
   "source": [
    "v_cuts = [(0, 2.5), (2.5, 5), (5, 7.5), (7.5, 10)]\n",
    "v_colors = ['#7a0177', '#c51b8a', '#f768a1', '#fbb4b9']\n",
    "\n",
    "llr_cuts = [(-6, -2), (-2, 2), (2, 6), (6, 10)]\n",
    "llr_colors = ['#bae4bc', '#7bccc4', '#43a2ca', '#0868ac']"
   ]
  },
  {
   "cell_type": "code",
   "execution_count": null,
   "metadata": {
    "collapsed": false
   },
   "outputs": [],
   "source": [
    "def setup_fig_ax():\n",
    "    fig ,ax = plt.subplots(1,2,figsize=(8,4))\n",
    "    fig.subplots_adjust(left=0.1,bottom=0.12,top=0.97,right=0.97, hspace=0.07, wspace=0.24)\n",
    "\n",
    "    ax[0].set_xlim(-6,10)\n",
    "    ax[0].set_xticks([-6,10])\n",
    "    ax[0].set_ylim(0, 0.36)\n",
    "    ax[0].set_xlabel(r\"$\\ln(L_1/L_2)$\")\n",
    "    ax[0].set_ylabel(\"density\")\n",
    "    ax[0].set_yticks([0])\n",
    "    ax[0].spines['right'].set_visible(False)\n",
    "    ax[0].spines['top'].set_visible(False)\n",
    "    ax[0].tick_params(direction='out')\n",
    "    ax[0].xaxis.set_ticks_position('bottom')\n",
    "\n",
    "\n",
    "    ax[1].spines['left'].set_visible(False)\n",
    "    ax[1].spines['top'].set_visible(False)\n",
    "    ax[1].yaxis.tick_right()\n",
    "    ax[1].xaxis.set_ticks_position('bottom')\n",
    "    ax[1].yaxis.set_label_position(\"right\")\n",
    "    ax[1].tick_params(direction='out')\n",
    "    ax[1].set_xlim(4E-3, 1E1)\n",
    "    ax[1].set_ylim(0, 11)\n",
    "    ax[1].set_xlabel(r'separation [pc]')\n",
    "    ax[1].set_xscale('log')\n",
    "    ax[1].set_ylabel(r'$|\\Delta \\boldsymbol{v}_{\\rm{t}}|$ [km s$^{-1}$]')\n",
    "    return fig, ax"
   ]
  },
  {
   "cell_type": "code",
   "execution_count": null,
   "metadata": {
    "collapsed": false
   },
   "outputs": [],
   "source": [
    "fig, ax = setup_fig_ax()\n",
    "\n",
    "ax[0].hist(llr[:], bins=np.linspace(-6, 10, 64), \n",
    "             histtype='step', normed=True, color='k', linewidth=2);\n",
    "        \n",
    "ax[1].plot(pairidx['sep'], pairidx['delta_v'],\n",
    "             color='k', linestyle='none', marker='.', zorder=-10, alpha=0.3, ms=3, rasterized=True)\n",
    "tight_layout()\n",
    "savefig('../talkfigures/llr_sample1.png', dpi=300)"
   ]
  },
  {
   "cell_type": "code",
   "execution_count": null,
   "metadata": {
    "collapsed": false
   },
   "outputs": [],
   "source": [
    "fig, ax = setup_fig_ax()\n",
    "\n",
    "cond = pairidx['delta_v'] < 2\n",
    "\n",
    "ax[0].hist(llr[:], bins=np.linspace(-6, 10, 64), \n",
    "             histtype='step', normed=True, color='k', linewidth=2);\n",
    "ax[1].plot(pairidx['sep'], pairidx['delta_v'],\n",
    "             color='k', linestyle='none', marker='.', zorder=-10, alpha=0.3, ms=3, rasterized=True)\n",
    "\n",
    "for i,(l,r) in list(enumerate(v_cuts))[:]:\n",
    "    xlims = ax[1].get_xlim()\n",
    "    xp10 = xlims[0]*2\n",
    "    idx = (pairidx['delta_v'] > l) & (pairidx['delta_v'] < r)\n",
    "    ax[1].plot(pairidx['sep'][idx], pairidx['delta_v'][idx], 'o', ms=3,\n",
    "               color=v_colors[i], alpha=.3)\n",
    "    ax[0].hist(llr[idx], bins=np.linspace(-6, 10, 64), \n",
    "                 histtype='step', normed=True, color=v_colors[i], linewidth=2)\n",
    "tight_layout()\n",
    "savefig('../talkfigures/llr_sample2.png', dpi=300)"
   ]
  },
  {
   "cell_type": "code",
   "execution_count": null,
   "metadata": {
    "collapsed": false
   },
   "outputs": [],
   "source": [
    "fig, ax = setup_fig_ax()\n",
    "\n",
    "cond = pairidx['delta_v'] < 2\n",
    "\n",
    "ax[0].hist(llr[:], bins=np.linspace(-6, 10, 64), \n",
    "             histtype='step', normed=True, color='k', linewidth=2);\n",
    "# ax[1].plot(pairidx['sep'], pairidx['delta_v'],\n",
    "#              color='k', linestyle='none', marker='.', zorder=-10, alpha=0.3, ms=3, rasterized=True)\n",
    "\n",
    "for i,(l,r) in list(enumerate(llr_cuts))[:]:\n",
    "    ax[0].fill_betweenx([ax[0].get_ylim()[1]*0.9,1.], l, r,\n",
    "                          color=llr_colors[i], zorder=-100)\n",
    "    idx = ((llr) > l) & (llr < r)\n",
    "    ax[1].plot(pairidx['sep'][idx], pairidx['delta_v'][idx],\n",
    "                 color=llr_colors[i], \n",
    "                 linestyle='none', marker='.', alpha=0.3, ms=3,\n",
    "                 markeredgecolor='none', markeredgewidth=0, rasterized=True)\n",
    "tight_layout()\n",
    "savefig('../talkfigures/llr_sample3.png', dpi=300)"
   ]
  },
  {
   "cell_type": "code",
   "execution_count": null,
   "metadata": {
    "collapsed": false
   },
   "outputs": [],
   "source": [
    "sum(pairidx['sep']<1), sum((sep<1) & (llr>6))"
   ]
  },
  {
   "cell_type": "code",
   "execution_count": null,
   "metadata": {
    "collapsed": false
   },
   "outputs": [],
   "source": [
    "_ = hist(llr, bins=linspace(2,13,128),cumulative=-1, log=True, histtype='step')\n",
    "_ = hist(llr[sep<1], bins=linspace(2,13,128),cumulative=-1, log=True)\n",
    "_ = hist(llr[sep>1], bins=linspace(2,13,128),cumulative=-1, log=True, histtype='step')\n",
    "gca().invert_xaxis()\n",
    "ylabel('cumulative number of pairs', size=15)\n",
    "xlabel('$\\ln (L_1/L_2)$')\n",
    "\n",
    "figure()\n",
    "_=hist(llr[sep<1], linspace(-50,50,128))\n",
    "xlim(-5,15)\n",
    "grid()"
   ]
  },
  {
   "cell_type": "code",
   "execution_count": null,
   "metadata": {
    "collapsed": false
   },
   "outputs": [],
   "source": [
    "cond_lr_cut = llr>6\n",
    "print(cond_lr_cut.sum(), sum((sep<1)&cond_lr_cut))\n",
    "cmpairs = pairidx[cond_lr_cut]"
   ]
  },
  {
   "cell_type": "code",
   "execution_count": null,
   "metadata": {
    "collapsed": false
   },
   "outputs": [],
   "source": [
    "sum(llr_rand>6)/llr_rand.size, sum((llr_rand>6) & (pairidx_rand['delta_v']<10))/(pairidx_rand['delta_v']<10).sum()"
   ]
  },
  {
   "cell_type": "markdown",
   "metadata": {},
   "source": [
    "# Make graph"
   ]
  },
  {
   "cell_type": "code",
   "execution_count": null,
   "metadata": {
    "collapsed": false
   },
   "outputs": [],
   "source": [
    "graph = nx.from_edgelist(\n",
    "    [(i,j) for i,j in zip(cmpairs['star1'],cmpairs['star2'])])"
   ]
  },
  {
   "cell_type": "code",
   "execution_count": null,
   "metadata": {
    "collapsed": false
   },
   "outputs": [],
   "source": [
    "connected = array([array(list(c)) for c in nx.connected_components(graph)])\n",
    "sizes = array([len(c) for c in nx.connected_components(graph)])\n",
    "print('number of nodes %i' % (len(graph)))\n",
    "print('total number of connected components %i' % (connected.size))\n",
    "print(min(sizes),max(sizes))"
   ]
  },
  {
   "cell_type": "code",
   "execution_count": null,
   "metadata": {
    "collapsed": false
   },
   "outputs": [],
   "source": [
    "nn_nodes = array([len(graph.neighbors(i)) for i in graph.nodes()])\n",
    "print('most connected star ind %i connection size %i' % (graph.nodes()[nn_nodes.argmax()], nn_nodes.max()))\n",
    "print(tgas[graph.nodes()[nn_nodes.argmax()]]._data)"
   ]
  },
  {
   "cell_type": "code",
   "execution_count": null,
   "metadata": {
    "collapsed": false
   },
   "outputs": [],
   "source": [
    "sizes.max()"
   ]
  },
  {
   "cell_type": "code",
   "execution_count": null,
   "metadata": {
    "collapsed": true
   },
   "outputs": [],
   "source": [
    "color_blue = '#3182bd'"
   ]
  },
  {
   "cell_type": "code",
   "execution_count": null,
   "metadata": {
    "collapsed": false,
    "scrolled": true
   },
   "outputs": [],
   "source": [
    "Gc = array(sorted(nx.connected_component_subgraphs(graph), key=len, reverse=True))\n",
    "sizes = array([len(g) for g in Gc])\n",
    "nedges = array([len(g.edges()) for g in Gc])"
   ]
  },
  {
   "cell_type": "markdown",
   "metadata": {},
   "source": [
    "# histogram of connected component sizes"
   ]
  },
  {
   "cell_type": "code",
   "execution_count": null,
   "metadata": {
    "collapsed": true
   },
   "outputs": [],
   "source": [
    "# Only show ticks on the left and bottom spines\n",
    "def axes_talk(ax=None):\n",
    "    if ax is None:\n",
    "        ax = axes()\n",
    "    ax.spines['right'].set_visible(False)\n",
    "    ax.spines['top'].set_visible(False)\n",
    "    ax.yaxis.set_ticks_position('left')\n",
    "    ax.xaxis.set_ticks_position('bottom')\n",
    "    ax.tick_params(axis='both', direction='out')"
   ]
  },
  {
   "cell_type": "code",
   "execution_count": null,
   "metadata": {
    "collapsed": false,
    "scrolled": false
   },
   "outputs": [],
   "source": [
    "figure(figsize=(6,4))\n",
    "ax = axes_talk()\n",
    "\n",
    "counts,_,_ = hist(sizes, bins=arange(1.5,151.6,1),\n",
    "                  histtype='bar', color='k', facecolor=color_blue, edgecolor='w')\n",
    "print(counts.sum())\n",
    "yscale('log')\n",
    "ylim(0.1)\n",
    "xticks([2,151])\n",
    "xlabel('size of connected component')\n",
    "ylabel('count')\n",
    "tight_layout()\n",
    "savefig('../talkfigures/size_cc.png', dpi=150)"
   ]
  },
  {
   "cell_type": "markdown",
   "metadata": {},
   "source": [
    "# number of edges vs. size of connected components"
   ]
  },
  {
   "cell_type": "code",
   "execution_count": null,
   "metadata": {
    "collapsed": false
   },
   "outputs": [],
   "source": [
    "figure(figsize=(6,4))\n",
    "ax = axes_talk()\n",
    "\n",
    "plot(sizes, nedges, 'o', mfc=color_blue, mec='k', mew=1, ms=8)\n",
    "s = logspace(log10(2),log10(200))\n",
    "plot(s, s-1, 'k-', zorder=-100)\n",
    "xscale('log')\n",
    "yscale('log')\n",
    "xlim(1, 400)\n",
    "ylim(0.1)\n",
    "xticks([2,10,100], ['2','10','100'])\n",
    "xlabel('size of connected component')\n",
    "ylabel('number of edges')\n",
    "text(30, 25, 'minimum',\n",
    "     size=15, rotation=15)\n",
    "tight_layout()\n",
    "savefig('../talkfigures/size_cc_nedges.png', dpi=150)"
   ]
  },
  {
   "cell_type": "markdown",
   "metadata": {},
   "source": [
    "# Graph visualization of the largest connected component"
   ]
  },
  {
   "cell_type": "code",
   "execution_count": null,
   "metadata": {
    "collapsed": false
   },
   "outputs": [],
   "source": [
    "ax = axes()\n",
    "ax.spines['right'].set_visible(False)\n",
    "ax.spines['top'].set_visible(False)\n",
    "ax.spines['left'].set_visible(False)\n",
    "ax.spines['bottom'].set_visible(False)\n",
    "ax.set_xticks([])\n",
    "ax.set_yticks([])\n",
    "# ax.tick_params(axis='both', direction='out')\n",
    "g = Gc[0]\n",
    "# pos = {node:(tgas.l[node], d[node]) for node in g.nodes()}\n",
    "pos = {node:(tgas.ra.value[node], tgas.dec.value[node]) for node in g.nodes()}\n",
    "nx.draw_networkx(g, pos=pos, node_size=40, width=1, with_labels=False,\n",
    "                 node_color=color_blue, edge_color='gray',linewidths=1.5)\n",
    "linecollection = ax.collections[1]\n",
    "linecollection.set_alpha(0.5)\n",
    "pathcollection = ax.collections[0]\n",
    "pathcollection.set_edgecolor('k')\n",
    "savefig('../talkfigures/cc_largest.png', dpi=150)"
   ]
  },
  {
   "cell_type": "markdown",
   "metadata": {
    "collapsed": true
   },
   "source": [
    "# Other larger connected component examples"
   ]
  },
  {
   "cell_type": "code",
   "execution_count": null,
   "metadata": {
    "collapsed": false
   },
   "outputs": [],
   "source": [
    "fig,axs = subplots(2,3,figsize=(12,8))\n",
    "\n",
    "for ci, (ax, i) in enumerate(zip(axs.flatten(), [3,5,8,14,23,50])):\n",
    "    ax.spines['right'].set_visible(False)\n",
    "    ax.spines['top'].set_visible(False)\n",
    "    ax.spines['left'].set_visible(False)\n",
    "    ax.spines['bottom'].set_visible(False)\n",
    "    ax.set_xticks([])\n",
    "    ax.set_yticks([])\n",
    "    \n",
    "    g = Gc[i]\n",
    "    pos = {node:(tgas.ra.value[node], tgas.dec.value[node]) for node in g.nodes()}\n",
    "    sca(ax)\n",
    "    color = palettable.tableau.Tableau_10.hex_colors[ci]\n",
    "    nx.draw_networkx(g, pos=pos, node_size=45, width=1, with_labels=False,\n",
    "                     node_color=color, edge_color='gray',linewidths=1.5)\n",
    "    linecollection = ax.collections[1]\n",
    "    linecollection.set_alpha(0.5)\n",
    "    pathcollection = ax.collections[0]\n",
    "    pathcollection.set_edgecolor('k')\n",
    "\n",
    "savefig('../talkfigures/cc_examples.png', dpi=150)"
   ]
  },
  {
   "cell_type": "code",
   "execution_count": null,
   "metadata": {
    "collapsed": false
   },
   "outputs": [],
   "source": [
    "# sorted list of subgraphs from largest to smallest\n",
    "Gc = array(sorted(nx.connected_component_subgraphs(graph), key=len, reverse=True))\n",
    "sizes = array([len(g) for g in Gc])"
   ]
  },
  {
   "cell_type": "markdown",
   "metadata": {},
   "source": [
    "## Load MWSC and OB Assc catalogs"
   ]
  },
  {
   "cell_type": "code",
   "execution_count": null,
   "metadata": {
    "collapsed": false,
    "scrolled": true
   },
   "outputs": [],
   "source": [
    "mwsc = Table.read('../data/J_A+A_585_A101/catalog.dat', readme='../data/J_A+A_585_A101/ReadMe',\n",
    "                 format='ascii.cds')\n",
    "print('total number of mwsc', len(mwsc))\n",
    "print('number of mwsc d<600 pc', (mwsc['d']<600).sum())"
   ]
  },
  {
   "cell_type": "code",
   "execution_count": null,
   "metadata": {
    "collapsed": false
   },
   "outputs": [],
   "source": [
    "obass = Table.read('../data/J_AJ_117_354/tablec1.dat', readme='../data/J_AJ_117_354/ReadMe',\n",
    "                    format='ascii.cds')\n",
    "print('OB association stars', len(obass))\n",
    "\n",
    "from astroquery.simbad import Simbad\n",
    "\n",
    "# query simbad on HIP id's to get coordinates\n",
    "customSimbad = Simbad()\n",
    "customSimbad.add_votable_fields('sptype', 'parallax')\n",
    "result = customSimbad.query_objects(['HIP %i' % hip for hip in obass['HIP']])\n",
    "print( unique([s.decode(\"utf-8\")[0] if len(s)>0 else '?' for s in result['SP_TYPE']]) )\n",
    "\n",
    "def get_distance(parallax, parallax_error):\n",
    "    \"\"\"\n",
    "    Return the distance [kpc] point estimate with the Lutz-Kelker correction\n",
    "    \n",
    "    parallax : float, in mas\n",
    "    parallax_error : float, in mas\n",
    "    \"\"\"\n",
    "    snr = parallax / parallax_error\n",
    "    pnew = parallax * (0.5 + 0.5*np.sqrt(1 - 16./snr**2))\n",
    "    # if snr<4, the value will be maksed\n",
    "    return 1./pnew\n",
    "\n",
    "obass_dist = get_distance(result['PLX_VALUE'], result['PLX_ERROR'])\n",
    "obass_c = coords.SkyCoord(result['RA'], result['DEC'], unit=(u.hourangle, u.deg),\n",
    "                          distance=obass_dist*u.kpc)\n",
    "obass_cg = obass_c.transform_to(coords.Galactic)"
   ]
  },
  {
   "cell_type": "markdown",
   "metadata": {},
   "source": [
    "# Distribution of CCs onto galactic plane"
   ]
  },
  {
   "cell_type": "code",
   "execution_count": null,
   "metadata": {
    "collapsed": true
   },
   "outputs": [],
   "source": [
    "from itertools import cycle\n",
    "colorloop = cycle(palettable.tableau.Tableau_20.hex_colors)\n",
    "\n",
    "def setup_figure():\n",
    "    fig = figure(figsize=(10,10))\n",
    "    fig.subplots_adjust(top=0.95,bottom=0.04,right=0.93,left=0.05)\n",
    "\n",
    "    ax = subplot(111)\n",
    "    ax.spines['right'].set_visible(False)\n",
    "    ax.spines['top'].set_visible(False)\n",
    "    ax.spines['left'].set_visible(False)\n",
    "    ax.spines['bottom'].set_visible(False)\n",
    "    ax.set_xticks([])\n",
    "    ax.set_yticks([])\n",
    "    \n",
    "    for r in [100,200,300,400]:\n",
    "        ax.add_patch(patches.Ellipse((0,0),r*2,r*2, facecolor='None', edgecolor='k'))\n",
    "        theta=deg2rad(50)\n",
    "        text(r*cos(theta), r*sin(theta), '%.0f pc' % (r), rotation=rad2deg(theta)-90, size=15)\n",
    "    \n",
    "    ax.set_xlim(-300,300)\n",
    "    ax.set_ylim(-300,300)\n",
    "    return fig, ax"
   ]
  },
  {
   "cell_type": "code",
   "execution_count": null,
   "metadata": {
    "collapsed": false
   },
   "outputs": [],
   "source": [
    "setup_figure()\n",
    "for g in Gc[::1]:\n",
    "    if len(g) > 5:\n",
    "        pos = {node:(d[node]*cos(deg2rad(tgas.b[node]))*cos(deg2rad(tgas.l[node])),\n",
    "                     d[node]*cos(deg2rad(tgas.b[node]))*sin(deg2rad(tgas.l[node]))) for node in g.nodes()}\n",
    "        nx.draw_networkx(g, pos=pos, node_size=10, width=1, with_labels=False,\n",
    "                         node_color=next(colorloop),\n",
    "                         edge_color='k')\n",
    "savefig('../talkfigures/dist_plane1.png', dpi=150)        "
   ]
  },
  {
   "cell_type": "code",
   "execution_count": null,
   "metadata": {
    "collapsed": false
   },
   "outputs": [],
   "source": [
    "fig, ax = setup_figure()\n",
    "for g in Gc[::1]:\n",
    "    if len(g) > 5:\n",
    "        pos = {node:(d[node]*cos(deg2rad(tgas.b[node]))*cos(deg2rad(tgas.l[node])),\n",
    "                     d[node]*cos(deg2rad(tgas.b[node]))*sin(deg2rad(tgas.l[node]))) for node in g.nodes()}\n",
    "        nx.draw_networkx(g, pos=pos, node_size=10, width=1, with_labels=False,\n",
    "                         node_color=next(colorloop),\n",
    "                         edge_color='k')\n",
    "\n",
    "for cc, ll, bb in mwsc['d', 'GLON', 'GLAT'][mwsc['d']<600]:\n",
    "    h1, = plot(cc*cos(deg2rad(bb))*cos(deg2rad(ll)), cc*cos(deg2rad(bb))*sin(deg2rad(ll)),\n",
    "               'o', ms=15, mfc='#428bca', mec='b', mew=1.5, alpha=.3)\n",
    "\n",
    "obass_x = obass_dist*1000*cos(obass_cg.b.to(u.rad).value)*cos(obass_cg.l.to(u.rad).value)\n",
    "obass_y = obass_dist*1000*cos(obass_cg.b.to(u.rad).value)*sin(obass_cg.l.to(u.rad).value)\n",
    "h2, = ax.plot(obass_x, obass_y,\n",
    "              c='#bebebe', marker='.', ls='None', zorder=-100)\n",
    "    \n",
    "savefig('../talkfigures/dist_plane2.png', dpi=150)  "
   ]
  },
  {
   "cell_type": "code",
   "execution_count": null,
   "metadata": {
    "collapsed": false
   },
   "outputs": [],
   "source": [
    "setup_figure()\n",
    "for g in Gc[::1]:\n",
    "    if len(g) > 5:\n",
    "        pos = {node:(d[node]*cos(deg2rad(tgas.b[node]))*cos(deg2rad(tgas.l[node])),\n",
    "                     d[node]*cos(deg2rad(tgas.b[node]))*sin(deg2rad(tgas.l[node]))) for node in g.nodes()}\n",
    "        nx.draw_networkx(g, pos=pos, node_size=10, width=1, with_labels=False,\n",
    "                         node_color=next(colorloop),\n",
    "                         edge_color='k')\n",
    "    else:\n",
    "        pos = {node:(d[node]*cos(deg2rad(tgas.b[node]))*cos(deg2rad(tgas.l[node])),\n",
    "                     d[node]*cos(deg2rad(tgas.b[node]))*sin(deg2rad(tgas.l[node]))) for node in g.nodes()}\n",
    "        nx.draw_networkx_edges(g, pos=pos, width=1, with_labels=False,\n",
    "                               edge_color='k',alpha=.5)\n",
    "    \n",
    "\n",
    "savefig('../talkfigures/dist_plane3.png', dpi=150)  "
   ]
  }
 ],
 "metadata": {
  "anaconda-cloud": {},
  "kernelspec": {
   "display_name": "Python [conda env:py35]",
   "language": "python",
   "name": "conda-env-py35-py"
  },
  "language_info": {
   "codemirror_mode": {
    "name": "ipython",
    "version": 3
   },
   "file_extension": ".py",
   "mimetype": "text/x-python",
   "name": "python",
   "nbconvert_exporter": "python",
   "pygments_lexer": "ipython3",
   "version": "3.5.2"
  }
 },
 "nbformat": 4,
 "nbformat_minor": 1
}
